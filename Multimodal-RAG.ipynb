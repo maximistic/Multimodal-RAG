{
  "cells": [
    {
      "cell_type": "code",
      "execution_count": null,
      "metadata": {
        "id": "tU-6Y502tY-_",
        "colab": {
          "base_uri": "https://localhost:8080/",
          "height": 70
        },
        "outputId": "06cbeb6e-a7e0-43d0-a2e0-0acafdcfac94"
      },
      "outputs": [
        {
          "output_type": "execute_result",
          "data": {
            "text/plain": [
              "'\\nData Collection and Pre-processing\\n  1. Dataset used - https://ocr-vqa.github.io/\\n  2. Steps Followed:\\n    2.1 Data Loading\\n    2.2 Text Extraction from Images   - OCR to extract text from images\\n    2.3 Image Summarization           - To generate a brief summary or caption for the images\\n    2.4 QA Pairs and MCQ Generation   - Format the extracted text and summaries into QA pairs\\n    2.5 Data Structuring              - To a format that can be easily integrated into a MuRAG pipeline\\n'"
            ],
            "application/vnd.google.colaboratory.intrinsic+json": {
              "type": "string"
            }
          },
          "metadata": {},
          "execution_count": 18
        }
      ],
      "source": [
        "'''\n",
        "Data Collection and Pre-processing\n",
        "  1. Dataset used - https://ocr-vqa.github.io/\n",
        "  2. Steps Followed:\n",
        "    2.1 Data Loading\n",
        "    2.2 Text Extraction from Images   - OCR to extract text from images\n",
        "    2.3 Image Summarization           - To generate a brief summary or caption for the images\n",
        "    2.4 QA Pairs and MCQ Generation   - Format the extracted text and summaries into QA pairs\n",
        "    2.5 Data Structuring              - To a format that can be easily integrated into a MuRAG pipeline\n",
        "'''"
      ]
    },
    {
      "cell_type": "markdown",
      "metadata": {
        "id": "txZLaD2GOkQb"
      },
      "source": [
        "**1. Data Collection and Pre-processing**"
      ]
    },
    {
      "cell_type": "code",
      "source": [
        "!apt-get install tesseract-ocr"
      ],
      "metadata": {
        "colab": {
          "base_uri": "https://localhost:8080/"
        },
        "id": "9bSOP8b6OBTs",
        "outputId": "54ef0b61-8da0-4fa1-a195-1bef7d7d299e"
      },
      "execution_count": null,
      "outputs": [
        {
          "output_type": "stream",
          "name": "stdout",
          "text": []
        },
        {
          "output_type": "stream",
          "name": "stderr",
          "text": [
            "/usr/local/lib/python3.10/dist-packages/transformers/generation/utils.py:1258: UserWarning: Using the model-agnostic default `max_length` (=20) to control the generation length. We recommend setting `max_new_tokens` to control the maximum length of the generation.\n",
            "  warnings.warn(\n"
          ]
        },
        {
          "output_type": "stream",
          "name": "stdout",
          "text": []
        },
        {
          "output_type": "stream",
          "name": "stderr",
          "text": [
            "WARNING:__main__:OCR failed for processed_images/1492621110.jpg: tesseract is not installed or it's not in your PATH. See README file for more information.\n"
          ]
        },
        {
          "output_type": "stream",
          "name": "stdout",
          "text": []
        },
        {
          "output_type": "stream",
          "name": "stderr",
          "text": [
            "/usr/local/lib/python3.10/dist-packages/transformers/generation/utils.py:1258: UserWarning: Using the model-agnostic default `max_length` (=20) to control the generation length. We recommend setting `max_new_tokens` to control the maximum length of the generation.\n",
            "  warnings.warn(\n"
          ]
        },
        {
          "output_type": "stream",
          "name": "stdout",
          "text": [
            "Reading package lists... Done\n",
            "Building dependency tree... Done\n",
            "Reading state information... Done\n"
          ]
        },
        {
          "output_type": "stream",
          "name": "stderr",
          "text": [
            "WARNING:__main__:OCR failed for processed_images/761188274.jpg: tesseract is not installed or it's not in your PATH. See README file for more information.\n",
            "WARNING:__main__:OCR failed for processed_images/1449461573.jpg: tesseract is not installed or it's not in your PATH. See README file for more information.\n"
          ]
        },
        {
          "output_type": "stream",
          "name": "stdout",
          "text": [
            "The following additional packages will be installed:\n",
            "  tesseract-ocr-eng tesseract-ocr-osd\n",
            "The following NEW packages will be installed:\n",
            "  tesseract-ocr tesseract-ocr-eng tesseract-ocr-osd\n",
            "0 upgraded, 3 newly installed, 0 to remove and 49 not upgraded.\n",
            "Need to get 4,816 kB of archives.\n",
            "After this operation, 15.6 MB of additional disk space will be used.\n",
            "Get:1 http://archive.ubuntu.com/ubuntu jammy/universe amd64 tesseract-ocr-eng all 1:4.00~git30-7274cfa-1.1 [1,591 kB]\n",
            "Get:2 http://archive.ubuntu.com/ubuntu jammy/universe amd64 tesseract-ocr-osd all 1:4.00~git30-7274cfa-1.1 [2,990 kB]\n",
            "Get:3 http://archive.ubuntu.com/ubuntu jammy/universe amd64 tesseract-ocr amd64 4.1.1-2.1build1 [236 kB]\n",
            "Fetched 4,816 kB in 1s (8,119 kB/s)\n"
          ]
        },
        {
          "output_type": "stream",
          "name": "stderr",
          "text": [
            "/usr/local/lib/python3.10/dist-packages/transformers/generation/utils.py:1258: UserWarning: Using the model-agnostic default `max_length` (=20) to control the generation length. We recommend setting `max_new_tokens` to control the maximum length of the generation.\n",
            "  warnings.warn(\n",
            "WARNING:__main__:OCR failed for processed_images/1452142068.jpg: tesseract is not installed or it's not in your PATH. See README file for more information.\n",
            "/usr/local/lib/python3.10/dist-packages/transformers/generation/utils.py:1258: UserWarning: Using the model-agnostic default `max_length` (=20) to control the generation length. We recommend setting `max_new_tokens` to control the maximum length of the generation.\n",
            "  warnings.warn(\n"
          ]
        },
        {
          "output_type": "stream",
          "name": "stdout",
          "text": [
            "Selecting previously unselected package tesseract-ocr-eng.\n",
            "(Reading database ... 123629 files and directories currently installed.)\n",
            "Preparing to unpack .../tesseract-ocr-eng_1%3a4.00~git30-7274cfa-1.1_all.deb ...\n",
            "Unpacking tesseract-ocr-eng (1:4.00~git30-7274cfa-1.1) ...\n"
          ]
        },
        {
          "output_type": "stream",
          "name": "stderr",
          "text": [
            "WARNING:__main__:OCR failed for processed_images/B00O80WC7C.jpg: tesseract is not installed or it's not in your PATH. See README file for more information.\n"
          ]
        },
        {
          "output_type": "stream",
          "name": "stdout",
          "text": [
            "Selecting previously unselected package tesseract-ocr-osd.\n",
            "Preparing to unpack .../tesseract-ocr-osd_1%3a4.00~git30-7274cfa-1.1_all.deb ...\n",
            "Unpacking tesseract-ocr-osd (1:4.00~git30-7274cfa-1.1) ...\n",
            "Selecting previously unselected package tesseract-ocr.\n",
            "Preparing to unpack .../tesseract-ocr_4.1.1-2.1build1_amd64.deb ...\n",
            "Unpacking tesseract-ocr (4.1.1-2.1build1) ...\n",
            "Setting up tesseract-ocr-eng (1:4.00~git30-7274cfa-1.1) ...\n",
            "Setting up tesseract-ocr-osd (1:4.00~git30-7274cfa-1.1) ...\n",
            "Setting up tesseract-ocr (4.1.1-2.1build1) ...\n",
            "Processing triggers for man-db (2.10.2-1) ...\n"
          ]
        }
      ]
    },
    {
      "cell_type": "code",
      "execution_count": null,
      "metadata": {
        "colab": {
          "base_uri": "https://localhost:8080/"
        },
        "id": "hLvsWwHftl6e",
        "outputId": "7a2da1d1-7517-4d05-fafb-8bd3a6e58f5c"
      },
      "outputs": [
        {
          "output_type": "stream",
          "name": "stderr",
          "text": [
            "/usr/local/lib/python3.10/dist-packages/transformers/tokenization_utils_base.py:1601: FutureWarning: `clean_up_tokenization_spaces` was not set. It will be set to `True` by default. This behavior will be depracted in transformers v4.45, and will be then set to `False` by default. For more details check this issue: https://github.com/huggingface/transformers/issues/31884\n",
            "  warnings.warn(\n",
            "WARNING:__main__:OCR failed for processed_images/B00O80WC6I.jpg: tesseract is not installed or it's not in your PATH. See README file for more information.\n",
            "WARNING:__main__:OCR failed for processed_images/761183272.jpg: tesseract is not installed or it's not in your PATH. See README file for more information.\n",
            "WARNING:__main__:OCR failed for processed_images/1623439671.jpg: tesseract is not installed or it's not in your PATH. See README file for more information.\n",
            "WARNING:__main__:OCR failed for processed_images/761182187.jpg: tesseract is not installed or it's not in your PATH. See README file for more information.\n",
            "/usr/local/lib/python3.10/dist-packages/transformers/generation/utils.py:1258: UserWarning: Using the model-agnostic default `max_length` (=20) to control the generation length. We recommend setting `max_new_tokens` to control the maximum length of the generation.\n",
            "  warnings.warn(\n",
            "Processing items:   0%|          | 0/207572 [00:00<?, ?it/s]"
          ]
        }
      ],
      "source": [
        "import json\n",
        "import pandas as pd\n",
        "import requests\n",
        "from PIL import Image\n",
        "from io import BytesIO\n",
        "import pytesseract\n",
        "from transformers import pipeline\n",
        "from tqdm import tqdm\n",
        "import os\n",
        "from concurrent.futures import ThreadPoolExecutor\n",
        "import logging\n",
        "import numpy as np\n",
        "\n",
        "class MuRAGPreprocessor:\n",
        "    def __init__(self, json_path, image_save_dir='processed_images', batch_size=32):\n",
        "        \"\"\"\n",
        "        Initialize the MuRAG preprocessor\n",
        "\n",
        "        Args:\n",
        "            json_path (str): Path to the OCR-VQA dataset JSON file\n",
        "            image_save_dir (str): Directory to save downloaded images\n",
        "            batch_size (int): Batch size for processing\n",
        "        \"\"\"\n",
        "        self.json_path = json_path\n",
        "        self.image_save_dir = image_save_dir\n",
        "        self.batch_size = batch_size\n",
        "        self.image_captioner = pipeline(\"image-to-text\", model=\"Salesforce/blip-image-captioning-base\")\n",
        "        logging.basicConfig(\n",
        "            level=logging.INFO,\n",
        "            format='%(asctime)s - %(levelname)s - %(message)s'\n",
        "        )\n",
        "        self.logger = logging.getLogger(__name__)\n",
        "        os.makedirs(image_save_dir, exist_ok=True)\n",
        "\n",
        "    def load_data(self):\n",
        "        \"\"\"Load and perform initial parsing of the dataset\"\"\"\n",
        "        try:\n",
        "            with open(self.json_path, 'r') as f:\n",
        "                self.raw_data = json.load(f)\n",
        "            self.logger.info(f\"Successfully loaded {len(self.raw_data)} items from dataset\")\n",
        "            return True\n",
        "        except Exception as e:\n",
        "            self.logger.error(f\"Error loading data: {str(e)}\")\n",
        "            return False\n",
        "\n",
        "    def download_image(self, image_id, url):\n",
        "        \"\"\"Download and save an image from URL\"\"\"\n",
        "        try:\n",
        "            response = requests.get(url, timeout=10)\n",
        "            if response.status_code == 200:\n",
        "                img_path = os.path.join(self.image_save_dir, f\"{image_id}.jpg\")\n",
        "                Image.open(BytesIO(response.content)).save(img_path)\n",
        "                return img_path\n",
        "            return None\n",
        "        except Exception as e:\n",
        "            self.logger.warning(f\"Failed to download image {image_id}: {str(e)}\")\n",
        "            return None\n",
        "\n",
        "    def extract_text_from_image(self, image_path):\n",
        "        \"\"\"Extract text from image using OCR\"\"\"\n",
        "        try:\n",
        "            if image_path and os.path.exists(image_path):\n",
        "                img = Image.open(image_path)\n",
        "                text = pytesseract.image_to_string(img)\n",
        "                return text.strip()\n",
        "            return \"\"\n",
        "        except Exception as e:\n",
        "            self.logger.warning(f\"OCR failed for {image_path}: {str(e)}\")\n",
        "            return \"\"\n",
        "\n",
        "    def generate_image_summary(self, image_path):\n",
        "        \"\"\"Generate a caption/summary for the image\"\"\"\n",
        "        try:\n",
        "            if image_path and os.path.exists(image_path):\n",
        "                image = Image.open(image_path)\n",
        "                caption = self.image_captioner(image)[0]['generated_text']\n",
        "                return caption\n",
        "            return \"\"\n",
        "        except Exception as e:\n",
        "            self.logger.warning(f\"Caption generation failed for {image_path}: {str(e)}\")\n",
        "            return \"\"\n",
        "\n",
        "    def generate_mcq(self, correct_answer, context):\n",
        "        \"\"\"Generate MCQ options including the correct answer\"\"\"\n",
        "        options = [correct_answer]\n",
        "        other_answers = [\n",
        "            ans for ans in set(context['answers'])\n",
        "            if ans != correct_answer\n",
        "        ]\n",
        "        options.extend(np.random.choice(other_answers, min(3, len(other_answers)), replace=False))\n",
        "        while len(options) < 4:\n",
        "            options.append(f\"None of the above {len(options)}\")\n",
        "        return options\n",
        "\n",
        "    def process_item(self, item_id, item_data):\n",
        "        \"\"\"Process a single dataset item\"\"\"\n",
        "        try:\n",
        "            image_path = self.download_image(item_id, item_data['imageURL'])\n",
        "            if not image_path:\n",
        "                return None\n",
        "            ocr_text = self.extract_text_from_image(image_path)\n",
        "            image_summary = self.generate_image_summary(image_path)\n",
        "            qa_pairs = []\n",
        "            for q, a in zip(item_data['questions'], item_data['answers']):\n",
        "                qa_pair = {\n",
        "                    'question': q,\n",
        "                    'answer': a,\n",
        "                    'options': self.generate_mcq(a, item_data),\n",
        "                    'context': {\n",
        "                        'ocr_text': ocr_text,\n",
        "                        'image_summary': image_summary,\n",
        "                        'title': item_data.get('title', ''),\n",
        "                        'author': item_data.get('authorName', ''),\n",
        "                        'genre': item_data.get('genre', ''),\n",
        "                        'image_path': image_path\n",
        "                    }\n",
        "                }\n",
        "                qa_pairs.append(qa_pair)\n",
        "\n",
        "            return qa_pairs\n",
        "\n",
        "        except Exception as e:\n",
        "            self.logger.error(f\"Error processing item {item_id}: {str(e)}\")\n",
        "            return None\n",
        "\n",
        "    def process_dataset(self):\n",
        "        \"\"\"Process the entire dataset\"\"\"\n",
        "        processed_data = []\n",
        "\n",
        "        with ThreadPoolExecutor(max_workers=4) as executor:\n",
        "            future_to_id = {\n",
        "                executor.submit(self.process_item, item_id, item_data): item_id\n",
        "                for item_id, item_data in self.raw_data.items()\n",
        "            }\n",
        "\n",
        "            for future in tqdm(future_to_id, desc=\"Processing items\"):\n",
        "                item_id = future_to_id[future]\n",
        "                try:\n",
        "                    result = future.result()\n",
        "                    if result:\n",
        "                        processed_data.extend(result)\n",
        "                except Exception as e:\n",
        "                    self.logger.error(f\"Failed to process item {item_id}: {str(e)}\")\n",
        "        self.save_processed_data(processed_data)\n",
        "        return processed_data\n",
        "\n",
        "    def save_processed_data(self, processed_data):\n",
        "        \"\"\"Save the processed dataset\"\"\"\n",
        "        try:\n",
        "            with open('processed_murag_data.json', 'w') as f:\n",
        "                json.dump(processed_data, f)\n",
        "            df = pd.DataFrame(processed_data)\n",
        "            df.to_csv('processed_murag_data.csv', index=False)\n",
        "\n",
        "            self.logger.info(f\"Successfully saved {len(processed_data)} processed items\")\n",
        "        except Exception as e:\n",
        "            self.logger.error(f\"Error saving processed data: {str(e)}\")\n",
        "\n",
        "def main():\n",
        "    preprocessor = MuRAGPreprocessor(\n",
        "        json_path='/content/dataset.json',\n",
        "        image_save_dir='processed_images',\n",
        "        batch_size=32\n",
        "    )\n",
        "\n",
        "    if preprocessor.load_data():\n",
        "        processed_data = preprocessor.process_dataset()\n",
        "        print(f\"Successfully processed {len(processed_data)} QA pairs\")\n",
        "\n",
        "if __name__ == \"__main__\":\n",
        "    main()"
      ]
    },
    {
      "cell_type": "code",
      "execution_count": null,
      "metadata": {
        "id": "ZbKoQyCzPYGg",
        "colab": {
          "base_uri": "https://localhost:8080/"
        },
        "outputId": "1c963bb9-c542-4321-f03f-508f58a8b889"
      },
      "outputs": [
        {
          "output_type": "stream",
          "name": "stderr",
          "text": [
            "/usr/local/lib/python3.10/dist-packages/transformers/tokenization_utils_base.py:1601: FutureWarning: `clean_up_tokenization_spaces` was not set. It will be set to `True` by default. This behavior will be depracted in transformers v4.45, and will be then set to `False` by default. For more details check this issue: https://github.com/huggingface/transformers/issues/31884\n",
            "  warnings.warn(\n",
            "Processing items:   0%|          | 0/50 [00:00<?, ?it/s]/usr/local/lib/python3.10/dist-packages/transformers/generation/utils.py:1258: UserWarning: Using the model-agnostic default `max_length` (=20) to control the generation length. We recommend setting `max_new_tokens` to control the maximum length of the generation.\n",
            "  warnings.warn(\n",
            "Processing items:   2%|▏         | 1/50 [01:12<58:56, 72.17s/it]/usr/local/lib/python3.10/dist-packages/transformers/generation/utils.py:1258: UserWarning: Using the model-agnostic default `max_length` (=20) to control the generation length. We recommend setting `max_new_tokens` to control the maximum length of the generation.\n",
            "  warnings.warn(\n",
            "/usr/local/lib/python3.10/dist-packages/transformers/generation/utils.py:1258: UserWarning: Using the model-agnostic default `max_length` (=20) to control the generation length. We recommend setting `max_new_tokens` to control the maximum length of the generation.\n",
            "  warnings.warn(\n",
            "Processing items:   6%|▌         | 3/50 [01:36<21:34, 27.54s/it]/usr/local/lib/python3.10/dist-packages/transformers/generation/utils.py:1258: UserWarning: Using the model-agnostic default `max_length` (=20) to control the generation length. We recommend setting `max_new_tokens` to control the maximum length of the generation.\n",
            "  warnings.warn(\n",
            "/usr/local/lib/python3.10/dist-packages/transformers/generation/utils.py:1258: UserWarning: Using the model-agnostic default `max_length` (=20) to control the generation length. We recommend setting `max_new_tokens` to control the maximum length of the generation.\n",
            "  warnings.warn(\n",
            "/usr/local/lib/python3.10/dist-packages/transformers/generation/utils.py:1258: UserWarning: Using the model-agnostic default `max_length` (=20) to control the generation length. We recommend setting `max_new_tokens` to control the maximum length of the generation.\n",
            "  warnings.warn(\n",
            "Processing items:  12%|█▏        | 6/50 [02:06<11:22, 15.52s/it]/usr/local/lib/python3.10/dist-packages/transformers/generation/utils.py:1258: UserWarning: Using the model-agnostic default `max_length` (=20) to control the generation length. We recommend setting `max_new_tokens` to control the maximum length of the generation.\n",
            "  warnings.warn(\n",
            "/usr/local/lib/python3.10/dist-packages/transformers/generation/utils.py:1258: UserWarning: Using the model-agnostic default `max_length` (=20) to control the generation length. We recommend setting `max_new_tokens` to control the maximum length of the generation.\n",
            "  warnings.warn(\n",
            "Processing items:  16%|█▌        | 8/50 [02:28<09:30, 13.59s/it]/usr/local/lib/python3.10/dist-packages/transformers/generation/utils.py:1258: UserWarning: Using the model-agnostic default `max_length` (=20) to control the generation length. We recommend setting `max_new_tokens` to control the maximum length of the generation.\n",
            "  warnings.warn(\n",
            "/usr/local/lib/python3.10/dist-packages/transformers/generation/utils.py:1258: UserWarning: Using the model-agnostic default `max_length` (=20) to control the generation length. We recommend setting `max_new_tokens` to control the maximum length of the generation.\n",
            "  warnings.warn(\n",
            "/usr/local/lib/python3.10/dist-packages/transformers/generation/utils.py:1258: UserWarning: Using the model-agnostic default `max_length` (=20) to control the generation length. We recommend setting `max_new_tokens` to control the maximum length of the generation.\n",
            "  warnings.warn(\n",
            "/usr/local/lib/python3.10/dist-packages/transformers/generation/utils.py:1258: UserWarning: Using the model-agnostic default `max_length` (=20) to control the generation length. We recommend setting `max_new_tokens` to control the maximum length of the generation.\n",
            "  warnings.warn(\n",
            "Processing items:  18%|█▊        | 9/50 [03:26<16:25, 24.05s/it]/usr/local/lib/python3.10/dist-packages/transformers/generation/utils.py:1258: UserWarning: Using the model-agnostic default `max_length` (=20) to control the generation length. We recommend setting `max_new_tokens` to control the maximum length of the generation.\n",
            "  warnings.warn(\n",
            "Processing items:  24%|██▍       | 12/50 [03:46<09:43, 15.36s/it]/usr/local/lib/python3.10/dist-packages/transformers/generation/utils.py:1258: UserWarning: Using the model-agnostic default `max_length` (=20) to control the generation length. We recommend setting `max_new_tokens` to control the maximum length of the generation.\n",
            "  warnings.warn(\n",
            "Processing items:  26%|██▌       | 13/50 [03:48<07:52, 12.78s/it]/usr/local/lib/python3.10/dist-packages/transformers/generation/utils.py:1258: UserWarning: Using the model-agnostic default `max_length` (=20) to control the generation length. We recommend setting `max_new_tokens` to control the maximum length of the generation.\n",
            "  warnings.warn(\n",
            "Processing items:  28%|██▊       | 14/50 [03:56<06:58, 11.64s/it]/usr/local/lib/python3.10/dist-packages/transformers/generation/utils.py:1258: UserWarning: Using the model-agnostic default `max_length` (=20) to control the generation length. We recommend setting `max_new_tokens` to control the maximum length of the generation.\n",
            "  warnings.warn(\n",
            "/usr/local/lib/python3.10/dist-packages/transformers/generation/utils.py:1258: UserWarning: Using the model-agnostic default `max_length` (=20) to control the generation length. We recommend setting `max_new_tokens` to control the maximum length of the generation.\n",
            "  warnings.warn(\n",
            "Processing items:  30%|███       | 15/50 [04:10<07:07, 12.22s/it]/usr/local/lib/python3.10/dist-packages/transformers/generation/utils.py:1258: UserWarning: Using the model-agnostic default `max_length` (=20) to control the generation length. We recommend setting `max_new_tokens` to control the maximum length of the generation.\n",
            "  warnings.warn(\n",
            "Processing items:  32%|███▏      | 16/50 [04:30<08:06, 14.30s/it]/usr/local/lib/python3.10/dist-packages/transformers/generation/utils.py:1258: UserWarning: Using the model-agnostic default `max_length` (=20) to control the generation length. We recommend setting `max_new_tokens` to control the maximum length of the generation.\n",
            "  warnings.warn(\n",
            "Processing items:  38%|███▊      | 19/50 [04:52<05:09, 10.00s/it]/usr/local/lib/python3.10/dist-packages/transformers/generation/utils.py:1258: UserWarning: Using the model-agnostic default `max_length` (=20) to control the generation length. We recommend setting `max_new_tokens` to control the maximum length of the generation.\n",
            "  warnings.warn(\n",
            "/usr/local/lib/python3.10/dist-packages/transformers/generation/utils.py:1258: UserWarning: Using the model-agnostic default `max_length` (=20) to control the generation length. We recommend setting `max_new_tokens` to control the maximum length of the generation.\n",
            "  warnings.warn(\n",
            "Processing items:  40%|████      | 20/50 [06:00<13:23, 26.77s/it]/usr/local/lib/python3.10/dist-packages/transformers/generation/utils.py:1258: UserWarning: Using the model-agnostic default `max_length` (=20) to control the generation length. We recommend setting `max_new_tokens` to control the maximum length of the generation.\n",
            "  warnings.warn(\n",
            "Processing items:  44%|████▍     | 22/50 [06:10<07:52, 16.88s/it]/usr/local/lib/python3.10/dist-packages/transformers/generation/utils.py:1258: UserWarning: Using the model-agnostic default `max_length` (=20) to control the generation length. We recommend setting `max_new_tokens` to control the maximum length of the generation.\n",
            "  warnings.warn(\n",
            "/usr/local/lib/python3.10/dist-packages/transformers/generation/utils.py:1258: UserWarning: Using the model-agnostic default `max_length` (=20) to control the generation length. We recommend setting `max_new_tokens` to control the maximum length of the generation.\n",
            "  warnings.warn(\n",
            "Processing items:  50%|█████     | 25/50 [06:45<05:48, 13.93s/it]/usr/local/lib/python3.10/dist-packages/transformers/generation/utils.py:1258: UserWarning: Using the model-agnostic default `max_length` (=20) to control the generation length. We recommend setting `max_new_tokens` to control the maximum length of the generation.\n",
            "  warnings.warn(\n",
            "Processing items:  52%|█████▏    | 26/50 [07:05<06:04, 15.20s/it]/usr/local/lib/python3.10/dist-packages/transformers/generation/utils.py:1258: UserWarning: Using the model-agnostic default `max_length` (=20) to control the generation length. We recommend setting `max_new_tokens` to control the maximum length of the generation.\n",
            "  warnings.warn(\n",
            "/usr/local/lib/python3.10/dist-packages/transformers/generation/utils.py:1258: UserWarning: Using the model-agnostic default `max_length` (=20) to control the generation length. We recommend setting `max_new_tokens` to control the maximum length of the generation.\n",
            "  warnings.warn(\n",
            "/usr/local/lib/python3.10/dist-packages/transformers/generation/utils.py:1258: UserWarning: Using the model-agnostic default `max_length` (=20) to control the generation length. We recommend setting `max_new_tokens` to control the maximum length of the generation.\n",
            "  warnings.warn(\n",
            "Processing items:  54%|█████▍    | 27/50 [07:40<07:47, 20.35s/it]/usr/local/lib/python3.10/dist-packages/transformers/generation/utils.py:1258: UserWarning: Using the model-agnostic default `max_length` (=20) to control the generation length. We recommend setting `max_new_tokens` to control the maximum length of the generation.\n",
            "  warnings.warn(\n",
            "/usr/local/lib/python3.10/dist-packages/transformers/generation/utils.py:1258: UserWarning: Using the model-agnostic default `max_length` (=20) to control the generation length. We recommend setting `max_new_tokens` to control the maximum length of the generation.\n",
            "  warnings.warn(\n",
            "Processing items:  60%|██████    | 30/50 [08:06<04:45, 14.26s/it]/usr/local/lib/python3.10/dist-packages/transformers/generation/utils.py:1258: UserWarning: Using the model-agnostic default `max_length` (=20) to control the generation length. We recommend setting `max_new_tokens` to control the maximum length of the generation.\n",
            "  warnings.warn(\n",
            "/usr/local/lib/python3.10/dist-packages/transformers/generation/utils.py:1258: UserWarning: Using the model-agnostic default `max_length` (=20) to control the generation length. We recommend setting `max_new_tokens` to control the maximum length of the generation.\n",
            "  warnings.warn(\n",
            "/usr/local/lib/python3.10/dist-packages/transformers/generation/utils.py:1258: UserWarning: Using the model-agnostic default `max_length` (=20) to control the generation length. We recommend setting `max_new_tokens` to control the maximum length of the generation.\n",
            "  warnings.warn(\n",
            "Processing items:  62%|██████▏   | 31/50 [08:54<06:38, 20.98s/it]/usr/local/lib/python3.10/dist-packages/transformers/generation/utils.py:1258: UserWarning: Using the model-agnostic default `max_length` (=20) to control the generation length. We recommend setting `max_new_tokens` to control the maximum length of the generation.\n",
            "  warnings.warn(\n",
            "/usr/local/lib/python3.10/dist-packages/transformers/generation/utils.py:1258: UserWarning: Using the model-agnostic default `max_length` (=20) to control the generation length. We recommend setting `max_new_tokens` to control the maximum length of the generation.\n",
            "  warnings.warn(\n",
            "/usr/local/lib/python3.10/dist-packages/transformers/generation/utils.py:1258: UserWarning: Using the model-agnostic default `max_length` (=20) to control the generation length. We recommend setting `max_new_tokens` to control the maximum length of the generation.\n",
            "  warnings.warn(\n",
            "Processing items:  68%|██████▊   | 34/50 [09:32<04:34, 17.16s/it]/usr/local/lib/python3.10/dist-packages/transformers/generation/utils.py:1258: UserWarning: Using the model-agnostic default `max_length` (=20) to control the generation length. We recommend setting `max_new_tokens` to control the maximum length of the generation.\n",
            "  warnings.warn(\n",
            "/usr/local/lib/python3.10/dist-packages/transformers/generation/utils.py:1258: UserWarning: Using the model-agnostic default `max_length` (=20) to control the generation length. We recommend setting `max_new_tokens` to control the maximum length of the generation.\n",
            "  warnings.warn(\n",
            "/usr/local/lib/python3.10/dist-packages/transformers/generation/utils.py:1258: UserWarning: Using the model-agnostic default `max_length` (=20) to control the generation length. We recommend setting `max_new_tokens` to control the maximum length of the generation.\n",
            "  warnings.warn(\n",
            "/usr/local/lib/python3.10/dist-packages/transformers/generation/utils.py:1258: UserWarning: Using the model-agnostic default `max_length` (=20) to control the generation length. We recommend setting `max_new_tokens` to control the maximum length of the generation.\n",
            "  warnings.warn(\n",
            "Processing items:  72%|███████▏  | 36/50 [10:15<04:18, 18.44s/it]/usr/local/lib/python3.10/dist-packages/transformers/generation/utils.py:1258: UserWarning: Using the model-agnostic default `max_length` (=20) to control the generation length. We recommend setting `max_new_tokens` to control the maximum length of the generation.\n",
            "  warnings.warn(\n",
            "/usr/local/lib/python3.10/dist-packages/transformers/generation/utils.py:1258: UserWarning: Using the model-agnostic default `max_length` (=20) to control the generation length. We recommend setting `max_new_tokens` to control the maximum length of the generation.\n",
            "  warnings.warn(\n",
            "Processing items:  78%|███████▊  | 39/50 [10:43<02:42, 14.80s/it]/usr/local/lib/python3.10/dist-packages/transformers/generation/utils.py:1258: UserWarning: Using the model-agnostic default `max_length` (=20) to control the generation length. We recommend setting `max_new_tokens` to control the maximum length of the generation.\n",
            "  warnings.warn(\n",
            "Processing items:  84%|████████▍ | 42/50 [11:22<01:46, 13.37s/it]/usr/local/lib/python3.10/dist-packages/transformers/generation/utils.py:1258: UserWarning: Using the model-agnostic default `max_length` (=20) to control the generation length. We recommend setting `max_new_tokens` to control the maximum length of the generation.\n",
            "  warnings.warn(\n",
            "/usr/local/lib/python3.10/dist-packages/transformers/generation/utils.py:1258: UserWarning: Using the model-agnostic default `max_length` (=20) to control the generation length. We recommend setting `max_new_tokens` to control the maximum length of the generation.\n",
            "  warnings.warn(\n",
            "/usr/local/lib/python3.10/dist-packages/transformers/generation/utils.py:1258: UserWarning: Using the model-agnostic default `max_length` (=20) to control the generation length. We recommend setting `max_new_tokens` to control the maximum length of the generation.\n",
            "  warnings.warn(\n",
            "Processing items:  86%|████████▌ | 43/50 [12:14<02:37, 22.43s/it]/usr/local/lib/python3.10/dist-packages/transformers/generation/utils.py:1258: UserWarning: Using the model-agnostic default `max_length` (=20) to control the generation length. We recommend setting `max_new_tokens` to control the maximum length of the generation.\n",
            "  warnings.warn(\n",
            "Processing items:  94%|█████████▍| 47/50 [12:58<00:43, 14.38s/it]/usr/local/lib/python3.10/dist-packages/transformers/generation/utils.py:1258: UserWarning: Using the model-agnostic default `max_length` (=20) to control the generation length. We recommend setting `max_new_tokens` to control the maximum length of the generation.\n",
            "  warnings.warn(\n",
            "/usr/local/lib/python3.10/dist-packages/transformers/generation/utils.py:1258: UserWarning: Using the model-agnostic default `max_length` (=20) to control the generation length. We recommend setting `max_new_tokens` to control the maximum length of the generation.\n",
            "  warnings.warn(\n",
            "/usr/local/lib/python3.10/dist-packages/transformers/generation/utils.py:1258: UserWarning: Using the model-agnostic default `max_length` (=20) to control the generation length. We recommend setting `max_new_tokens` to control the maximum length of the generation.\n",
            "  warnings.warn(\n",
            "Processing items:  98%|█████████▊| 49/50 [13:35<00:14, 14.80s/it]/usr/local/lib/python3.10/dist-packages/transformers/generation/utils.py:1258: UserWarning: Using the model-agnostic default `max_length` (=20) to control the generation length. We recommend setting `max_new_tokens` to control the maximum length of the generation.\n",
            "  warnings.warn(\n",
            "Processing items: 100%|██████████| 50/50 [13:51<00:00, 16.63s/it]\n"
          ]
        },
        {
          "output_type": "stream",
          "name": "stdout",
          "text": [
            "Successfully processed 267 QA pairs\n"
          ]
        }
      ],
      "source": [
        "import json\n",
        "import pandas as pd\n",
        "import requests\n",
        "from PIL import Image\n",
        "from io import BytesIO\n",
        "import pytesseract\n",
        "from transformers import pipeline\n",
        "from tqdm import tqdm\n",
        "import os\n",
        "from concurrent.futures import ThreadPoolExecutor\n",
        "import logging\n",
        "import numpy as np\n",
        "\n",
        "class MuRAGPreprocessor:\n",
        "    def __init__(self, json_path, image_save_dir='processed_images', batch_size=32, max_items=None):\n",
        "        \"\"\"\n",
        "        Initialize the MuRAG preprocessor\n",
        "\n",
        "        Args:\n",
        "            json_path (str): Path to the OCR-VQA dataset JSON file\n",
        "            image_save_dir (str): Directory to save downloaded images\n",
        "            batch_size (int): Batch size for processing\n",
        "            max_items (int): Maximum number of items to process (default is None for all)\n",
        "        \"\"\"\n",
        "        self.json_path = json_path\n",
        "        self.image_save_dir = image_save_dir\n",
        "        self.batch_size = batch_size\n",
        "        self.max_items = max_items\n",
        "        self.image_captioner = pipeline(\"image-to-text\", model=\"Salesforce/blip-image-captioning-base\")\n",
        "        logging.basicConfig(\n",
        "            level=logging.INFO,\n",
        "            format='%(asctime)s - %(levelname)s - %(message)s'\n",
        "        )\n",
        "        self.logger = logging.getLogger(__name__)\n",
        "        os.makedirs(image_save_dir, exist_ok=True)\n",
        "\n",
        "    def load_data(self):\n",
        "        \"\"\"Load and perform initial parsing of the dataset\"\"\"\n",
        "        try:\n",
        "            with open(self.json_path, 'r') as f:\n",
        "                self.raw_data = json.load(f)\n",
        "            if self.max_items:\n",
        "                self.raw_data = dict(list(self.raw_data.items())[:self.max_items])\n",
        "\n",
        "            self.logger.info(f\"Successfully loaded {len(self.raw_data)} items from dataset\")\n",
        "            return True\n",
        "        except Exception as e:\n",
        "            self.logger.error(f\"Error loading data: {str(e)}\")\n",
        "            return False\n",
        "\n",
        "    def download_image(self, image_id, url):\n",
        "        \"\"\"Download and save an image from URL\"\"\"\n",
        "        try:\n",
        "            response = requests.get(url, timeout=10)\n",
        "            if response.status_code == 200:\n",
        "                img_path = os.path.join(self.image_save_dir, f\"{image_id}.jpg\")\n",
        "                Image.open(BytesIO(response.content)).save(img_path)\n",
        "                return img_path\n",
        "            return None\n",
        "        except Exception as e:\n",
        "            self.logger.warning(f\"Failed to download image {image_id}: {str(e)}\")\n",
        "            return None\n",
        "\n",
        "    def extract_text_from_image(self, image_path):\n",
        "        \"\"\"Extract text from image using OCR\"\"\"\n",
        "        try:\n",
        "            if image_path and os.path.exists(image_path):\n",
        "                img = Image.open(image_path)\n",
        "                text = pytesseract.image_to_string(img)\n",
        "                return text.strip()\n",
        "            return \"\"\n",
        "        except Exception as e:\n",
        "            self.logger.warning(f\"OCR failed for {image_path}: {str(e)}\")\n",
        "            return \"\"\n",
        "\n",
        "    def generate_image_summary(self, image_path):\n",
        "        \"\"\"Generate a caption/summary for the image\"\"\"\n",
        "        try:\n",
        "            if image_path and os.path.exists(image_path):\n",
        "                image = Image.open(image_path)\n",
        "                caption = self.image_captioner(image)[0]['generated_text']\n",
        "                return caption\n",
        "            return \"\"\n",
        "        except Exception as e:\n",
        "            self.logger.warning(f\"Caption generation failed for {image_path}: {str(e)}\")\n",
        "            return \"\"\n",
        "\n",
        "    def generate_mcq(self, correct_answer, context):\n",
        "        \"\"\"Generate MCQ options including the correct answer\"\"\"\n",
        "        options = [correct_answer]\n",
        "        other_answers = [\n",
        "            ans for ans in set(context['answers'])\n",
        "            if ans != correct_answer\n",
        "        ]\n",
        "        options.extend(np.random.choice(other_answers, min(3, len(other_answers)), replace=False))\n",
        "        while len(options) < 4:\n",
        "            options.append(f\"None of the above {len(options)}\")\n",
        "        return options\n",
        "\n",
        "    def process_item(self, item_id, item_data):\n",
        "        \"\"\"Process a single dataset item\"\"\"\n",
        "        try:\n",
        "            image_path = self.download_image(item_id, item_data['imageURL'])\n",
        "            if not image_path:\n",
        "                return None\n",
        "            ocr_text = self.extract_text_from_image(image_path)\n",
        "            image_summary = self.generate_image_summary(image_path)\n",
        "            qa_pairs = []\n",
        "            for q, a in zip(item_data['questions'], item_data['answers']):\n",
        "                qa_pair = {\n",
        "                    'question': q,\n",
        "                    'answer': a,\n",
        "                    'options': self.generate_mcq(a, item_data),\n",
        "                    'context': {\n",
        "                        'ocr_text': ocr_text,\n",
        "                        'image_summary': image_summary,\n",
        "                        'title': item_data.get('title', ''),\n",
        "                        'author': item_data.get('authorName', ''),\n",
        "                        'genre': item_data.get('genre', ''),\n",
        "                        'image_path': image_path\n",
        "                    }\n",
        "                }\n",
        "                qa_pairs.append(qa_pair)\n",
        "\n",
        "            return qa_pairs\n",
        "\n",
        "        except Exception as e:\n",
        "            self.logger.error(f\"Error processing item {item_id}: {str(e)}\")\n",
        "            return None\n",
        "\n",
        "    def process_dataset(self):\n",
        "        \"\"\"Process the entire dataset\"\"\"\n",
        "        processed_data = []\n",
        "\n",
        "        with ThreadPoolExecutor(max_workers=4) as executor:\n",
        "            future_to_id = {\n",
        "                executor.submit(self.process_item, item_id, item_data): item_id\n",
        "                for item_id, item_data in self.raw_data.items()\n",
        "            }\n",
        "\n",
        "            for future in tqdm(future_to_id, desc=\"Processing items\"):\n",
        "                item_id = future_to_id[future]\n",
        "                try:\n",
        "                    result = future.result()\n",
        "                    if result:\n",
        "                        processed_data.extend(result)\n",
        "                except Exception as e:\n",
        "                    self.logger.error(f\"Failed to process item {item_id}: {str(e)}\")\n",
        "        self.save_processed_data(processed_data)\n",
        "        return processed_data\n",
        "\n",
        "    def save_processed_data(self, processed_data):\n",
        "        \"\"\"Save the processed dataset\"\"\"\n",
        "        try:\n",
        "            with open('processed_murag_data.json', 'w') as f:\n",
        "                json.dump(processed_data, f)\n",
        "            df = pd.DataFrame(processed_data)\n",
        "            df.to_csv('processed_murag_data.csv', index=False)\n",
        "\n",
        "            self.logger.info(f\"Successfully saved {len(processed_data)} processed items\")\n",
        "        except Exception as e:\n",
        "            self.logger.error(f\"Error saving processed data: {str(e)}\")\n",
        "\n",
        "def main():\n",
        "    preprocessor = MuRAGPreprocessor(\n",
        "        json_path='/content/dataset.json',\n",
        "        image_save_dir='processed_images2',\n",
        "        batch_size=32,\n",
        "        max_items=50\n",
        "    )\n",
        "\n",
        "    if preprocessor.load_data():\n",
        "        processed_data = preprocessor.process_dataset()\n",
        "        print(f\"Successfully processed {len(processed_data)} QA pairs\")\n",
        "\n",
        "if __name__ == \"__main__\":\n",
        "    main()"
      ]
    },
    {
      "cell_type": "code",
      "source": [
        "!pip install torch torchvision transformers datasets faiss-cpu\n"
      ],
      "metadata": {
        "id": "J_wwjeKRQA58"
      },
      "execution_count": null,
      "outputs": []
    },
    {
      "cell_type": "code",
      "source": [
        "import os\n",
        "import json\n",
        "import pandas as pd\n",
        "from torchvision import transforms\n",
        "from PIL import Image\n",
        "from torch.utils.data import Dataset, DataLoader\n",
        "\n",
        "class MuRAGDataset(Dataset):\n",
        "    def __init__(self, data_file, image_transform=None):\n",
        "        self.data = pd.read_json(data_file)  # Assuming processed data is in JSON format\n",
        "        self.image_transform = image_transform\n",
        "\n",
        "    def __len__(self):\n",
        "        return len(self.data)\n",
        "\n",
        "    def __getitem__(self, idx):\n",
        "        item = self.data.iloc[idx]\n",
        "        image_path = item['context']['image_path']\n",
        "        image = Image.open(image_path)\n",
        "\n",
        "        if self.image_transform:\n",
        "            image = self.image_transform(image)\n",
        "\n",
        "        return {\n",
        "            'text': item['question'],\n",
        "            'image': image,\n",
        "            'label': item['answer']\n",
        "        }\n",
        "\n",
        "# Define image transformations\n",
        "image_transform = transforms.Compose([\n",
        "    transforms.Resize((224, 224)),  # Resize for the model\n",
        "    transforms.ToTensor(),\n",
        "])\n",
        "\n",
        "# Create dataset and dataloader\n",
        "dataset = MuRAGDataset('processed_murag_data.json', image_transform=image_transform)\n",
        "dataloader = DataLoader(dataset, batch_size=32, shuffle=True)\n",
        "\n",
        "# Collect all unique labels from your dataset\n",
        "unique_labels = set()\n",
        "for idx in range(len(dataset)):\n",
        "    unique_labels.add(dataset[idx]['label'])\n",
        "\n",
        "# Print unique labels to verify\n",
        "print(\"Unique labels in dataset:\", unique_labels)\n",
        "\n",
        "# Define your label-to-index mapping based on the unique labels\n",
        "label_to_index = {label: idx for idx, label in enumerate(unique_labels)}\n",
        "print(\"Label to index mapping:\", label_to_index)\n"
      ],
      "metadata": {
        "id": "XusACdBpQBXO",
        "colab": {
          "base_uri": "https://localhost:8080/"
        },
        "outputId": "9a54de73-9352-4b34-efda-08be6eb2d6d7"
      },
      "execution_count": null,
      "outputs": [
        {
          "output_type": "stream",
          "name": "stdout",
          "text": [
            "Unique labels in dataset: {'Amy Knapp', 'Grumpy Cat 2016 Wall Calendar', 'No', 'Workman Publishing', 'Audubon Engagement Calendar 2016', '2016 Almond Blossoms Weekly Planner (16-Month Engagement Calendar, Diary)', 'Amc', 'Ansel Adams 2016 Wall Calendar', 'MAXINE  Year-In-A-Box Calendar (2016)', '2015', 'Audubon Nature Wall Calendar 2016', 'Mary Engelbreit 2016 Deluxe Wall Calendar: Never Give Up', 'Linda Dannenberg', \"Llewellyn's 2016 Witches' Datebook\", 'Mary Engelbreit 2016 Monthly Pocket Planner: Just Being ME!', 'Doug the Pug 2016 Wall Calendar', 'Old FarmerEEs Almanac', 'Anne Taintor 2016 Wall Calendar', 'Chihuly 2016 Wall Calendar', 'Nintendo', 'Barbara Ardinger', \"Llewellyn's 2016 Witches' Calendar\", 'Anne Taintor', 'Dale Chihuly', 'Sierra Club Engagement Calendar 2016', '2016 National Park Foundation Wall Calendar', \"Mom's Family Wall Calendar 2016\", 'Today Is Going to Be a Great Day! Color Page-A-Day Calendar 2016', 'Moleskine 2015-2016 Weekly Notebook, 18M, Large, Black, Soft Cover (5 x 8.25)', 'Moleskine', 'Thomas Kinkade: The Disney Dreams Collection 2016 Wall Calendar', '365 New Words-A-Year Page-A-Day Calendar 2016', 'Pusheen the Cat 2016 Wall Calendar', 'Moleskine 2016 Weekly Notebook, 12M, Extra Large, Black, Soft Cover (7.5 x 10)', 'Mary Engelbreit', 'Moleskine 2016 Monthly Notebook, 12M, Extra Large, Black, Soft Cover (7.5 x 10)', 'Day Dream', 'Dog Page-A-Day Gallery Calendar 2016', '2016', '365 Cats Color Page-A-Day Calendar 2016', 'Sierra Club Wilderness Calendar 2016', 'Llewellyn', 'Cat Page-A-Day Gallery Calendar 2016', 'Starz', 'Dilbert 2016 Day-to-Day Calendar', 'The Legend of Zelda 2016 Wall Calendar', 'French Country Diary 2016 Calendar', 'Year-In-A-Box', 'Mary Engelbreit 2016 Day-to-Day Calendar: Enjoy the Joy', 'Audubon Birds Page-A-Day Gallery Calendar 2016', 'Yes', 'Thomas Kinkade', 'Sierra Club', '365 Dogs Color Page-A-Day Calendar 2016', '2016 Amy Knapp Big Grid Wall Calendar: The essential organization and communication tool for the entire family', 'Posh: Coloring 2016 Day-to-Day Calendar: For Fun & Relaxation', 'Moleskine 2016 Weekly Notebook, 12M, Large, Black, Soft Cover (5 x 8.25)', \"The Complete Runner's Day-by-Day Log 2016 Calendar\", 'Thaneeya McArdle', 'National Audubon Society', 'Moleskine 2016 Weekly Notebook, 12M, Pocket, Black, Soft Cover (3.5 x 5.5)', 'Claire Belton', 'Grumpy Cat', 'Calendars', '2016 Susan Branch Wall Calendar', 'Someecards', 'Peter Pauper Press', 'Walking Dead 2016 Wall Calendar', 'Andrews McMeel Publishing LLC', 'George R. R. Martin', 'Posh: Coloring 2015-2016 Large Monthly/Weekly Planning Calendar', 'Once Upon a Time Wall Calendar (2016)', 'Outlander 2016 Wall Calendar', \"The Old Farmer's Almanac 2016 Gardening Calendar\", 'Susan Branch', 'Merriam-Webster', \"Mary Engelbreit 2016 Weekly Planner Calendar: Smile! It's Good For  You\", 'Sandra Boynton', 'Jane Meredith', '2016 Someecards Daily Desktop Calendar', 'Scott Adams', 'A Song of Ice and Fire 2016 Calendar', 'National Parks Foundation', 'Disney Descendants Wall Calendar (2016)', \"Llewellyn's 2016 Astrological Calendar: 83rd Edition of the World's Best Known, Most Trusted Astrology Calendar\", 'Doug the Pug', 'Color Your Year Wall Calendar 2016: Mindful Coloring Through the Seasons', 'Marty Jerome'}\n",
            "Label to index mapping: {'Amy Knapp': 0, 'Grumpy Cat 2016 Wall Calendar': 1, 'No': 2, 'Workman Publishing': 3, 'Audubon Engagement Calendar 2016': 4, '2016 Almond Blossoms Weekly Planner (16-Month Engagement Calendar, Diary)': 5, 'Amc': 6, 'Ansel Adams 2016 Wall Calendar': 7, 'MAXINE  Year-In-A-Box Calendar (2016)': 8, '2015': 9, 'Audubon Nature Wall Calendar 2016': 10, 'Mary Engelbreit 2016 Deluxe Wall Calendar: Never Give Up': 11, 'Linda Dannenberg': 12, \"Llewellyn's 2016 Witches' Datebook\": 13, 'Mary Engelbreit 2016 Monthly Pocket Planner: Just Being ME!': 14, 'Doug the Pug 2016 Wall Calendar': 15, 'Old FarmerEEs Almanac': 16, 'Anne Taintor 2016 Wall Calendar': 17, 'Chihuly 2016 Wall Calendar': 18, 'Nintendo': 19, 'Barbara Ardinger': 20, \"Llewellyn's 2016 Witches' Calendar\": 21, 'Anne Taintor': 22, 'Dale Chihuly': 23, 'Sierra Club Engagement Calendar 2016': 24, '2016 National Park Foundation Wall Calendar': 25, \"Mom's Family Wall Calendar 2016\": 26, 'Today Is Going to Be a Great Day! Color Page-A-Day Calendar 2016': 27, 'Moleskine 2015-2016 Weekly Notebook, 18M, Large, Black, Soft Cover (5 x 8.25)': 28, 'Moleskine': 29, 'Thomas Kinkade: The Disney Dreams Collection 2016 Wall Calendar': 30, '365 New Words-A-Year Page-A-Day Calendar 2016': 31, 'Pusheen the Cat 2016 Wall Calendar': 32, 'Moleskine 2016 Weekly Notebook, 12M, Extra Large, Black, Soft Cover (7.5 x 10)': 33, 'Mary Engelbreit': 34, 'Moleskine 2016 Monthly Notebook, 12M, Extra Large, Black, Soft Cover (7.5 x 10)': 35, 'Day Dream': 36, 'Dog Page-A-Day Gallery Calendar 2016': 37, '2016': 38, '365 Cats Color Page-A-Day Calendar 2016': 39, 'Sierra Club Wilderness Calendar 2016': 40, 'Llewellyn': 41, 'Cat Page-A-Day Gallery Calendar 2016': 42, 'Starz': 43, 'Dilbert 2016 Day-to-Day Calendar': 44, 'The Legend of Zelda 2016 Wall Calendar': 45, 'French Country Diary 2016 Calendar': 46, 'Year-In-A-Box': 47, 'Mary Engelbreit 2016 Day-to-Day Calendar: Enjoy the Joy': 48, 'Audubon Birds Page-A-Day Gallery Calendar 2016': 49, 'Yes': 50, 'Thomas Kinkade': 51, 'Sierra Club': 52, '365 Dogs Color Page-A-Day Calendar 2016': 53, '2016 Amy Knapp Big Grid Wall Calendar: The essential organization and communication tool for the entire family': 54, 'Posh: Coloring 2016 Day-to-Day Calendar: For Fun & Relaxation': 55, 'Moleskine 2016 Weekly Notebook, 12M, Large, Black, Soft Cover (5 x 8.25)': 56, \"The Complete Runner's Day-by-Day Log 2016 Calendar\": 57, 'Thaneeya McArdle': 58, 'National Audubon Society': 59, 'Moleskine 2016 Weekly Notebook, 12M, Pocket, Black, Soft Cover (3.5 x 5.5)': 60, 'Claire Belton': 61, 'Grumpy Cat': 62, 'Calendars': 63, '2016 Susan Branch Wall Calendar': 64, 'Someecards': 65, 'Peter Pauper Press': 66, 'Walking Dead 2016 Wall Calendar': 67, 'Andrews McMeel Publishing LLC': 68, 'George R. R. Martin': 69, 'Posh: Coloring 2015-2016 Large Monthly/Weekly Planning Calendar': 70, 'Once Upon a Time Wall Calendar (2016)': 71, 'Outlander 2016 Wall Calendar': 72, \"The Old Farmer's Almanac 2016 Gardening Calendar\": 73, 'Susan Branch': 74, 'Merriam-Webster': 75, \"Mary Engelbreit 2016 Weekly Planner Calendar: Smile! It's Good For  You\": 76, 'Sandra Boynton': 77, 'Jane Meredith': 78, '2016 Someecards Daily Desktop Calendar': 79, 'Scott Adams': 80, 'A Song of Ice and Fire 2016 Calendar': 81, 'National Parks Foundation': 82, 'Disney Descendants Wall Calendar (2016)': 83, \"Llewellyn's 2016 Astrological Calendar: 83rd Edition of the World's Best Known, Most Trusted Astrology Calendar\": 84, 'Doug the Pug': 85, 'Color Your Year Wall Calendar 2016: Mindful Coloring Through the Seasons': 86, 'Marty Jerome': 87}\n"
          ]
        }
      ]
    },
    {
      "cell_type": "code",
      "source": [
        "import torch\n",
        "import torch.nn as nn\n",
        "from transformers import BertModel, BertTokenizer\n",
        "from torchvision import models\n",
        "\n",
        "class MuRAG(nn.Module):\n",
        "    def __init__(self, num_classes):\n",
        "        super(MuRAG, self).__init__()\n",
        "        self.bert = BertModel.from_pretrained(\"bert-base-uncased\")\n",
        "        self.bert_tokenizer = BertTokenizer.from_pretrained(\"bert-base-uncased\")\n",
        "\n",
        "        self.resnet = models.resnet50(pretrained=True)\n",
        "        self.resnet.fc = nn.Identity()  # Remove classification layer\n",
        "\n",
        "        self.fc = nn.Linear(self.bert.config.hidden_size + 2048, num_classes)  # Combine outputs\n",
        "\n",
        "    def forward(self, text, images):\n",
        "        # Tokenize text and get embeddings\n",
        "        text_inputs = self.bert_tokenizer(text, padding=True, truncation=True, return_tensors='pt')\n",
        "        text_outputs = self.bert(**text_inputs)\n",
        "        text_embedding = text_outputs.pooler_output\n",
        "\n",
        "        # Get image embeddings\n",
        "        image_embeddings = self.resnet(images)\n",
        "\n",
        "        # Combine embeddings\n",
        "        combined = torch.cat((text_embedding, image_embeddings), dim=1)\n",
        "        output = self.fc(combined)\n",
        "\n",
        "        return output\n"
      ],
      "metadata": {
        "id": "XEnlKdzCWe_c"
      },
      "execution_count": null,
      "outputs": []
    },
    {
      "cell_type": "code",
      "source": [
        "from tqdm import tqdm\n",
        "\n",
        "def train(model, dataloader, device, epochs=5):\n",
        "    model.train()\n",
        "    optimizer = torch.optim.Adam(model.parameters(), lr=1e-4)\n",
        "    criterion = nn.CrossEntropyLoss()\n",
        "\n",
        "    for epoch in range(epochs):\n",
        "        total_loss = 0\n",
        "        correct = 0\n",
        "        total = 0\n",
        "        for batch in tqdm(dataloader):\n",
        "            text, images, labels = batch['text'], batch['image'].to(device), batch['label']\n",
        "\n",
        "            # Debug: print labels to check values\n",
        "            print(f\"Batch Labels: {labels}\")\n",
        "\n",
        "            # Normalize and map labels to indices\n",
        "            labels = [label.strip() for label in labels]  # Clean labels\n",
        "            labels = torch.tensor([label_to_index.get(label, -1) for label in labels]).to(device)\n",
        "\n",
        "            # Debug: print mapped labels to check for invalid values\n",
        "            print(f\"Mapped Labels: {labels}\")\n",
        "\n",
        "            # Filter out invalid labels\n",
        "            valid_mask = labels != -1\n",
        "            if not valid_mask.any():\n",
        "                print(\"Warning: Skipping batch with all invalid labels.\")\n",
        "                continue  # Skip batch with all invalid labels\n",
        "\n",
        "            # Filter batch based on valid labels\n",
        "            text = [t for t, valid in zip(text, valid_mask) if valid]\n",
        "            images = images[valid_mask]\n",
        "            labels = labels[valid_mask]\n",
        "\n",
        "            # Forward pass\n",
        "            outputs = model(text, images)\n",
        "            loss = criterion(outputs, labels)\n",
        "\n",
        "            # Backward pass\n",
        "            optimizer.zero_grad()\n",
        "            loss.backward()\n",
        "            optimizer.step()\n",
        "\n",
        "            total_loss += loss.item()\n",
        "            _, predicted = torch.max(outputs.data, 1)\n",
        "            correct += (predicted == labels).sum().item()\n",
        "            total += labels.size(0)\n",
        "\n",
        "            print(f\"Epoch [{epoch + 1}/{epochs}], Batch Loss: {loss.item():.4f}\")\n",
        "\n",
        "        epoch_loss = total_loss / len(dataloader)\n",
        "        if total > 0:\n",
        "            accuracy = 100 * correct / total\n",
        "            print(f\"Epoch [{epoch + 1}/{epochs}], Average Loss: {epoch_loss:.4f}, Accuracy: {accuracy:.2f}%\")\n",
        "        else:\n",
        "            print(f\"Epoch [{epoch + 1}/{epochs}], Average Loss: {epoch_loss:.4f}, No valid labels to calculate accuracy.\")\n"
      ],
      "metadata": {
        "id": "8ZGGd5FDWfFn"
      },
      "execution_count": null,
      "outputs": []
    },
    {
      "cell_type": "code",
      "source": [
        "# Device setup\n",
        "device = torch.device(\"cuda\" if torch.cuda.is_available() else \"cpu\")\n",
        "model = MuRAG(num_classes=len(label_to_index)).to(device)\n",
        "\n",
        "# Train the model\n",
        "train(model, dataloader, device)\n"
      ],
      "metadata": {
        "id": "KEudGjyEWfJk",
        "colab": {
          "base_uri": "https://localhost:8080/",
          "height": 1000,
          "referenced_widgets": [
            "e203260fc47e49eca3733a57f4e6fd1b",
            "180940aadbc64881809755cc53f1172e",
            "f165a8f17a5144a4b651ca032aa27d71",
            "9e5235714f2d40dea6d45349458ad64d",
            "47af4892314546d1bdaf38154525126f",
            "56bb7b3e8fa142ff8470ca92e4e6c4da",
            "ad87482fd7834e049c8aa4c61a67d2ed",
            "f68c4bec937648958b624bde6bddb97e",
            "bfde078ebee84a54826a9f95955cddb4",
            "3cada9fc296c4fb1b3d7018f8cd09f73",
            "4714cc5be8c44d71b6bcd319e70842b8",
            "44fcedaba19640798539feed184d367a",
            "2e93a603b98544099287da10bc9de01b",
            "bbe56034fdb6400289bd3e9c9ae5a71f",
            "186caa299e6e4562995495d064bef8e1",
            "c094d315277e4d8daea93ee5260b3e74",
            "ad0b2614d7774172823187efa3745cb8",
            "4cd27ca693204d6798bca7a8ac76013c",
            "c318708c6e364d2badb6f7fc109ba6f4",
            "97e87c14ffc142d4b12e431fe33514f4",
            "f3f1536b628d486c8bbf6c84a3e2497c",
            "e60b77666f95412d94ad516d11a08c97",
            "ecc4f94e49b545ea8bc0962019cfb8fa",
            "421718a167b14c3398079b9f542fcee3",
            "b3c9e9a50acb48c18623eb2ebb4b1672",
            "02c95a4c36e54061b54f8b49a7987070",
            "4ee2dce619d0481783ca0296c67b1071",
            "999d96d7964a44259ea82383227e1546",
            "009e08782ade4e90a9d7a3ded4925481",
            "92320eb340ba4ed18bc0c177d0bb1fd8",
            "dada0ecf97ef4865bdd6422842fc8385",
            "973ca71cc43547889c65a681c9ada8de",
            "113983b49f3241d7a0d254893b0560bb",
            "64c6d0307cde4d4890345ce1ac1928c1",
            "40d675faae9c4653b78e23c799fd14db",
            "40b723bb58e14dc68cb3dd0ac1385e2d",
            "ed02039f37524c7f92d67adc1fbb53b1",
            "bd096a5ae334404f8aefea7d92dc1b8d",
            "e00f12b95a554a7cb222f861cd429c50",
            "b0af37fb10484dadbe47ead6cd112fc6",
            "65639109df474af89213b3e012736c92",
            "361d2592c61e4e05b79db432cbabf7f5",
            "6a187c4c5999461a9c653b93c886fb39",
            "a0a77afac2f94af4b68fdebaf3ea4384",
            "4fb22149260b400fb05b5c25052c3436",
            "27388f8bf3a9431f9a3673bc54d55141",
            "c454214fcb224f30b23920508405f479",
            "879a03e9ab4e4231809a53fc85e329fd",
            "6eccd9c499bc4051a8ef8fb3b994516f",
            "36cea72c31fb4f21a45803dfd02fe72f",
            "f0a2ca80c055490f9e236df0a2b310a9",
            "9db839401e294707b1e9d40425faac1f",
            "b9f2c0ce70364560b25e89c934d5df3d",
            "56342c30de844e5fa9dd97e419e32097",
            "7dedc6905ee247b7b3404741fad5b1ba"
          ]
        },
        "outputId": "ecea372c-726b-489b-af1b-509d3d0fc198"
      },
      "execution_count": null,
      "outputs": [
        {
          "data": {
            "application/vnd.jupyter.widget-view+json": {
              "model_id": "e203260fc47e49eca3733a57f4e6fd1b",
              "version_major": 2,
              "version_minor": 0
            },
            "text/plain": [
              "config.json:   0%|          | 0.00/570 [00:00<?, ?B/s]"
            ]
          },
          "metadata": {},
          "output_type": "display_data"
        },
        {
          "data": {
            "application/vnd.jupyter.widget-view+json": {
              "model_id": "44fcedaba19640798539feed184d367a",
              "version_major": 2,
              "version_minor": 0
            },
            "text/plain": [
              "model.safetensors:   0%|          | 0.00/440M [00:00<?, ?B/s]"
            ]
          },
          "metadata": {},
          "output_type": "display_data"
        },
        {
          "metadata": {
            "tags": null
          },
          "name": "stderr",
          "output_type": "stream",
          "text": [
            "/usr/local/lib/python3.10/dist-packages/transformers/generation/utils.py:1258: UserWarning: Using the model-agnostic default `max_length` (=20) to control the generation length. We recommend setting `max_new_tokens` to control the maximum length of the generation.\n",
            "  warnings.warn(\n"
          ]
        },
        {
          "data": {
            "application/vnd.jupyter.widget-view+json": {
              "model_id": "ecc4f94e49b545ea8bc0962019cfb8fa",
              "version_major": 2,
              "version_minor": 0
            },
            "text/plain": [
              "tokenizer_config.json:   0%|          | 0.00/48.0 [00:00<?, ?B/s]"
            ]
          },
          "metadata": {},
          "output_type": "display_data"
        },
        {
          "data": {
            "application/vnd.jupyter.widget-view+json": {
              "model_id": "64c6d0307cde4d4890345ce1ac1928c1",
              "version_major": 2,
              "version_minor": 0
            },
            "text/plain": [
              "vocab.txt:   0%|          | 0.00/232k [00:00<?, ?B/s]"
            ]
          },
          "metadata": {},
          "output_type": "display_data"
        },
        {
          "data": {
            "application/vnd.jupyter.widget-view+json": {
              "model_id": "4fb22149260b400fb05b5c25052c3436",
              "version_major": 2,
              "version_minor": 0
            },
            "text/plain": [
              "tokenizer.json:   0%|          | 0.00/466k [00:00<?, ?B/s]"
            ]
          },
          "metadata": {},
          "output_type": "display_data"
        },
        {
          "metadata": {
            "tags": null
          },
          "name": "stderr",
          "output_type": "stream",
          "text": [
            "/usr/local/lib/python3.10/dist-packages/transformers/tokenization_utils_base.py:1601: FutureWarning: `clean_up_tokenization_spaces` was not set. It will be set to `True` by default. This behavior will be depracted in transformers v4.45, and will be then set to `False` by default. For more details check this issue: https://github.com/huggingface/transformers/issues/31884\n",
            "  warnings.warn(\n",
            "/usr/local/lib/python3.10/dist-packages/torchvision/models/_utils.py:208: UserWarning: The parameter 'pretrained' is deprecated since 0.13 and may be removed in the future, please use 'weights' instead.\n",
            "  warnings.warn(\n",
            "/usr/local/lib/python3.10/dist-packages/torchvision/models/_utils.py:223: UserWarning: Arguments other than a weight enum or `None` for 'weights' are deprecated since 0.13 and may be removed in the future. The current behavior is equivalent to passing `weights=ResNet50_Weights.IMAGENET1K_V1`. You can also use `weights=ResNet50_Weights.DEFAULT` to get the most up-to-date weights.\n",
            "  warnings.warn(msg)\n",
            "Downloading: \"https://download.pytorch.org/models/resnet50-0676ba61.pth\" to /root/.cache/torch/hub/checkpoints/resnet50-0676ba61.pth\n",
            " 46%|████▌     | 44.5M/97.8M [00:01<00:02, 24.6MB/s]/usr/local/lib/python3.10/dist-packages/transformers/generation/utils.py:1258: UserWarning: Using the model-agnostic default `max_length` (=20) to control the generation length. We recommend setting `max_new_tokens` to control the maximum length of the generation.\n",
            "  warnings.warn(\n",
            "100%|██████████| 97.8M/97.8M [00:04<00:00, 21.7MB/s]\n",
            "  0%|          | 0/9 [00:00<?, ?it/s]"
          ]
        },
        {
          "metadata": {
            "tags": null
          },
          "name": "stdout",
          "output_type": "stream",
          "text": [
            "Batch Labels: ['Calendars', '2016', 'No', 'Dog Page-A-Day Gallery Calendar 2016', 'Sandra Boynton', '2016', 'Calendars', 'Yes', 'No', 'Yes', 'No', 'Mary Engelbreit 2016 Deluxe Wall Calendar: Never Give Up', '2016', 'Calendars', 'Calendars', 'Yes', 'Susan Branch', 'Audubon Nature Wall Calendar 2016', '2016', 'No', 'No', '2016', \"The Old Farmer's Almanac 2016 Gardening Calendar\", 'Audubon Birds Page-A-Day Gallery Calendar 2016', '2016', 'Yes', 'Sierra Club Engagement Calendar 2016', 'Dale Chihuly', 'Mary Engelbreit', '2016', 'No', 'Yes']\n",
            "Mapped Labels: tensor([63, 38,  2, 37, 77, 38, 63, 50,  2, 50,  2, 11, 38, 63, 63, 50, 74, 10,\n",
            "        38,  2,  2, 38, 73, 49, 38, 50, 24, 23, 34, 38,  2, 50])\n"
          ]
        },
        {
          "metadata": {
            "tags": null
          },
          "name": "stderr",
          "output_type": "stream",
          "text": [
            "/usr/local/lib/python3.10/dist-packages/transformers/generation/utils.py:1258: UserWarning: Using the model-agnostic default `max_length` (=20) to control the generation length. We recommend setting `max_new_tokens` to control the maximum length of the generation.\n",
            "  warnings.warn(\n",
            "/usr/local/lib/python3.10/dist-packages/transformers/generation/utils.py:1258: UserWarning: Using the model-agnostic default `max_length` (=20) to control the generation length. We recommend setting `max_new_tokens` to control the maximum length of the generation.\n",
            "  warnings.warn(\n",
            "/usr/local/lib/python3.10/dist-packages/transformers/generation/utils.py:1258: UserWarning: Using the model-agnostic default `max_length` (=20) to control the generation length. We recommend setting `max_new_tokens` to control the maximum length of the generation.\n",
            "  warnings.warn(\n",
            "/usr/local/lib/python3.10/dist-packages/transformers/generation/utils.py:1258: UserWarning: Using the model-agnostic default `max_length` (=20) to control the generation length. We recommend setting `max_new_tokens` to control the maximum length of the generation.\n",
            "  warnings.warn(\n",
            "/usr/local/lib/python3.10/dist-packages/transformers/generation/utils.py:1258: UserWarning: Using the model-agnostic default `max_length` (=20) to control the generation length. We recommend setting `max_new_tokens` to control the maximum length of the generation.\n",
            "  warnings.warn(\n",
            "/usr/local/lib/python3.10/dist-packages/transformers/generation/utils.py:1258: UserWarning: Using the model-agnostic default `max_length` (=20) to control the generation length. We recommend setting `max_new_tokens` to control the maximum length of the generation.\n",
            "  warnings.warn(\n",
            "/usr/local/lib/python3.10/dist-packages/transformers/generation/utils.py:1258: UserWarning: Using the model-agnostic default `max_length` (=20) to control the generation length. We recommend setting `max_new_tokens` to control the maximum length of the generation.\n",
            "  warnings.warn(\n",
            "/usr/local/lib/python3.10/dist-packages/transformers/generation/utils.py:1258: UserWarning: Using the model-agnostic default `max_length` (=20) to control the generation length. We recommend setting `max_new_tokens` to control the maximum length of the generation.\n",
            "  warnings.warn(\n",
            "/usr/local/lib/python3.10/dist-packages/transformers/generation/utils.py:1258: UserWarning: Using the model-agnostic default `max_length` (=20) to control the generation length. We recommend setting `max_new_tokens` to control the maximum length of the generation.\n",
            "  warnings.warn(\n",
            "/usr/local/lib/python3.10/dist-packages/transformers/generation/utils.py:1258: UserWarning: Using the model-agnostic default `max_length` (=20) to control the generation length. We recommend setting `max_new_tokens` to control the maximum length of the generation.\n",
            "  warnings.warn(\n",
            "/usr/local/lib/python3.10/dist-packages/transformers/generation/utils.py:1258: UserWarning: Using the model-agnostic default `max_length` (=20) to control the generation length. We recommend setting `max_new_tokens` to control the maximum length of the generation.\n",
            "  warnings.warn(\n",
            "/usr/local/lib/python3.10/dist-packages/transformers/generation/utils.py:1258: UserWarning: Using the model-agnostic default `max_length` (=20) to control the generation length. We recommend setting `max_new_tokens` to control the maximum length of the generation.\n",
            "  warnings.warn(\n",
            " 11%|█         | 1/9 [03:13<25:45, 193.24s/it]"
          ]
        },
        {
          "metadata": {
            "tags": null
          },
          "name": "stdout",
          "output_type": "stream",
          "text": [
            "Epoch [1/5], Batch Loss: 4.4056\n",
            "Batch Labels: ['365 New Words-A-Year Page-A-Day Calendar 2016', 'Chihuly 2016 Wall Calendar', 'Calendars', 'Calendars', 'No', '2016', '2016', 'Amc', 'No', 'No', '2015', 'Cat Page-A-Day Gallery Calendar 2016', '2016', 'Calendars', 'Starz', 'Ansel Adams 2016 Wall Calendar', 'Once Upon a Time Wall Calendar (2016)', 'No', '2016', 'Calendars', 'No', 'No', 'Calendars', 'Calendars', 'Day Dream', 'Moleskine 2016 Weekly Notebook, 12M, Extra Large, Black, Soft Cover (7.5 x 10)', '2016', 'No', 'Thaneeya McArdle', '2016', '2016', 'Peter Pauper Press']\n",
            "Mapped Labels: tensor([31, 18, 63, 63,  2, 38, 38,  6,  2,  2,  9, 42, 38, 63, 43,  7, 71,  2,\n",
            "        38, 63,  2,  2, 63, 63, 36, 33, 38,  2, 58, 38, 38, 66])\n"
          ]
        },
        {
          "metadata": {
            "tags": null
          },
          "name": "stderr",
          "output_type": "stream",
          "text": [
            "/usr/local/lib/python3.10/dist-packages/transformers/generation/utils.py:1258: UserWarning: Using the model-agnostic default `max_length` (=20) to control the generation length. We recommend setting `max_new_tokens` to control the maximum length of the generation.\n",
            "  warnings.warn(\n",
            "/usr/local/lib/python3.10/dist-packages/transformers/generation/utils.py:1258: UserWarning: Using the model-agnostic default `max_length` (=20) to control the generation length. We recommend setting `max_new_tokens` to control the maximum length of the generation.\n",
            "  warnings.warn(\n",
            "/usr/local/lib/python3.10/dist-packages/transformers/generation/utils.py:1258: UserWarning: Using the model-agnostic default `max_length` (=20) to control the generation length. We recommend setting `max_new_tokens` to control the maximum length of the generation.\n",
            "  warnings.warn(\n",
            "/usr/local/lib/python3.10/dist-packages/transformers/generation/utils.py:1258: UserWarning: Using the model-agnostic default `max_length` (=20) to control the generation length. We recommend setting `max_new_tokens` to control the maximum length of the generation.\n",
            "  warnings.warn(\n",
            "/usr/local/lib/python3.10/dist-packages/transformers/generation/utils.py:1258: UserWarning: Using the model-agnostic default `max_length` (=20) to control the generation length. We recommend setting `max_new_tokens` to control the maximum length of the generation.\n",
            "  warnings.warn(\n",
            "/usr/local/lib/python3.10/dist-packages/transformers/generation/utils.py:1258: UserWarning: Using the model-agnostic default `max_length` (=20) to control the generation length. We recommend setting `max_new_tokens` to control the maximum length of the generation.\n",
            "  warnings.warn(\n",
            "/usr/local/lib/python3.10/dist-packages/transformers/generation/utils.py:1258: UserWarning: Using the model-agnostic default `max_length` (=20) to control the generation length. We recommend setting `max_new_tokens` to control the maximum length of the generation.\n",
            "  warnings.warn(\n",
            "/usr/local/lib/python3.10/dist-packages/transformers/generation/utils.py:1258: UserWarning: Using the model-agnostic default `max_length` (=20) to control the generation length. We recommend setting `max_new_tokens` to control the maximum length of the generation.\n",
            "  warnings.warn(\n",
            "/usr/local/lib/python3.10/dist-packages/transformers/generation/utils.py:1258: UserWarning: Using the model-agnostic default `max_length` (=20) to control the generation length. We recommend setting `max_new_tokens` to control the maximum length of the generation.\n",
            "  warnings.warn(\n",
            "/usr/local/lib/python3.10/dist-packages/transformers/generation/utils.py:1258: UserWarning: Using the model-agnostic default `max_length` (=20) to control the generation length. We recommend setting `max_new_tokens` to control the maximum length of the generation.\n",
            "  warnings.warn(\n",
            "/usr/local/lib/python3.10/dist-packages/transformers/generation/utils.py:1258: UserWarning: Using the model-agnostic default `max_length` (=20) to control the generation length. We recommend setting `max_new_tokens` to control the maximum length of the generation.\n",
            "  warnings.warn(\n",
            "/usr/local/lib/python3.10/dist-packages/transformers/generation/utils.py:1258: UserWarning: Using the model-agnostic default `max_length` (=20) to control the generation length. We recommend setting `max_new_tokens` to control the maximum length of the generation.\n",
            "  warnings.warn(\n",
            "/usr/local/lib/python3.10/dist-packages/transformers/generation/utils.py:1258: UserWarning: Using the model-agnostic default `max_length` (=20) to control the generation length. We recommend setting `max_new_tokens` to control the maximum length of the generation.\n",
            "  warnings.warn(\n",
            "/usr/local/lib/python3.10/dist-packages/transformers/generation/utils.py:1258: UserWarning: Using the model-agnostic default `max_length` (=20) to control the generation length. We recommend setting `max_new_tokens` to control the maximum length of the generation.\n",
            "  warnings.warn(\n",
            " 22%|██▏       | 2/9 [06:16<21:50, 187.26s/it]"
          ]
        },
        {
          "metadata": {
            "tags": null
          },
          "name": "stdout",
          "output_type": "stream",
          "text": [
            "Epoch [1/5], Batch Loss: 4.3123\n",
            "Batch Labels: ['Marty Jerome', 'No', 'Calendars', '2016 Almond Blossoms Weekly Planner (16-Month Engagement Calendar, Diary)', 'Calendars', 'Calendars', 'Calendars', '2016', 'Walking Dead 2016 Wall Calendar', '2016', 'Yes', 'Calendars', 'Calendars', '2016', 'Calendars', 'Mary Engelbreit 2016 Day-to-Day Calendar: Enjoy the Joy', 'Yes', '2016 Someecards Daily Desktop Calendar', 'Calendars', 'Moleskine 2016 Monthly Notebook, 12M, Extra Large, Black, Soft Cover (7.5 x 10)', 'Calendars', 'No', 'Doug the Pug', 'Moleskine', 'Calendars', '2016', 'No', 'Workman Publishing', 'Claire Belton', 'Amy Knapp', 'No', 'Calendars']\n",
            "Mapped Labels: tensor([87,  2, 63,  5, 63, 63, 63, 38, 67, 38, 50, 63, 63, 38, 63, 48, 50, 79,\n",
            "        63, 35, 63,  2, 85, 29, 63, 38,  2,  3, 61,  0,  2, 63])\n"
          ]
        },
        {
          "metadata": {
            "tags": null
          },
          "name": "stderr",
          "output_type": "stream",
          "text": [
            "/usr/local/lib/python3.10/dist-packages/transformers/generation/utils.py:1258: UserWarning: Using the model-agnostic default `max_length` (=20) to control the generation length. We recommend setting `max_new_tokens` to control the maximum length of the generation.\n",
            "  warnings.warn(\n",
            "/usr/local/lib/python3.10/dist-packages/transformers/generation/utils.py:1258: UserWarning: Using the model-agnostic default `max_length` (=20) to control the generation length. We recommend setting `max_new_tokens` to control the maximum length of the generation.\n",
            "  warnings.warn(\n",
            "/usr/local/lib/python3.10/dist-packages/transformers/generation/utils.py:1258: UserWarning: Using the model-agnostic default `max_length` (=20) to control the generation length. We recommend setting `max_new_tokens` to control the maximum length of the generation.\n",
            "  warnings.warn(\n",
            "/usr/local/lib/python3.10/dist-packages/transformers/generation/utils.py:1258: UserWarning: Using the model-agnostic default `max_length` (=20) to control the generation length. We recommend setting `max_new_tokens` to control the maximum length of the generation.\n",
            "  warnings.warn(\n",
            "/usr/local/lib/python3.10/dist-packages/transformers/generation/utils.py:1258: UserWarning: Using the model-agnostic default `max_length` (=20) to control the generation length. We recommend setting `max_new_tokens` to control the maximum length of the generation.\n",
            "  warnings.warn(\n",
            "/usr/local/lib/python3.10/dist-packages/transformers/generation/utils.py:1258: UserWarning: Using the model-agnostic default `max_length` (=20) to control the generation length. We recommend setting `max_new_tokens` to control the maximum length of the generation.\n",
            "  warnings.warn(\n",
            "/usr/local/lib/python3.10/dist-packages/transformers/generation/utils.py:1258: UserWarning: Using the model-agnostic default `max_length` (=20) to control the generation length. We recommend setting `max_new_tokens` to control the maximum length of the generation.\n",
            "  warnings.warn(\n",
            " 33%|███▎      | 3/9 [08:56<17:28, 174.71s/it]"
          ]
        },
        {
          "metadata": {
            "tags": null
          },
          "name": "stdout",
          "output_type": "stream",
          "text": [
            "Epoch [1/5], Batch Loss: 4.1055\n",
            "Batch Labels: ['Yes', 'Moleskine 2016 Weekly Notebook, 12M, Large, Black, Soft Cover (5 x 8.25)', 'No', 'Day Dream', 'No', 'Sierra Club', 'Yes', 'Calendars', 'Calendars', 'No', \"The Complete Runner's Day-by-Day Log 2016 Calendar\", '2016', \"Mom's Family Wall Calendar 2016\", 'A Song of Ice and Fire 2016 Calendar', 'No', 'Jane Meredith', 'Calendars', '2016', 'Merriam-Webster', 'No', '2016', 'No', 'Yes', 'Calendars', 'Thomas Kinkade', 'No', 'No', 'Calendars', 'No', 'Calendars', 'No', '2016']\n",
            "Mapped Labels: tensor([50, 56,  2, 36,  2, 52, 50, 63, 63,  2, 57, 38, 26, 81,  2, 78, 63, 38,\n",
            "        75,  2, 38,  2, 50, 63, 51,  2,  2, 63,  2, 63,  2, 38])\n"
          ]
        },
        {
          "metadata": {
            "tags": null
          },
          "name": "stderr",
          "output_type": "stream",
          "text": [
            "/usr/local/lib/python3.10/dist-packages/transformers/generation/utils.py:1258: UserWarning: Using the model-agnostic default `max_length` (=20) to control the generation length. We recommend setting `max_new_tokens` to control the maximum length of the generation.\n",
            "  warnings.warn(\n",
            "/usr/local/lib/python3.10/dist-packages/transformers/generation/utils.py:1258: UserWarning: Using the model-agnostic default `max_length` (=20) to control the generation length. We recommend setting `max_new_tokens` to control the maximum length of the generation.\n",
            "  warnings.warn(\n",
            "/usr/local/lib/python3.10/dist-packages/transformers/generation/utils.py:1258: UserWarning: Using the model-agnostic default `max_length` (=20) to control the generation length. We recommend setting `max_new_tokens` to control the maximum length of the generation.\n",
            "  warnings.warn(\n",
            "/usr/local/lib/python3.10/dist-packages/transformers/generation/utils.py:1258: UserWarning: Using the model-agnostic default `max_length` (=20) to control the generation length. We recommend setting `max_new_tokens` to control the maximum length of the generation.\n",
            "  warnings.warn(\n",
            "/usr/local/lib/python3.10/dist-packages/transformers/generation/utils.py:1258: UserWarning: Using the model-agnostic default `max_length` (=20) to control the generation length. We recommend setting `max_new_tokens` to control the maximum length of the generation.\n",
            "  warnings.warn(\n",
            "/usr/local/lib/python3.10/dist-packages/transformers/generation/utils.py:1258: UserWarning: Using the model-agnostic default `max_length` (=20) to control the generation length. We recommend setting `max_new_tokens` to control the maximum length of the generation.\n",
            "  warnings.warn(\n",
            "/usr/local/lib/python3.10/dist-packages/transformers/generation/utils.py:1258: UserWarning: Using the model-agnostic default `max_length` (=20) to control the generation length. We recommend setting `max_new_tokens` to control the maximum length of the generation.\n",
            "  warnings.warn(\n",
            "/usr/local/lib/python3.10/dist-packages/transformers/generation/utils.py:1258: UserWarning: Using the model-agnostic default `max_length` (=20) to control the generation length. We recommend setting `max_new_tokens` to control the maximum length of the generation.\n",
            "  warnings.warn(\n",
            "/usr/local/lib/python3.10/dist-packages/transformers/generation/utils.py:1258: UserWarning: Using the model-agnostic default `max_length` (=20) to control the generation length. We recommend setting `max_new_tokens` to control the maximum length of the generation.\n",
            "  warnings.warn(\n",
            " 44%|████▍     | 4/9 [11:30<13:52, 166.56s/it]"
          ]
        },
        {
          "metadata": {
            "tags": null
          },
          "name": "stdout",
          "output_type": "stream",
          "text": [
            "Epoch [1/5], Batch Loss: 4.0121\n",
            "Batch Labels: ['2016', 'MAXINE  Year-In-A-Box Calendar (2016)', 'Calendars', 'Calendars', 'Calendars', 'Moleskine', 'National Audubon Society', 'Posh: Coloring 2015-2016 Large Monthly/Weekly Planning Calendar', 'Yes', '2016', '2016', 'Yes', 'Old FarmerEEs Almanac', 'Calendars', 'Year-In-A-Box', '2016', '2016', 'No', 'Calendars', 'National Audubon Society', '2016', 'Calendars', \"Llewellyn's 2016 Witches' Calendar\", 'Nintendo', \"Llewellyn's 2016 Astrological Calendar: 83rd Edition of the World's Best Known, Most Trusted Astrology Calendar\", 'Moleskine 2015-2016 Weekly Notebook, 18M, Large, Black, Soft Cover (5 x 8.25)', 'No', 'Moleskine', 'Yes', 'Moleskine', 'Today Is Going to Be a Great Day! Color Page-A-Day Calendar 2016', 'Workman Publishing']\n",
            "Mapped Labels: tensor([38,  8, 63, 63, 63, 29, 59, 70, 50, 38, 38, 50, 16, 63, 47, 38, 38,  2,\n",
            "        63, 59, 38, 63, 21, 19, 84, 28,  2, 29, 50, 29, 27,  3])\n"
          ]
        },
        {
          "metadata": {
            "tags": null
          },
          "name": "stderr",
          "output_type": "stream",
          "text": [
            "/usr/local/lib/python3.10/dist-packages/transformers/generation/utils.py:1258: UserWarning: Using the model-agnostic default `max_length` (=20) to control the generation length. We recommend setting `max_new_tokens` to control the maximum length of the generation.\n",
            "  warnings.warn(\n",
            "/usr/local/lib/python3.10/dist-packages/transformers/generation/utils.py:1258: UserWarning: Using the model-agnostic default `max_length` (=20) to control the generation length. We recommend setting `max_new_tokens` to control the maximum length of the generation.\n",
            "  warnings.warn(\n",
            "/usr/local/lib/python3.10/dist-packages/transformers/generation/utils.py:1258: UserWarning: Using the model-agnostic default `max_length` (=20) to control the generation length. We recommend setting `max_new_tokens` to control the maximum length of the generation.\n",
            "  warnings.warn(\n",
            "/usr/local/lib/python3.10/dist-packages/transformers/generation/utils.py:1258: UserWarning: Using the model-agnostic default `max_length` (=20) to control the generation length. We recommend setting `max_new_tokens` to control the maximum length of the generation.\n",
            "  warnings.warn(\n",
            "/usr/local/lib/python3.10/dist-packages/transformers/generation/utils.py:1258: UserWarning: Using the model-agnostic default `max_length` (=20) to control the generation length. We recommend setting `max_new_tokens` to control the maximum length of the generation.\n",
            "  warnings.warn(\n",
            "/usr/local/lib/python3.10/dist-packages/transformers/generation/utils.py:1258: UserWarning: Using the model-agnostic default `max_length` (=20) to control the generation length. We recommend setting `max_new_tokens` to control the maximum length of the generation.\n",
            "  warnings.warn(\n",
            "/usr/local/lib/python3.10/dist-packages/transformers/generation/utils.py:1258: UserWarning: Using the model-agnostic default `max_length` (=20) to control the generation length. We recommend setting `max_new_tokens` to control the maximum length of the generation.\n",
            "  warnings.warn(\n",
            "/usr/local/lib/python3.10/dist-packages/transformers/generation/utils.py:1258: UserWarning: Using the model-agnostic default `max_length` (=20) to control the generation length. We recommend setting `max_new_tokens` to control the maximum length of the generation.\n",
            "  warnings.warn(\n",
            "/usr/local/lib/python3.10/dist-packages/transformers/generation/utils.py:1258: UserWarning: Using the model-agnostic default `max_length` (=20) to control the generation length. We recommend setting `max_new_tokens` to control the maximum length of the generation.\n",
            "  warnings.warn(\n",
            "/usr/local/lib/python3.10/dist-packages/transformers/generation/utils.py:1258: UserWarning: Using the model-agnostic default `max_length` (=20) to control the generation length. We recommend setting `max_new_tokens` to control the maximum length of the generation.\n",
            "  warnings.warn(\n",
            " 56%|█████▌    | 5/9 [13:57<10:38, 159.54s/it]"
          ]
        },
        {
          "metadata": {
            "tags": null
          },
          "name": "stdout",
          "output_type": "stream",
          "text": [
            "Epoch [1/5], Batch Loss: 3.9620\n",
            "Batch Labels: ['George R. R. Martin', '365 Cats Color Page-A-Day Calendar 2016', '2015', 'Llewellyn', '2016', 'The Legend of Zelda 2016 Wall Calendar', 'Someecards', '2016', 'No', 'Yes', 'Moleskine', 'Barbara Ardinger', 'Calendars', 'Calendars', 'Disney Descendants Wall Calendar (2016)', 'Workman Publishing', '2016', 'Calendars', 'Grumpy Cat', 'Calendars', 'Outlander 2016 Wall Calendar', 'French Country Diary 2016 Calendar', \"Mary Engelbreit 2016 Weekly Planner Calendar: Smile! It's Good For  You\", 'Calendars', 'Andrews McMeel Publishing LLC', '2016', 'No', '2016', '2016', 'No', 'Yes', 'Calendars']\n",
            "Mapped Labels: tensor([69, 39,  9, 41, 38, 45, 65, 38,  2, 50, 29, 20, 63, 63, 83,  3, 38, 63,\n",
            "        62, 63, 72, 46, 76, 63, 68, 38,  2, 38, 38,  2, 50, 63])\n"
          ]
        },
        {
          "metadata": {
            "tags": null
          },
          "name": "stderr",
          "output_type": "stream",
          "text": [
            "/usr/local/lib/python3.10/dist-packages/transformers/generation/utils.py:1258: UserWarning: Using the model-agnostic default `max_length` (=20) to control the generation length. We recommend setting `max_new_tokens` to control the maximum length of the generation.\n",
            "  warnings.warn(\n",
            "/usr/local/lib/python3.10/dist-packages/transformers/generation/utils.py:1258: UserWarning: Using the model-agnostic default `max_length` (=20) to control the generation length. We recommend setting `max_new_tokens` to control the maximum length of the generation.\n",
            "  warnings.warn(\n",
            "/usr/local/lib/python3.10/dist-packages/transformers/generation/utils.py:1258: UserWarning: Using the model-agnostic default `max_length` (=20) to control the generation length. We recommend setting `max_new_tokens` to control the maximum length of the generation.\n",
            "  warnings.warn(\n",
            "/usr/local/lib/python3.10/dist-packages/transformers/generation/utils.py:1258: UserWarning: Using the model-agnostic default `max_length` (=20) to control the generation length. We recommend setting `max_new_tokens` to control the maximum length of the generation.\n",
            "  warnings.warn(\n",
            "/usr/local/lib/python3.10/dist-packages/transformers/generation/utils.py:1258: UserWarning: Using the model-agnostic default `max_length` (=20) to control the generation length. We recommend setting `max_new_tokens` to control the maximum length of the generation.\n",
            "  warnings.warn(\n",
            "/usr/local/lib/python3.10/dist-packages/transformers/generation/utils.py:1258: UserWarning: Using the model-agnostic default `max_length` (=20) to control the generation length. We recommend setting `max_new_tokens` to control the maximum length of the generation.\n",
            "  warnings.warn(\n",
            "/usr/local/lib/python3.10/dist-packages/transformers/generation/utils.py:1258: UserWarning: Using the model-agnostic default `max_length` (=20) to control the generation length. We recommend setting `max_new_tokens` to control the maximum length of the generation.\n",
            "  warnings.warn(\n",
            " 67%|██████▋   | 6/9 [16:26<07:48, 156.09s/it]"
          ]
        },
        {
          "metadata": {
            "tags": null
          },
          "name": "stdout",
          "output_type": "stream",
          "text": [
            "Epoch [1/5], Batch Loss: 4.0743\n",
            "Batch Labels: ['2016', 'Calendars', '2016', 'No', 'Calendars', 'Pusheen the Cat 2016 Wall Calendar', 'Calendars', '2016', '2016', 'Linda Dannenberg', 'No', 'National Audubon Society', 'No', 'Thomas Kinkade: The Disney Dreams Collection 2016 Wall Calendar', 'No', '365 Dogs Color Page-A-Day Calendar 2016', '2016', 'Calendars', 'Color Your Year Wall Calendar 2016: Mindful Coloring Through the Seasons', 'Calendars', 'Sierra Club', 'No', 'No', 'Mary Engelbreit', 'No', '2016', 'Mary Engelbreit 2016 Monthly Pocket Planner: Just Being ME!', 'No', 'Doug the Pug 2016 Wall Calendar', 'Calendars', 'Mary Engelbreit', 'No']\n",
            "Mapped Labels: tensor([38, 63, 38,  2, 63, 32, 63, 38, 38, 12,  2, 59,  2, 30,  2, 53, 38, 63,\n",
            "        86, 63, 52,  2,  2, 34,  2, 38, 14,  2, 15, 63, 34,  2])\n"
          ]
        },
        {
          "metadata": {
            "tags": null
          },
          "name": "stderr",
          "output_type": "stream",
          "text": [
            "/usr/local/lib/python3.10/dist-packages/transformers/generation/utils.py:1258: UserWarning: Using the model-agnostic default `max_length` (=20) to control the generation length. We recommend setting `max_new_tokens` to control the maximum length of the generation.\n",
            "  warnings.warn(\n",
            "/usr/local/lib/python3.10/dist-packages/transformers/generation/utils.py:1258: UserWarning: Using the model-agnostic default `max_length` (=20) to control the generation length. We recommend setting `max_new_tokens` to control the maximum length of the generation.\n",
            "  warnings.warn(\n",
            "/usr/local/lib/python3.10/dist-packages/transformers/generation/utils.py:1258: UserWarning: Using the model-agnostic default `max_length` (=20) to control the generation length. We recommend setting `max_new_tokens` to control the maximum length of the generation.\n",
            "  warnings.warn(\n",
            "/usr/local/lib/python3.10/dist-packages/transformers/generation/utils.py:1258: UserWarning: Using the model-agnostic default `max_length` (=20) to control the generation length. We recommend setting `max_new_tokens` to control the maximum length of the generation.\n",
            "  warnings.warn(\n",
            "/usr/local/lib/python3.10/dist-packages/transformers/generation/utils.py:1258: UserWarning: Using the model-agnostic default `max_length` (=20) to control the generation length. We recommend setting `max_new_tokens` to control the maximum length of the generation.\n",
            "  warnings.warn(\n",
            "/usr/local/lib/python3.10/dist-packages/transformers/generation/utils.py:1258: UserWarning: Using the model-agnostic default `max_length` (=20) to control the generation length. We recommend setting `max_new_tokens` to control the maximum length of the generation.\n",
            "  warnings.warn(\n",
            "/usr/local/lib/python3.10/dist-packages/transformers/generation/utils.py:1258: UserWarning: Using the model-agnostic default `max_length` (=20) to control the generation length. We recommend setting `max_new_tokens` to control the maximum length of the generation.\n",
            "  warnings.warn(\n",
            "/usr/local/lib/python3.10/dist-packages/transformers/generation/utils.py:1258: UserWarning: Using the model-agnostic default `max_length` (=20) to control the generation length. We recommend setting `max_new_tokens` to control the maximum length of the generation.\n",
            "  warnings.warn(\n",
            " 78%|███████▊  | 7/9 [18:47<05:02, 151.23s/it]"
          ]
        },
        {
          "metadata": {
            "tags": null
          },
          "name": "stdout",
          "output_type": "stream",
          "text": [
            "Epoch [1/5], Batch Loss: 3.7068\n",
            "Batch Labels: ['2016', '2016', 'Audubon Engagement Calendar 2016', 'Grumpy Cat 2016 Wall Calendar', 'Scott Adams', 'Calendars', '2016 Susan Branch Wall Calendar', 'No', 'Anne Taintor', 'Yes', 'No', '2016 Amy Knapp Big Grid Wall Calendar: The essential organization and communication tool for the entire family', 'Posh: Coloring 2016 Day-to-Day Calendar: For Fun & Relaxation', 'Calendars', '2016', 'Calendars', 'Sierra Club Wilderness Calendar 2016', 'Workman Publishing', '2016', '2016', 'No', 'Workman Publishing', '2016', 'Dilbert 2016 Day-to-Day Calendar', '2016 National Park Foundation Wall Calendar', 'Yes', 'No', 'National Parks Foundation', 'No', \"Llewellyn's 2016 Witches' Datebook\", 'Yes', 'Calendars']\n",
            "Mapped Labels: tensor([38, 38,  4,  1, 80, 63, 64,  2, 22, 50,  2, 54, 55, 63, 38, 63, 40,  3,\n",
            "        38, 38,  2,  3, 38, 44, 25, 50,  2, 82,  2, 13, 50, 63])\n"
          ]
        },
        {
          "metadata": {
            "tags": null
          },
          "name": "stderr",
          "output_type": "stream",
          "text": [
            "/usr/local/lib/python3.10/dist-packages/transformers/generation/utils.py:1258: UserWarning: Using the model-agnostic default `max_length` (=20) to control the generation length. We recommend setting `max_new_tokens` to control the maximum length of the generation.\n",
            "  warnings.warn(\n",
            "/usr/local/lib/python3.10/dist-packages/transformers/generation/utils.py:1258: UserWarning: Using the model-agnostic default `max_length` (=20) to control the generation length. We recommend setting `max_new_tokens` to control the maximum length of the generation.\n",
            "  warnings.warn(\n",
            "/usr/local/lib/python3.10/dist-packages/transformers/generation/utils.py:1258: UserWarning: Using the model-agnostic default `max_length` (=20) to control the generation length. We recommend setting `max_new_tokens` to control the maximum length of the generation.\n",
            "  warnings.warn(\n",
            "/usr/local/lib/python3.10/dist-packages/transformers/generation/utils.py:1258: UserWarning: Using the model-agnostic default `max_length` (=20) to control the generation length. We recommend setting `max_new_tokens` to control the maximum length of the generation.\n",
            "  warnings.warn(\n",
            "/usr/local/lib/python3.10/dist-packages/transformers/generation/utils.py:1258: UserWarning: Using the model-agnostic default `max_length` (=20) to control the generation length. We recommend setting `max_new_tokens` to control the maximum length of the generation.\n",
            "  warnings.warn(\n",
            "/usr/local/lib/python3.10/dist-packages/transformers/generation/utils.py:1258: UserWarning: Using the model-agnostic default `max_length` (=20) to control the generation length. We recommend setting `max_new_tokens` to control the maximum length of the generation.\n",
            "  warnings.warn(\n",
            "/usr/local/lib/python3.10/dist-packages/transformers/generation/utils.py:1258: UserWarning: Using the model-agnostic default `max_length` (=20) to control the generation length. We recommend setting `max_new_tokens` to control the maximum length of the generation.\n",
            "  warnings.warn(\n",
            "/usr/local/lib/python3.10/dist-packages/transformers/generation/utils.py:1258: UserWarning: Using the model-agnostic default `max_length` (=20) to control the generation length. We recommend setting `max_new_tokens` to control the maximum length of the generation.\n",
            "  warnings.warn(\n",
            "/usr/local/lib/python3.10/dist-packages/transformers/generation/utils.py:1258: UserWarning: Using the model-agnostic default `max_length` (=20) to control the generation length. We recommend setting `max_new_tokens` to control the maximum length of the generation.\n",
            "  warnings.warn(\n",
            " 89%|████████▉ | 8/9 [21:19<02:31, 151.45s/it]"
          ]
        },
        {
          "metadata": {
            "tags": null
          },
          "name": "stdout",
          "output_type": "stream",
          "text": [
            "Epoch [1/5], Batch Loss: 3.9441\n",
            "Batch Labels: ['Calendars', 'Yes', '2016', '2016', '2016', 'Moleskine 2016 Weekly Notebook, 12M, Pocket, Black, Soft Cover (3.5 x 5.5)', '2016', 'Anne Taintor 2016 Wall Calendar', 'Workman Publishing', 'Mary Engelbreit', 'Yes']\n",
            "Mapped Labels: tensor([63, 50, 38, 38, 38, 60, 38, 17,  3, 34, 50])\n"
          ]
        },
        {
          "metadata": {
            "tags": null
          },
          "name": "stderr",
          "output_type": "stream",
          "text": [
            "/usr/local/lib/python3.10/dist-packages/transformers/generation/utils.py:1258: UserWarning: Using the model-agnostic default `max_length` (=20) to control the generation length. We recommend setting `max_new_tokens` to control the maximum length of the generation.\n",
            "  warnings.warn(\n",
            "/usr/local/lib/python3.10/dist-packages/transformers/generation/utils.py:1258: UserWarning: Using the model-agnostic default `max_length` (=20) to control the generation length. We recommend setting `max_new_tokens` to control the maximum length of the generation.\n",
            "  warnings.warn(\n",
            "/usr/local/lib/python3.10/dist-packages/transformers/generation/utils.py:1258: UserWarning: Using the model-agnostic default `max_length` (=20) to control the generation length. We recommend setting `max_new_tokens` to control the maximum length of the generation.\n",
            "  warnings.warn(\n",
            "100%|██████████| 9/9 [22:07<00:00, 147.51s/it]\n"
          ]
        },
        {
          "metadata": {
            "tags": null
          },
          "name": "stdout",
          "output_type": "stream",
          "text": [
            "Epoch [1/5], Batch Loss: 3.3592\n",
            "Epoch [1/5], Average Loss: 3.9869, Accuracy: 7.87%\n"
          ]
        },
        {
          "metadata": {
            "tags": null
          },
          "name": "stderr",
          "output_type": "stream",
          "text": [
            "\r  0%|          | 0/9 [00:00<?, ?it/s]"
          ]
        },
        {
          "metadata": {
            "tags": null
          },
          "name": "stdout",
          "output_type": "stream",
          "text": [
            "Batch Labels: ['2016', \"The Old Farmer's Almanac 2016 Gardening Calendar\", 'Yes', '2016', \"The Complete Runner's Day-by-Day Log 2016 Calendar\", 'Calendars', 'Disney Descendants Wall Calendar (2016)', 'Yes', 'Sierra Club', 'Calendars', 'Anne Taintor 2016 Wall Calendar', '2016', 'Yes', '2016', 'Calendars', 'No', '2016', 'No', 'No', 'No', '2016', 'No', '2016', '2016', '2016', 'Calendars', 'Calendars', 'No', 'Sierra Club', '2016', 'No', 'Starz']\n",
            "Mapped Labels: tensor([38, 73, 50, 38, 57, 63, 83, 50, 52, 63, 17, 38, 50, 38, 63,  2, 38,  2,\n",
            "         2,  2, 38,  2, 38, 38, 38, 63, 63,  2, 52, 38,  2, 43])\n"
          ]
        },
        {
          "metadata": {
            "tags": null
          },
          "name": "stderr",
          "output_type": "stream",
          "text": [
            "/usr/local/lib/python3.10/dist-packages/transformers/generation/utils.py:1258: UserWarning: Using the model-agnostic default `max_length` (=20) to control the generation length. We recommend setting `max_new_tokens` to control the maximum length of the generation.\n",
            "  warnings.warn(\n",
            "/usr/local/lib/python3.10/dist-packages/transformers/generation/utils.py:1258: UserWarning: Using the model-agnostic default `max_length` (=20) to control the generation length. We recommend setting `max_new_tokens` to control the maximum length of the generation.\n",
            "  warnings.warn(\n",
            "/usr/local/lib/python3.10/dist-packages/transformers/generation/utils.py:1258: UserWarning: Using the model-agnostic default `max_length` (=20) to control the generation length. We recommend setting `max_new_tokens` to control the maximum length of the generation.\n",
            "  warnings.warn(\n",
            "/usr/local/lib/python3.10/dist-packages/transformers/generation/utils.py:1258: UserWarning: Using the model-agnostic default `max_length` (=20) to control the generation length. We recommend setting `max_new_tokens` to control the maximum length of the generation.\n",
            "  warnings.warn(\n",
            "/usr/local/lib/python3.10/dist-packages/transformers/generation/utils.py:1258: UserWarning: Using the model-agnostic default `max_length` (=20) to control the generation length. We recommend setting `max_new_tokens` to control the maximum length of the generation.\n",
            "  warnings.warn(\n",
            "/usr/local/lib/python3.10/dist-packages/transformers/generation/utils.py:1258: UserWarning: Using the model-agnostic default `max_length` (=20) to control the generation length. We recommend setting `max_new_tokens` to control the maximum length of the generation.\n",
            "  warnings.warn(\n",
            "/usr/local/lib/python3.10/dist-packages/transformers/generation/utils.py:1258: UserWarning: Using the model-agnostic default `max_length` (=20) to control the generation length. We recommend setting `max_new_tokens` to control the maximum length of the generation.\n",
            "  warnings.warn(\n",
            "/usr/local/lib/python3.10/dist-packages/transformers/generation/utils.py:1258: UserWarning: Using the model-agnostic default `max_length` (=20) to control the generation length. We recommend setting `max_new_tokens` to control the maximum length of the generation.\n",
            "  warnings.warn(\n",
            "/usr/local/lib/python3.10/dist-packages/transformers/generation/utils.py:1258: UserWarning: Using the model-agnostic default `max_length` (=20) to control the generation length. We recommend setting `max_new_tokens` to control the maximum length of the generation.\n",
            "  warnings.warn(\n",
            " 11%|█         | 1/9 [02:21<18:48, 141.02s/it]"
          ]
        },
        {
          "metadata": {
            "tags": null
          },
          "name": "stdout",
          "output_type": "stream",
          "text": [
            "Epoch [2/5], Batch Loss: 2.5597\n",
            "Batch Labels: ['Sandra Boynton', 'No', 'National Audubon Society', 'No', \"Llewellyn's 2016 Witches' Calendar\", 'Calendars', 'Calendars', '2016', 'Sierra Club Wilderness Calendar 2016', 'Yes', 'Workman Publishing', 'No', 'Calendars', '2016', 'Calendars', 'No', '2016', 'Audubon Engagement Calendar 2016', 'Old FarmerEEs Almanac', '2016 Amy Knapp Big Grid Wall Calendar: The essential organization and communication tool for the entire family', 'Mary Engelbreit', 'Jane Meredith', 'Audubon Birds Page-A-Day Gallery Calendar 2016', 'Posh: Coloring 2015-2016 Large Monthly/Weekly Planning Calendar', 'Moleskine', 'Andrews McMeel Publishing LLC', 'Calendars', '2016', 'Day Dream', 'Mary Engelbreit 2016 Day-to-Day Calendar: Enjoy the Joy', 'No', 'French Country Diary 2016 Calendar']\n",
            "Mapped Labels: tensor([77,  2, 59,  2, 21, 63, 63, 38, 40, 50,  3,  2, 63, 38, 63,  2, 38,  4,\n",
            "        16, 54, 34, 78, 49, 70, 29, 68, 63, 38, 36, 48,  2, 46])\n"
          ]
        },
        {
          "metadata": {
            "tags": null
          },
          "name": "stderr",
          "output_type": "stream",
          "text": [
            "/usr/local/lib/python3.10/dist-packages/transformers/generation/utils.py:1258: UserWarning: Using the model-agnostic default `max_length` (=20) to control the generation length. We recommend setting `max_new_tokens` to control the maximum length of the generation.\n",
            "  warnings.warn(\n",
            "/usr/local/lib/python3.10/dist-packages/transformers/generation/utils.py:1258: UserWarning: Using the model-agnostic default `max_length` (=20) to control the generation length. We recommend setting `max_new_tokens` to control the maximum length of the generation.\n",
            "  warnings.warn(\n",
            "/usr/local/lib/python3.10/dist-packages/transformers/generation/utils.py:1258: UserWarning: Using the model-agnostic default `max_length` (=20) to control the generation length. We recommend setting `max_new_tokens` to control the maximum length of the generation.\n",
            "  warnings.warn(\n",
            "/usr/local/lib/python3.10/dist-packages/transformers/generation/utils.py:1258: UserWarning: Using the model-agnostic default `max_length` (=20) to control the generation length. We recommend setting `max_new_tokens` to control the maximum length of the generation.\n",
            "  warnings.warn(\n",
            "/usr/local/lib/python3.10/dist-packages/transformers/generation/utils.py:1258: UserWarning: Using the model-agnostic default `max_length` (=20) to control the generation length. We recommend setting `max_new_tokens` to control the maximum length of the generation.\n",
            "  warnings.warn(\n",
            "/usr/local/lib/python3.10/dist-packages/transformers/generation/utils.py:1258: UserWarning: Using the model-agnostic default `max_length` (=20) to control the generation length. We recommend setting `max_new_tokens` to control the maximum length of the generation.\n",
            "  warnings.warn(\n",
            "/usr/local/lib/python3.10/dist-packages/transformers/generation/utils.py:1258: UserWarning: Using the model-agnostic default `max_length` (=20) to control the generation length. We recommend setting `max_new_tokens` to control the maximum length of the generation.\n",
            "  warnings.warn(\n",
            "/usr/local/lib/python3.10/dist-packages/transformers/generation/utils.py:1258: UserWarning: Using the model-agnostic default `max_length` (=20) to control the generation length. We recommend setting `max_new_tokens` to control the maximum length of the generation.\n",
            "  warnings.warn(\n",
            "/usr/local/lib/python3.10/dist-packages/transformers/generation/utils.py:1258: UserWarning: Using the model-agnostic default `max_length` (=20) to control the generation length. We recommend setting `max_new_tokens` to control the maximum length of the generation.\n",
            "  warnings.warn(\n",
            "/usr/local/lib/python3.10/dist-packages/transformers/generation/utils.py:1258: UserWarning: Using the model-agnostic default `max_length` (=20) to control the generation length. We recommend setting `max_new_tokens` to control the maximum length of the generation.\n",
            "  warnings.warn(\n",
            " 22%|██▏       | 2/9 [04:44<16:38, 142.67s/it]"
          ]
        },
        {
          "metadata": {
            "tags": null
          },
          "name": "stdout",
          "output_type": "stream",
          "text": [
            "Epoch [2/5], Batch Loss: 3.0788\n",
            "Batch Labels: [\"Llewellyn's 2016 Witches' Datebook\", 'Moleskine 2016 Weekly Notebook, 12M, Pocket, Black, Soft Cover (3.5 x 5.5)', 'Someecards', 'No', 'Calendars', 'Yes', '2016', '2016', 'Workman Publishing', 'Calendars', '2016', 'No', 'Calendars', 'Year-In-A-Box', 'George R. R. Martin', 'No', '2016', 'The Legend of Zelda 2016 Wall Calendar', 'No', 'Calendars', 'Calendars', 'Doug the Pug 2016 Wall Calendar', '2016', 'Posh: Coloring 2016 Day-to-Day Calendar: For Fun & Relaxation', '365 New Words-A-Year Page-A-Day Calendar 2016', 'Calendars', 'National Audubon Society', 'Yes', 'Marty Jerome', '2016', 'Calendars', 'No']\n",
            "Mapped Labels: tensor([13, 60, 65,  2, 63, 50, 38, 38,  3, 63, 38,  2, 63, 47, 69,  2, 38, 45,\n",
            "         2, 63, 63, 15, 38, 55, 31, 63, 59, 50, 87, 38, 63,  2])\n"
          ]
        },
        {
          "metadata": {
            "tags": null
          },
          "name": "stderr",
          "output_type": "stream",
          "text": [
            "/usr/local/lib/python3.10/dist-packages/transformers/generation/utils.py:1258: UserWarning: Using the model-agnostic default `max_length` (=20) to control the generation length. We recommend setting `max_new_tokens` to control the maximum length of the generation.\n",
            "  warnings.warn(\n",
            "/usr/local/lib/python3.10/dist-packages/transformers/generation/utils.py:1258: UserWarning: Using the model-agnostic default `max_length` (=20) to control the generation length. We recommend setting `max_new_tokens` to control the maximum length of the generation.\n",
            "  warnings.warn(\n",
            "/usr/local/lib/python3.10/dist-packages/transformers/generation/utils.py:1258: UserWarning: Using the model-agnostic default `max_length` (=20) to control the generation length. We recommend setting `max_new_tokens` to control the maximum length of the generation.\n",
            "  warnings.warn(\n",
            "/usr/local/lib/python3.10/dist-packages/transformers/generation/utils.py:1258: UserWarning: Using the model-agnostic default `max_length` (=20) to control the generation length. We recommend setting `max_new_tokens` to control the maximum length of the generation.\n",
            "  warnings.warn(\n",
            "/usr/local/lib/python3.10/dist-packages/transformers/generation/utils.py:1258: UserWarning: Using the model-agnostic default `max_length` (=20) to control the generation length. We recommend setting `max_new_tokens` to control the maximum length of the generation.\n",
            "  warnings.warn(\n",
            "/usr/local/lib/python3.10/dist-packages/transformers/generation/utils.py:1258: UserWarning: Using the model-agnostic default `max_length` (=20) to control the generation length. We recommend setting `max_new_tokens` to control the maximum length of the generation.\n",
            "  warnings.warn(\n",
            "/usr/local/lib/python3.10/dist-packages/transformers/generation/utils.py:1258: UserWarning: Using the model-agnostic default `max_length` (=20) to control the generation length. We recommend setting `max_new_tokens` to control the maximum length of the generation.\n",
            "  warnings.warn(\n",
            "/usr/local/lib/python3.10/dist-packages/transformers/generation/utils.py:1258: UserWarning: Using the model-agnostic default `max_length` (=20) to control the generation length. We recommend setting `max_new_tokens` to control the maximum length of the generation.\n",
            "  warnings.warn(\n",
            "/usr/local/lib/python3.10/dist-packages/transformers/generation/utils.py:1258: UserWarning: Using the model-agnostic default `max_length` (=20) to control the generation length. We recommend setting `max_new_tokens` to control the maximum length of the generation.\n",
            "  warnings.warn(\n",
            "/usr/local/lib/python3.10/dist-packages/transformers/generation/utils.py:1258: UserWarning: Using the model-agnostic default `max_length` (=20) to control the generation length. We recommend setting `max_new_tokens` to control the maximum length of the generation.\n",
            "  warnings.warn(\n",
            "/usr/local/lib/python3.10/dist-packages/transformers/generation/utils.py:1258: UserWarning: Using the model-agnostic default `max_length` (=20) to control the generation length. We recommend setting `max_new_tokens` to control the maximum length of the generation.\n",
            "  warnings.warn(\n",
            " 33%|███▎      | 3/9 [07:09<14:20, 143.40s/it]"
          ]
        },
        {
          "metadata": {
            "tags": null
          },
          "name": "stdout",
          "output_type": "stream",
          "text": [
            "Epoch [2/5], Batch Loss: 2.6764\n",
            "Batch Labels: ['Calendars', 'Calendars', 'Thaneeya McArdle', 'Grumpy Cat 2016 Wall Calendar', 'Pusheen the Cat 2016 Wall Calendar', '2016', '2016', 'Moleskine 2015-2016 Weekly Notebook, 18M, Large, Black, Soft Cover (5 x 8.25)', 'No', 'No', 'No', '2016', 'Calendars', 'Thomas Kinkade: The Disney Dreams Collection 2016 Wall Calendar', 'Peter Pauper Press', 'National Audubon Society', 'Workman Publishing', 'Calendars', 'Calendars', 'No', 'Amc', 'Yes', 'No', 'Calendars', '2016', '2016', 'Once Upon a Time Wall Calendar (2016)', '2016', 'Ansel Adams 2016 Wall Calendar', 'Today Is Going to Be a Great Day! Color Page-A-Day Calendar 2016', 'Cat Page-A-Day Gallery Calendar 2016', 'Linda Dannenberg']\n",
            "Mapped Labels: tensor([63, 63, 58,  1, 32, 38, 38, 28,  2,  2,  2, 38, 63, 30, 66, 59,  3, 63,\n",
            "        63,  2,  6, 50,  2, 63, 38, 38, 71, 38,  7, 27, 42, 12])\n"
          ]
        },
        {
          "metadata": {
            "tags": null
          },
          "name": "stderr",
          "output_type": "stream",
          "text": [
            "/usr/local/lib/python3.10/dist-packages/transformers/generation/utils.py:1258: UserWarning: Using the model-agnostic default `max_length` (=20) to control the generation length. We recommend setting `max_new_tokens` to control the maximum length of the generation.\n",
            "  warnings.warn(\n",
            "/usr/local/lib/python3.10/dist-packages/transformers/generation/utils.py:1258: UserWarning: Using the model-agnostic default `max_length` (=20) to control the generation length. We recommend setting `max_new_tokens` to control the maximum length of the generation.\n",
            "  warnings.warn(\n",
            "/usr/local/lib/python3.10/dist-packages/transformers/generation/utils.py:1258: UserWarning: Using the model-agnostic default `max_length` (=20) to control the generation length. We recommend setting `max_new_tokens` to control the maximum length of the generation.\n",
            "  warnings.warn(\n",
            "/usr/local/lib/python3.10/dist-packages/transformers/generation/utils.py:1258: UserWarning: Using the model-agnostic default `max_length` (=20) to control the generation length. We recommend setting `max_new_tokens` to control the maximum length of the generation.\n",
            "  warnings.warn(\n",
            "/usr/local/lib/python3.10/dist-packages/transformers/generation/utils.py:1258: UserWarning: Using the model-agnostic default `max_length` (=20) to control the generation length. We recommend setting `max_new_tokens` to control the maximum length of the generation.\n",
            "  warnings.warn(\n",
            "/usr/local/lib/python3.10/dist-packages/transformers/generation/utils.py:1258: UserWarning: Using the model-agnostic default `max_length` (=20) to control the generation length. We recommend setting `max_new_tokens` to control the maximum length of the generation.\n",
            "  warnings.warn(\n",
            " 44%|████▍     | 4/9 [09:31<11:54, 142.92s/it]"
          ]
        },
        {
          "metadata": {
            "tags": null
          },
          "name": "stdout",
          "output_type": "stream",
          "text": [
            "Epoch [2/5], Batch Loss: 2.7004\n",
            "Batch Labels: ['Llewellyn', 'Moleskine', 'Calendars', 'Yes', '2016', 'Yes', 'Calendars', 'No', 'Calendars', 'Calendars', '2016', 'Mary Engelbreit 2016 Monthly Pocket Planner: Just Being ME!', 'No', '365 Dogs Color Page-A-Day Calendar 2016', 'Moleskine', 'A Song of Ice and Fire 2016 Calendar', 'Calendars', 'Walking Dead 2016 Wall Calendar', '2016', '2016', 'No', 'Yes', '2015', 'Workman Publishing', 'Mary Engelbreit', 'Calendars', '365 Cats Color Page-A-Day Calendar 2016', 'Calendars', 'No', 'Claire Belton', '2016', 'No']\n",
            "Mapped Labels: tensor([41, 29, 63, 50, 38, 50, 63,  2, 63, 63, 38, 14,  2, 53, 29, 81, 63, 67,\n",
            "        38, 38,  2, 50,  9,  3, 34, 63, 39, 63,  2, 61, 38,  2])\n"
          ]
        },
        {
          "metadata": {
            "tags": null
          },
          "name": "stderr",
          "output_type": "stream",
          "text": [
            "/usr/local/lib/python3.10/dist-packages/transformers/generation/utils.py:1258: UserWarning: Using the model-agnostic default `max_length` (=20) to control the generation length. We recommend setting `max_new_tokens` to control the maximum length of the generation.\n",
            "  warnings.warn(\n",
            "/usr/local/lib/python3.10/dist-packages/transformers/generation/utils.py:1258: UserWarning: Using the model-agnostic default `max_length` (=20) to control the generation length. We recommend setting `max_new_tokens` to control the maximum length of the generation.\n",
            "  warnings.warn(\n",
            "/usr/local/lib/python3.10/dist-packages/transformers/generation/utils.py:1258: UserWarning: Using the model-agnostic default `max_length` (=20) to control the generation length. We recommend setting `max_new_tokens` to control the maximum length of the generation.\n",
            "  warnings.warn(\n",
            "/usr/local/lib/python3.10/dist-packages/transformers/generation/utils.py:1258: UserWarning: Using the model-agnostic default `max_length` (=20) to control the generation length. We recommend setting `max_new_tokens` to control the maximum length of the generation.\n",
            "  warnings.warn(\n",
            "/usr/local/lib/python3.10/dist-packages/transformers/generation/utils.py:1258: UserWarning: Using the model-agnostic default `max_length` (=20) to control the generation length. We recommend setting `max_new_tokens` to control the maximum length of the generation.\n",
            "  warnings.warn(\n",
            "/usr/local/lib/python3.10/dist-packages/transformers/generation/utils.py:1258: UserWarning: Using the model-agnostic default `max_length` (=20) to control the generation length. We recommend setting `max_new_tokens` to control the maximum length of the generation.\n",
            "  warnings.warn(\n",
            "/usr/local/lib/python3.10/dist-packages/transformers/generation/utils.py:1258: UserWarning: Using the model-agnostic default `max_length` (=20) to control the generation length. We recommend setting `max_new_tokens` to control the maximum length of the generation.\n",
            "  warnings.warn(\n",
            "/usr/local/lib/python3.10/dist-packages/transformers/generation/utils.py:1258: UserWarning: Using the model-agnostic default `max_length` (=20) to control the generation length. We recommend setting `max_new_tokens` to control the maximum length of the generation.\n",
            "  warnings.warn(\n",
            "/usr/local/lib/python3.10/dist-packages/transformers/generation/utils.py:1258: UserWarning: Using the model-agnostic default `max_length` (=20) to control the generation length. We recommend setting `max_new_tokens` to control the maximum length of the generation.\n",
            "  warnings.warn(\n",
            "/usr/local/lib/python3.10/dist-packages/transformers/generation/utils.py:1258: UserWarning: Using the model-agnostic default `max_length` (=20) to control the generation length. We recommend setting `max_new_tokens` to control the maximum length of the generation.\n",
            "  warnings.warn(\n",
            " 56%|█████▌    | 5/9 [12:00<09:40, 145.14s/it]"
          ]
        },
        {
          "metadata": {
            "tags": null
          },
          "name": "stdout",
          "output_type": "stream",
          "text": [
            "Epoch [2/5], Batch Loss: 2.4786\n",
            "Batch Labels: ['Scott Adams', 'Mary Engelbreit', '2016', 'Yes', 'No', '2016 Susan Branch Wall Calendar', '2016', 'No', 'No', 'No', 'Yes', 'No', 'Doug the Pug', '2016', '2016', 'Day Dream', 'No', 'Calendars', 'Nintendo', 'Mary Engelbreit', 'Yes', 'No', 'Susan Branch', '2016', '2016', 'Workman Publishing', 'Amy Knapp', '2016', 'Chihuly 2016 Wall Calendar', 'Calendars', 'Yes', '2016']\n",
            "Mapped Labels: tensor([80, 34, 38, 50,  2, 64, 38,  2,  2,  2, 50,  2, 85, 38, 38, 36,  2, 63,\n",
            "        19, 34, 50,  2, 74, 38, 38,  3,  0, 38, 18, 63, 50, 38])\n"
          ]
        },
        {
          "metadata": {
            "tags": null
          },
          "name": "stderr",
          "output_type": "stream",
          "text": [
            "/usr/local/lib/python3.10/dist-packages/transformers/generation/utils.py:1258: UserWarning: Using the model-agnostic default `max_length` (=20) to control the generation length. We recommend setting `max_new_tokens` to control the maximum length of the generation.\n",
            "  warnings.warn(\n",
            "/usr/local/lib/python3.10/dist-packages/transformers/generation/utils.py:1258: UserWarning: Using the model-agnostic default `max_length` (=20) to control the generation length. We recommend setting `max_new_tokens` to control the maximum length of the generation.\n",
            "  warnings.warn(\n",
            "/usr/local/lib/python3.10/dist-packages/transformers/generation/utils.py:1258: UserWarning: Using the model-agnostic default `max_length` (=20) to control the generation length. We recommend setting `max_new_tokens` to control the maximum length of the generation.\n",
            "  warnings.warn(\n",
            "/usr/local/lib/python3.10/dist-packages/transformers/generation/utils.py:1258: UserWarning: Using the model-agnostic default `max_length` (=20) to control the generation length. We recommend setting `max_new_tokens` to control the maximum length of the generation.\n",
            "  warnings.warn(\n",
            "/usr/local/lib/python3.10/dist-packages/transformers/generation/utils.py:1258: UserWarning: Using the model-agnostic default `max_length` (=20) to control the generation length. We recommend setting `max_new_tokens` to control the maximum length of the generation.\n",
            "  warnings.warn(\n",
            "/usr/local/lib/python3.10/dist-packages/transformers/generation/utils.py:1258: UserWarning: Using the model-agnostic default `max_length` (=20) to control the generation length. We recommend setting `max_new_tokens` to control the maximum length of the generation.\n",
            "  warnings.warn(\n",
            "/usr/local/lib/python3.10/dist-packages/transformers/generation/utils.py:1258: UserWarning: Using the model-agnostic default `max_length` (=20) to control the generation length. We recommend setting `max_new_tokens` to control the maximum length of the generation.\n",
            "  warnings.warn(\n",
            "/usr/local/lib/python3.10/dist-packages/transformers/generation/utils.py:1258: UserWarning: Using the model-agnostic default `max_length` (=20) to control the generation length. We recommend setting `max_new_tokens` to control the maximum length of the generation.\n",
            "  warnings.warn(\n",
            "/usr/local/lib/python3.10/dist-packages/transformers/generation/utils.py:1258: UserWarning: Using the model-agnostic default `max_length` (=20) to control the generation length. We recommend setting `max_new_tokens` to control the maximum length of the generation.\n",
            "  warnings.warn(\n",
            "/usr/local/lib/python3.10/dist-packages/transformers/generation/utils.py:1258: UserWarning: Using the model-agnostic default `max_length` (=20) to control the generation length. We recommend setting `max_new_tokens` to control the maximum length of the generation.\n",
            "  warnings.warn(\n",
            " 67%|██████▋   | 6/9 [14:26<07:16, 145.40s/it]"
          ]
        },
        {
          "metadata": {
            "tags": null
          },
          "name": "stdout",
          "output_type": "stream",
          "text": [
            "Epoch [2/5], Batch Loss: 2.2877\n",
            "Batch Labels: ['National Parks Foundation', 'No', 'Calendars', 'Calendars', 'Calendars', \"Llewellyn's 2016 Astrological Calendar: 83rd Edition of the World's Best Known, Most Trusted Astrology Calendar\", 'Dog Page-A-Day Gallery Calendar 2016', 'No', 'No', 'Calendars', 'MAXINE  Year-In-A-Box Calendar (2016)', '2016', 'Yes', '2016 Almond Blossoms Weekly Planner (16-Month Engagement Calendar, Diary)', '2016 National Park Foundation Wall Calendar', 'Calendars', '2016', 'Calendars', 'Outlander 2016 Wall Calendar', '2015', 'No', 'Moleskine 2016 Weekly Notebook, 12M, Large, Black, Soft Cover (5 x 8.25)', 'Moleskine', 'Mary Engelbreit 2016 Deluxe Wall Calendar: Never Give Up', 'Calendars', '2016', 'Dale Chihuly', 'No', '2016', 'Calendars', 'No', 'Merriam-Webster']\n",
            "Mapped Labels: tensor([82,  2, 63, 63, 63, 84, 37,  2,  2, 63,  8, 38, 50,  5, 25, 63, 38, 63,\n",
            "        72,  9,  2, 56, 29, 11, 63, 38, 23,  2, 38, 63,  2, 75])\n"
          ]
        },
        {
          "metadata": {
            "tags": null
          },
          "name": "stderr",
          "output_type": "stream",
          "text": [
            "/usr/local/lib/python3.10/dist-packages/transformers/generation/utils.py:1258: UserWarning: Using the model-agnostic default `max_length` (=20) to control the generation length. We recommend setting `max_new_tokens` to control the maximum length of the generation.\n",
            "  warnings.warn(\n",
            "/usr/local/lib/python3.10/dist-packages/transformers/generation/utils.py:1258: UserWarning: Using the model-agnostic default `max_length` (=20) to control the generation length. We recommend setting `max_new_tokens` to control the maximum length of the generation.\n",
            "  warnings.warn(\n",
            "/usr/local/lib/python3.10/dist-packages/transformers/generation/utils.py:1258: UserWarning: Using the model-agnostic default `max_length` (=20) to control the generation length. We recommend setting `max_new_tokens` to control the maximum length of the generation.\n",
            "  warnings.warn(\n",
            "/usr/local/lib/python3.10/dist-packages/transformers/generation/utils.py:1258: UserWarning: Using the model-agnostic default `max_length` (=20) to control the generation length. We recommend setting `max_new_tokens` to control the maximum length of the generation.\n",
            "  warnings.warn(\n",
            "/usr/local/lib/python3.10/dist-packages/transformers/generation/utils.py:1258: UserWarning: Using the model-agnostic default `max_length` (=20) to control the generation length. We recommend setting `max_new_tokens` to control the maximum length of the generation.\n",
            "  warnings.warn(\n",
            "/usr/local/lib/python3.10/dist-packages/transformers/generation/utils.py:1258: UserWarning: Using the model-agnostic default `max_length` (=20) to control the generation length. We recommend setting `max_new_tokens` to control the maximum length of the generation.\n",
            "  warnings.warn(\n",
            "/usr/local/lib/python3.10/dist-packages/transformers/generation/utils.py:1258: UserWarning: Using the model-agnostic default `max_length` (=20) to control the generation length. We recommend setting `max_new_tokens` to control the maximum length of the generation.\n",
            "  warnings.warn(\n",
            " 78%|███████▊  | 7/9 [16:46<04:47, 143.73s/it]"
          ]
        },
        {
          "metadata": {
            "tags": null
          },
          "name": "stdout",
          "output_type": "stream",
          "text": [
            "Epoch [2/5], Batch Loss: 2.3858\n",
            "Batch Labels: ['Calendars', '2016', 'Calendars', 'Audubon Nature Wall Calendar 2016', 'Workman Publishing', 'No', 'Calendars', 'Calendars', '2016', 'No', 'Moleskine', 'Barbara Ardinger', 'Calendars', '2016 Someecards Daily Desktop Calendar', 'Yes', 'Anne Taintor', 'No', 'Yes', '2016', \"Mom's Family Wall Calendar 2016\", '2016', 'Yes', 'Calendars', 'No', \"Mary Engelbreit 2016 Weekly Planner Calendar: Smile! It's Good For  You\", 'Calendars', '2016', 'Grumpy Cat', 'Sierra Club Engagement Calendar 2016', 'Yes', 'Calendars', 'Thomas Kinkade']\n",
            "Mapped Labels: tensor([63, 38, 63, 10,  3,  2, 63, 63, 38,  2, 29, 20, 63, 79, 50, 22,  2, 50,\n",
            "        38, 26, 38, 50, 63,  2, 76, 63, 38, 62, 24, 50, 63, 51])\n"
          ]
        },
        {
          "metadata": {
            "tags": null
          },
          "name": "stderr",
          "output_type": "stream",
          "text": [
            "/usr/local/lib/python3.10/dist-packages/transformers/generation/utils.py:1258: UserWarning: Using the model-agnostic default `max_length` (=20) to control the generation length. We recommend setting `max_new_tokens` to control the maximum length of the generation.\n",
            "  warnings.warn(\n",
            "/usr/local/lib/python3.10/dist-packages/transformers/generation/utils.py:1258: UserWarning: Using the model-agnostic default `max_length` (=20) to control the generation length. We recommend setting `max_new_tokens` to control the maximum length of the generation.\n",
            "  warnings.warn(\n",
            "/usr/local/lib/python3.10/dist-packages/transformers/generation/utils.py:1258: UserWarning: Using the model-agnostic default `max_length` (=20) to control the generation length. We recommend setting `max_new_tokens` to control the maximum length of the generation.\n",
            "  warnings.warn(\n",
            "/usr/local/lib/python3.10/dist-packages/transformers/generation/utils.py:1258: UserWarning: Using the model-agnostic default `max_length` (=20) to control the generation length. We recommend setting `max_new_tokens` to control the maximum length of the generation.\n",
            "  warnings.warn(\n",
            "/usr/local/lib/python3.10/dist-packages/transformers/generation/utils.py:1258: UserWarning: Using the model-agnostic default `max_length` (=20) to control the generation length. We recommend setting `max_new_tokens` to control the maximum length of the generation.\n",
            "  warnings.warn(\n",
            "/usr/local/lib/python3.10/dist-packages/transformers/generation/utils.py:1258: UserWarning: Using the model-agnostic default `max_length` (=20) to control the generation length. We recommend setting `max_new_tokens` to control the maximum length of the generation.\n",
            "  warnings.warn(\n",
            "/usr/local/lib/python3.10/dist-packages/transformers/generation/utils.py:1258: UserWarning: Using the model-agnostic default `max_length` (=20) to control the generation length. We recommend setting `max_new_tokens` to control the maximum length of the generation.\n",
            "  warnings.warn(\n",
            "/usr/local/lib/python3.10/dist-packages/transformers/generation/utils.py:1258: UserWarning: Using the model-agnostic default `max_length` (=20) to control the generation length. We recommend setting `max_new_tokens` to control the maximum length of the generation.\n",
            "  warnings.warn(\n",
            "/usr/local/lib/python3.10/dist-packages/transformers/generation/utils.py:1258: UserWarning: Using the model-agnostic default `max_length` (=20) to control the generation length. We recommend setting `max_new_tokens` to control the maximum length of the generation.\n",
            "  warnings.warn(\n",
            " 89%|████████▉ | 8/9 [19:03<02:21, 141.50s/it]"
          ]
        },
        {
          "metadata": {
            "tags": null
          },
          "name": "stdout",
          "output_type": "stream",
          "text": [
            "Epoch [2/5], Batch Loss: 2.1614\n",
            "Batch Labels: ['2016', 'Dilbert 2016 Day-to-Day Calendar', 'Color Your Year Wall Calendar 2016: Mindful Coloring Through the Seasons', 'No', 'Calendars', '2016', 'Moleskine 2016 Weekly Notebook, 12M, Extra Large, Black, Soft Cover (7.5 x 10)', 'Calendars', 'No', 'Yes', 'Moleskine 2016 Monthly Notebook, 12M, Extra Large, Black, Soft Cover (7.5 x 10)']\n",
            "Mapped Labels: tensor([38, 44, 86,  2, 63, 38, 33, 63,  2, 50, 35])\n"
          ]
        },
        {
          "metadata": {
            "tags": null
          },
          "name": "stderr",
          "output_type": "stream",
          "text": [
            "/usr/local/lib/python3.10/dist-packages/transformers/generation/utils.py:1258: UserWarning: Using the model-agnostic default `max_length` (=20) to control the generation length. We recommend setting `max_new_tokens` to control the maximum length of the generation.\n",
            "  warnings.warn(\n",
            "/usr/local/lib/python3.10/dist-packages/transformers/generation/utils.py:1258: UserWarning: Using the model-agnostic default `max_length` (=20) to control the generation length. We recommend setting `max_new_tokens` to control the maximum length of the generation.\n",
            "  warnings.warn(\n",
            "/usr/local/lib/python3.10/dist-packages/transformers/generation/utils.py:1258: UserWarning: Using the model-agnostic default `max_length` (=20) to control the generation length. We recommend setting `max_new_tokens` to control the maximum length of the generation.\n",
            "  warnings.warn(\n",
            "/usr/local/lib/python3.10/dist-packages/transformers/generation/utils.py:1258: UserWarning: Using the model-agnostic default `max_length` (=20) to control the generation length. We recommend setting `max_new_tokens` to control the maximum length of the generation.\n",
            "  warnings.warn(\n",
            "100%|██████████| 9/9 [19:53<00:00, 132.64s/it]\n"
          ]
        },
        {
          "metadata": {
            "tags": null
          },
          "name": "stdout",
          "output_type": "stream",
          "text": [
            "Epoch [2/5], Batch Loss: 2.2546\n",
            "Epoch [2/5], Average Loss: 2.5093, Accuracy: 48.31%\n"
          ]
        },
        {
          "metadata": {
            "tags": null
          },
          "name": "stderr",
          "output_type": "stream",
          "text": [
            "\r  0%|          | 0/9 [00:00<?, ?it/s]"
          ]
        },
        {
          "metadata": {
            "tags": null
          },
          "name": "stdout",
          "output_type": "stream",
          "text": [
            "Batch Labels: ['No', 'No', 'Calendars', '2016', 'No', 'Susan Branch', 'Calendars', 'Calendars', 'Old FarmerEEs Almanac', 'Yes', 'Year-In-A-Box', 'National Audubon Society', 'Chihuly 2016 Wall Calendar', 'French Country Diary 2016 Calendar', 'Yes', 'Calendars', '2016', 'Yes', '2016', '2016', 'Day Dream', 'Dale Chihuly', 'No', 'No', 'Calendars', 'Sierra Club', 'No', 'Mary Engelbreit', 'Grumpy Cat', \"The Complete Runner's Day-by-Day Log 2016 Calendar\", '2016', 'No']\n",
            "Mapped Labels: tensor([ 2,  2, 63, 38,  2, 74, 63, 63, 16, 50, 47, 59, 18, 46, 50, 63, 38, 50,\n",
            "        38, 38, 36, 23,  2,  2, 63, 52,  2, 34, 62, 57, 38,  2])\n"
          ]
        },
        {
          "metadata": {
            "tags": null
          },
          "name": "stderr",
          "output_type": "stream",
          "text": [
            "/usr/local/lib/python3.10/dist-packages/transformers/generation/utils.py:1258: UserWarning: Using the model-agnostic default `max_length` (=20) to control the generation length. We recommend setting `max_new_tokens` to control the maximum length of the generation.\n",
            "  warnings.warn(\n",
            "/usr/local/lib/python3.10/dist-packages/transformers/generation/utils.py:1258: UserWarning: Using the model-agnostic default `max_length` (=20) to control the generation length. We recommend setting `max_new_tokens` to control the maximum length of the generation.\n",
            "  warnings.warn(\n",
            "/usr/local/lib/python3.10/dist-packages/transformers/generation/utils.py:1258: UserWarning: Using the model-agnostic default `max_length` (=20) to control the generation length. We recommend setting `max_new_tokens` to control the maximum length of the generation.\n",
            "  warnings.warn(\n",
            "/usr/local/lib/python3.10/dist-packages/transformers/generation/utils.py:1258: UserWarning: Using the model-agnostic default `max_length` (=20) to control the generation length. We recommend setting `max_new_tokens` to control the maximum length of the generation.\n",
            "  warnings.warn(\n",
            "/usr/local/lib/python3.10/dist-packages/transformers/generation/utils.py:1258: UserWarning: Using the model-agnostic default `max_length` (=20) to control the generation length. We recommend setting `max_new_tokens` to control the maximum length of the generation.\n",
            "  warnings.warn(\n",
            "/usr/local/lib/python3.10/dist-packages/transformers/generation/utils.py:1258: UserWarning: Using the model-agnostic default `max_length` (=20) to control the generation length. We recommend setting `max_new_tokens` to control the maximum length of the generation.\n",
            "  warnings.warn(\n",
            "/usr/local/lib/python3.10/dist-packages/transformers/generation/utils.py:1258: UserWarning: Using the model-agnostic default `max_length` (=20) to control the generation length. We recommend setting `max_new_tokens` to control the maximum length of the generation.\n",
            "  warnings.warn(\n",
            "/usr/local/lib/python3.10/dist-packages/transformers/generation/utils.py:1258: UserWarning: Using the model-agnostic default `max_length` (=20) to control the generation length. We recommend setting `max_new_tokens` to control the maximum length of the generation.\n",
            "  warnings.warn(\n",
            "/usr/local/lib/python3.10/dist-packages/transformers/generation/utils.py:1258: UserWarning: Using the model-agnostic default `max_length` (=20) to control the generation length. We recommend setting `max_new_tokens` to control the maximum length of the generation.\n",
            "  warnings.warn(\n",
            " 11%|█         | 1/9 [02:25<19:26, 145.79s/it]"
          ]
        },
        {
          "metadata": {
            "tags": null
          },
          "name": "stdout",
          "output_type": "stream",
          "text": [
            "Epoch [3/5], Batch Loss: 1.8308\n",
            "Batch Labels: ['Dilbert 2016 Day-to-Day Calendar', 'No', '2016', 'Mary Engelbreit 2016 Deluxe Wall Calendar: Never Give Up', \"Llewellyn's 2016 Astrological Calendar: 83rd Edition of the World's Best Known, Most Trusted Astrology Calendar\", '2016', '2016', 'National Audubon Society', 'Moleskine', 'No', 'Someecards', 'Mary Engelbreit', 'No', 'Barbara Ardinger', 'Calendars', 'Yes', '2016', 'Calendars', 'Moleskine 2016 Monthly Notebook, 12M, Extra Large, Black, Soft Cover (7.5 x 10)', '2016', 'No', 'No', '2016', 'Day Dream', 'Sierra Club', '2016', 'Starz', 'Outlander 2016 Wall Calendar', '2016', '2016', 'Moleskine 2016 Weekly Notebook, 12M, Extra Large, Black, Soft Cover (7.5 x 10)', 'Calendars']\n",
            "Mapped Labels: tensor([44,  2, 38, 11, 84, 38, 38, 59, 29,  2, 65, 34,  2, 20, 63, 50, 38, 63,\n",
            "        35, 38,  2,  2, 38, 36, 52, 38, 43, 72, 38, 38, 33, 63])\n"
          ]
        },
        {
          "metadata": {
            "tags": null
          },
          "name": "stderr",
          "output_type": "stream",
          "text": [
            "/usr/local/lib/python3.10/dist-packages/transformers/generation/utils.py:1258: UserWarning: Using the model-agnostic default `max_length` (=20) to control the generation length. We recommend setting `max_new_tokens` to control the maximum length of the generation.\n",
            "  warnings.warn(\n",
            "/usr/local/lib/python3.10/dist-packages/transformers/generation/utils.py:1258: UserWarning: Using the model-agnostic default `max_length` (=20) to control the generation length. We recommend setting `max_new_tokens` to control the maximum length of the generation.\n",
            "  warnings.warn(\n",
            "/usr/local/lib/python3.10/dist-packages/transformers/generation/utils.py:1258: UserWarning: Using the model-agnostic default `max_length` (=20) to control the generation length. We recommend setting `max_new_tokens` to control the maximum length of the generation.\n",
            "  warnings.warn(\n",
            "/usr/local/lib/python3.10/dist-packages/transformers/generation/utils.py:1258: UserWarning: Using the model-agnostic default `max_length` (=20) to control the generation length. We recommend setting `max_new_tokens` to control the maximum length of the generation.\n",
            "  warnings.warn(\n",
            "/usr/local/lib/python3.10/dist-packages/transformers/generation/utils.py:1258: UserWarning: Using the model-agnostic default `max_length` (=20) to control the generation length. We recommend setting `max_new_tokens` to control the maximum length of the generation.\n",
            "  warnings.warn(\n",
            "/usr/local/lib/python3.10/dist-packages/transformers/generation/utils.py:1258: UserWarning: Using the model-agnostic default `max_length` (=20) to control the generation length. We recommend setting `max_new_tokens` to control the maximum length of the generation.\n",
            "  warnings.warn(\n",
            "/usr/local/lib/python3.10/dist-packages/transformers/generation/utils.py:1258: UserWarning: Using the model-agnostic default `max_length` (=20) to control the generation length. We recommend setting `max_new_tokens` to control the maximum length of the generation.\n",
            "  warnings.warn(\n",
            "/usr/local/lib/python3.10/dist-packages/transformers/generation/utils.py:1258: UserWarning: Using the model-agnostic default `max_length` (=20) to control the generation length. We recommend setting `max_new_tokens` to control the maximum length of the generation.\n",
            "  warnings.warn(\n",
            "/usr/local/lib/python3.10/dist-packages/transformers/generation/utils.py:1258: UserWarning: Using the model-agnostic default `max_length` (=20) to control the generation length. We recommend setting `max_new_tokens` to control the maximum length of the generation.\n",
            "  warnings.warn(\n",
            "/usr/local/lib/python3.10/dist-packages/transformers/generation/utils.py:1258: UserWarning: Using the model-agnostic default `max_length` (=20) to control the generation length. We recommend setting `max_new_tokens` to control the maximum length of the generation.\n",
            "  warnings.warn(\n",
            "/usr/local/lib/python3.10/dist-packages/transformers/generation/utils.py:1258: UserWarning: Using the model-agnostic default `max_length` (=20) to control the generation length. We recommend setting `max_new_tokens` to control the maximum length of the generation.\n",
            "  warnings.warn(\n",
            "/usr/local/lib/python3.10/dist-packages/transformers/generation/utils.py:1258: UserWarning: Using the model-agnostic default `max_length` (=20) to control the generation length. We recommend setting `max_new_tokens` to control the maximum length of the generation.\n",
            "  warnings.warn(\n",
            "/usr/local/lib/python3.10/dist-packages/transformers/generation/utils.py:1258: UserWarning: Using the model-agnostic default `max_length` (=20) to control the generation length. We recommend setting `max_new_tokens` to control the maximum length of the generation.\n",
            "  warnings.warn(\n",
            " 22%|██▏       | 2/9 [04:49<16:52, 144.66s/it]"
          ]
        },
        {
          "metadata": {
            "tags": null
          },
          "name": "stdout",
          "output_type": "stream",
          "text": [
            "Epoch [3/5], Batch Loss: 1.8077\n",
            "Batch Labels: ['No', 'No', 'No', 'Calendars', 'Calendars', '2016', 'No', 'The Legend of Zelda 2016 Wall Calendar', 'Workman Publishing', 'No', '2016', 'Calendars', '2016', 'Audubon Nature Wall Calendar 2016', 'Sandra Boynton', 'Grumpy Cat 2016 Wall Calendar', 'Dog Page-A-Day Gallery Calendar 2016', '2016', 'No', 'No', '2016', 'Calendars', 'Mary Engelbreit', 'Peter Pauper Press', '365 Cats Color Page-A-Day Calendar 2016', 'No', 'No', \"The Old Farmer's Almanac 2016 Gardening Calendar\", 'No', 'No', '365 Dogs Color Page-A-Day Calendar 2016', 'Yes']\n",
            "Mapped Labels: tensor([ 2,  2,  2, 63, 63, 38,  2, 45,  3,  2, 38, 63, 38, 10, 77,  1, 37, 38,\n",
            "         2,  2, 38, 63, 34, 66, 39,  2,  2, 73,  2,  2, 53, 50])\n"
          ]
        },
        {
          "metadata": {
            "tags": null
          },
          "name": "stderr",
          "output_type": "stream",
          "text": [
            "/usr/local/lib/python3.10/dist-packages/transformers/generation/utils.py:1258: UserWarning: Using the model-agnostic default `max_length` (=20) to control the generation length. We recommend setting `max_new_tokens` to control the maximum length of the generation.\n",
            "  warnings.warn(\n",
            "/usr/local/lib/python3.10/dist-packages/transformers/generation/utils.py:1258: UserWarning: Using the model-agnostic default `max_length` (=20) to control the generation length. We recommend setting `max_new_tokens` to control the maximum length of the generation.\n",
            "  warnings.warn(\n",
            "/usr/local/lib/python3.10/dist-packages/transformers/generation/utils.py:1258: UserWarning: Using the model-agnostic default `max_length` (=20) to control the generation length. We recommend setting `max_new_tokens` to control the maximum length of the generation.\n",
            "  warnings.warn(\n",
            "/usr/local/lib/python3.10/dist-packages/transformers/generation/utils.py:1258: UserWarning: Using the model-agnostic default `max_length` (=20) to control the generation length. We recommend setting `max_new_tokens` to control the maximum length of the generation.\n",
            "  warnings.warn(\n",
            "/usr/local/lib/python3.10/dist-packages/transformers/generation/utils.py:1258: UserWarning: Using the model-agnostic default `max_length` (=20) to control the generation length. We recommend setting `max_new_tokens` to control the maximum length of the generation.\n",
            "  warnings.warn(\n",
            "/usr/local/lib/python3.10/dist-packages/transformers/generation/utils.py:1258: UserWarning: Using the model-agnostic default `max_length` (=20) to control the generation length. We recommend setting `max_new_tokens` to control the maximum length of the generation.\n",
            "  warnings.warn(\n",
            " 33%|███▎      | 3/9 [07:08<14:12, 142.01s/it]"
          ]
        },
        {
          "metadata": {
            "tags": null
          },
          "name": "stdout",
          "output_type": "stream",
          "text": [
            "Epoch [3/5], Batch Loss: 1.6315\n",
            "Batch Labels: ['Walking Dead 2016 Wall Calendar', 'Calendars', 'Moleskine', 'No', '2016', 'Today Is Going to Be a Great Day! Color Page-A-Day Calendar 2016', '2016 National Park Foundation Wall Calendar', 'Yes', 'Claire Belton', '2016 Someecards Daily Desktop Calendar', 'Calendars', 'Calendars', 'No', 'Calendars', 'Yes', 'Anne Taintor 2016 Wall Calendar', 'Pusheen the Cat 2016 Wall Calendar', 'Calendars', 'Calendars', 'Calendars', '2016', 'Mary Engelbreit', 'Yes', 'No', '2016', 'Posh: Coloring 2016 Day-to-Day Calendar: For Fun & Relaxation', '2016', '2016', 'Calendars', 'Calendars', 'Audubon Birds Page-A-Day Gallery Calendar 2016', 'Thomas Kinkade: The Disney Dreams Collection 2016 Wall Calendar']\n",
            "Mapped Labels: tensor([67, 63, 29,  2, 38, 27, 25, 50, 61, 79, 63, 63,  2, 63, 50, 17, 32, 63,\n",
            "        63, 63, 38, 34, 50,  2, 38, 55, 38, 38, 63, 63, 49, 30])\n"
          ]
        },
        {
          "metadata": {
            "tags": null
          },
          "name": "stderr",
          "output_type": "stream",
          "text": [
            "/usr/local/lib/python3.10/dist-packages/transformers/generation/utils.py:1258: UserWarning: Using the model-agnostic default `max_length` (=20) to control the generation length. We recommend setting `max_new_tokens` to control the maximum length of the generation.\n",
            "  warnings.warn(\n",
            "/usr/local/lib/python3.10/dist-packages/transformers/generation/utils.py:1258: UserWarning: Using the model-agnostic default `max_length` (=20) to control the generation length. We recommend setting `max_new_tokens` to control the maximum length of the generation.\n",
            "  warnings.warn(\n",
            "/usr/local/lib/python3.10/dist-packages/transformers/generation/utils.py:1258: UserWarning: Using the model-agnostic default `max_length` (=20) to control the generation length. We recommend setting `max_new_tokens` to control the maximum length of the generation.\n",
            "  warnings.warn(\n",
            "/usr/local/lib/python3.10/dist-packages/transformers/generation/utils.py:1258: UserWarning: Using the model-agnostic default `max_length` (=20) to control the generation length. We recommend setting `max_new_tokens` to control the maximum length of the generation.\n",
            "  warnings.warn(\n",
            "/usr/local/lib/python3.10/dist-packages/transformers/generation/utils.py:1258: UserWarning: Using the model-agnostic default `max_length` (=20) to control the generation length. We recommend setting `max_new_tokens` to control the maximum length of the generation.\n",
            "  warnings.warn(\n",
            "/usr/local/lib/python3.10/dist-packages/transformers/generation/utils.py:1258: UserWarning: Using the model-agnostic default `max_length` (=20) to control the generation length. We recommend setting `max_new_tokens` to control the maximum length of the generation.\n",
            "  warnings.warn(\n",
            "/usr/local/lib/python3.10/dist-packages/transformers/generation/utils.py:1258: UserWarning: Using the model-agnostic default `max_length` (=20) to control the generation length. We recommend setting `max_new_tokens` to control the maximum length of the generation.\n",
            "  warnings.warn(\n",
            "/usr/local/lib/python3.10/dist-packages/transformers/generation/utils.py:1258: UserWarning: Using the model-agnostic default `max_length` (=20) to control the generation length. We recommend setting `max_new_tokens` to control the maximum length of the generation.\n",
            "  warnings.warn(\n",
            "/usr/local/lib/python3.10/dist-packages/transformers/generation/utils.py:1258: UserWarning: Using the model-agnostic default `max_length` (=20) to control the generation length. We recommend setting `max_new_tokens` to control the maximum length of the generation.\n",
            "  warnings.warn(\n",
            " 44%|████▍     | 4/9 [09:32<11:54, 142.88s/it]"
          ]
        },
        {
          "metadata": {
            "tags": null
          },
          "name": "stdout",
          "output_type": "stream",
          "text": [
            "Epoch [3/5], Batch Loss: 1.6069\n",
            "Batch Labels: ['2016', 'National Parks Foundation', 'Workman Publishing', '2016', '2016 Susan Branch Wall Calendar', 'Moleskine 2016 Weekly Notebook, 12M, Pocket, Black, Soft Cover (3.5 x 5.5)', 'Sierra Club Engagement Calendar 2016', 'Yes', 'Yes', 'Scott Adams', 'Calendars', 'George R. R. Martin', 'Calendars', 'Calendars', 'Calendars', 'Calendars', 'Amc', '2016', 'Workman Publishing', 'Calendars', 'No', 'National Audubon Society', '2016', 'Calendars', 'Yes', 'Color Your Year Wall Calendar 2016: Mindful Coloring Through the Seasons', 'No', 'Anne Taintor', 'Moleskine 2016 Weekly Notebook, 12M, Large, Black, Soft Cover (5 x 8.25)', 'Calendars', 'Yes', 'Calendars']\n",
            "Mapped Labels: tensor([38, 82,  3, 38, 64, 60, 24, 50, 50, 80, 63, 69, 63, 63, 63, 63,  6, 38,\n",
            "         3, 63,  2, 59, 38, 63, 50, 86,  2, 22, 56, 63, 50, 63])\n"
          ]
        },
        {
          "metadata": {
            "tags": null
          },
          "name": "stderr",
          "output_type": "stream",
          "text": [
            "/usr/local/lib/python3.10/dist-packages/transformers/generation/utils.py:1258: UserWarning: Using the model-agnostic default `max_length` (=20) to control the generation length. We recommend setting `max_new_tokens` to control the maximum length of the generation.\n",
            "  warnings.warn(\n",
            "/usr/local/lib/python3.10/dist-packages/transformers/generation/utils.py:1258: UserWarning: Using the model-agnostic default `max_length` (=20) to control the generation length. We recommend setting `max_new_tokens` to control the maximum length of the generation.\n",
            "  warnings.warn(\n",
            "/usr/local/lib/python3.10/dist-packages/transformers/generation/utils.py:1258: UserWarning: Using the model-agnostic default `max_length` (=20) to control the generation length. We recommend setting `max_new_tokens` to control the maximum length of the generation.\n",
            "  warnings.warn(\n",
            "/usr/local/lib/python3.10/dist-packages/transformers/generation/utils.py:1258: UserWarning: Using the model-agnostic default `max_length` (=20) to control the generation length. We recommend setting `max_new_tokens` to control the maximum length of the generation.\n",
            "  warnings.warn(\n",
            "/usr/local/lib/python3.10/dist-packages/transformers/generation/utils.py:1258: UserWarning: Using the model-agnostic default `max_length` (=20) to control the generation length. We recommend setting `max_new_tokens` to control the maximum length of the generation.\n",
            "  warnings.warn(\n",
            "/usr/local/lib/python3.10/dist-packages/transformers/generation/utils.py:1258: UserWarning: Using the model-agnostic default `max_length` (=20) to control the generation length. We recommend setting `max_new_tokens` to control the maximum length of the generation.\n",
            "  warnings.warn(\n",
            "/usr/local/lib/python3.10/dist-packages/transformers/generation/utils.py:1258: UserWarning: Using the model-agnostic default `max_length` (=20) to control the generation length. We recommend setting `max_new_tokens` to control the maximum length of the generation.\n",
            "  warnings.warn(\n",
            "/usr/local/lib/python3.10/dist-packages/transformers/generation/utils.py:1258: UserWarning: Using the model-agnostic default `max_length` (=20) to control the generation length. We recommend setting `max_new_tokens` to control the maximum length of the generation.\n",
            "  warnings.warn(\n",
            "/usr/local/lib/python3.10/dist-packages/transformers/generation/utils.py:1258: UserWarning: Using the model-agnostic default `max_length` (=20) to control the generation length. We recommend setting `max_new_tokens` to control the maximum length of the generation.\n",
            "  warnings.warn(\n",
            " 56%|█████▌    | 5/9 [11:49<09:22, 140.55s/it]"
          ]
        },
        {
          "metadata": {
            "tags": null
          },
          "name": "stdout",
          "output_type": "stream",
          "text": [
            "Epoch [3/5], Batch Loss: 1.9472\n",
            "Batch Labels: ['Calendars', 'No', 'Calendars', 'No', '2016', 'Calendars', 'Yes', 'Calendars', 'No', 'Calendars', 'Calendars', 'Yes', '365 New Words-A-Year Page-A-Day Calendar 2016', 'MAXINE  Year-In-A-Box Calendar (2016)', 'No', 'Yes', 'Jane Meredith', 'No', 'Calendars', '2016', 'Doug the Pug 2016 Wall Calendar', 'Amy Knapp', 'No', 'Sierra Club Wilderness Calendar 2016', 'No', 'Calendars', 'Thomas Kinkade', 'Yes', 'Yes', \"Mom's Family Wall Calendar 2016\", '2016', 'Calendars']\n",
            "Mapped Labels: tensor([63,  2, 63,  2, 38, 63, 50, 63,  2, 63, 63, 50, 31,  8,  2, 50, 78,  2,\n",
            "        63, 38, 15,  0,  2, 40,  2, 63, 51, 50, 50, 26, 38, 63])\n"
          ]
        },
        {
          "metadata": {
            "tags": null
          },
          "name": "stderr",
          "output_type": "stream",
          "text": [
            "/usr/local/lib/python3.10/dist-packages/transformers/generation/utils.py:1258: UserWarning: Using the model-agnostic default `max_length` (=20) to control the generation length. We recommend setting `max_new_tokens` to control the maximum length of the generation.\n",
            "  warnings.warn(\n",
            "/usr/local/lib/python3.10/dist-packages/transformers/generation/utils.py:1258: UserWarning: Using the model-agnostic default `max_length` (=20) to control the generation length. We recommend setting `max_new_tokens` to control the maximum length of the generation.\n",
            "  warnings.warn(\n",
            "/usr/local/lib/python3.10/dist-packages/transformers/generation/utils.py:1258: UserWarning: Using the model-agnostic default `max_length` (=20) to control the generation length. We recommend setting `max_new_tokens` to control the maximum length of the generation.\n",
            "  warnings.warn(\n",
            " 67%|██████▋   | 6/9 [14:14<07:06, 142.15s/it]"
          ]
        },
        {
          "metadata": {
            "tags": null
          },
          "name": "stdout",
          "output_type": "stream",
          "text": [
            "Epoch [3/5], Batch Loss: 1.5155\n",
            "Batch Labels: ['2016', '2016', '2016', 'Calendars', 'Mary Engelbreit 2016 Monthly Pocket Planner: Just Being ME!', 'No', 'Doug the Pug', 'Disney Descendants Wall Calendar (2016)', '2016', '2016', 'Linda Dannenberg', 'No', '2015', '2016 Almond Blossoms Weekly Planner (16-Month Engagement Calendar, Diary)', '2016', 'Once Upon a Time Wall Calendar (2016)', 'Llewellyn', 'Calendars', 'Calendars', '2016', '2016', '2016', 'No', '2016', 'A Song of Ice and Fire 2016 Calendar', 'Posh: Coloring 2015-2016 Large Monthly/Weekly Planning Calendar', '2016', 'Nintendo', 'Calendars', 'Cat Page-A-Day Gallery Calendar 2016', 'Moleskine', 'No']\n",
            "Mapped Labels: tensor([38, 38, 38, 63, 14,  2, 85, 83, 38, 38, 12,  2,  9,  5, 38, 71, 41, 63,\n",
            "        63, 38, 38, 38,  2, 38, 81, 70, 38, 19, 63, 42, 29,  2])\n"
          ]
        },
        {
          "metadata": {
            "tags": null
          },
          "name": "stderr",
          "output_type": "stream",
          "text": [
            "/usr/local/lib/python3.10/dist-packages/transformers/generation/utils.py:1258: UserWarning: Using the model-agnostic default `max_length` (=20) to control the generation length. We recommend setting `max_new_tokens` to control the maximum length of the generation.\n",
            "  warnings.warn(\n",
            "/usr/local/lib/python3.10/dist-packages/transformers/generation/utils.py:1258: UserWarning: Using the model-agnostic default `max_length` (=20) to control the generation length. We recommend setting `max_new_tokens` to control the maximum length of the generation.\n",
            "  warnings.warn(\n",
            "/usr/local/lib/python3.10/dist-packages/transformers/generation/utils.py:1258: UserWarning: Using the model-agnostic default `max_length` (=20) to control the generation length. We recommend setting `max_new_tokens` to control the maximum length of the generation.\n",
            "  warnings.warn(\n",
            "/usr/local/lib/python3.10/dist-packages/transformers/generation/utils.py:1258: UserWarning: Using the model-agnostic default `max_length` (=20) to control the generation length. We recommend setting `max_new_tokens` to control the maximum length of the generation.\n",
            "  warnings.warn(\n",
            "/usr/local/lib/python3.10/dist-packages/transformers/generation/utils.py:1258: UserWarning: Using the model-agnostic default `max_length` (=20) to control the generation length. We recommend setting `max_new_tokens` to control the maximum length of the generation.\n",
            "  warnings.warn(\n",
            "/usr/local/lib/python3.10/dist-packages/transformers/generation/utils.py:1258: UserWarning: Using the model-agnostic default `max_length` (=20) to control the generation length. We recommend setting `max_new_tokens` to control the maximum length of the generation.\n",
            "  warnings.warn(\n",
            "/usr/local/lib/python3.10/dist-packages/transformers/generation/utils.py:1258: UserWarning: Using the model-agnostic default `max_length` (=20) to control the generation length. We recommend setting `max_new_tokens` to control the maximum length of the generation.\n",
            "  warnings.warn(\n",
            " 78%|███████▊  | 7/9 [16:35<04:43, 141.94s/it]"
          ]
        },
        {
          "metadata": {
            "tags": null
          },
          "name": "stdout",
          "output_type": "stream",
          "text": [
            "Epoch [3/5], Batch Loss: 1.6542\n",
            "Batch Labels: ['2016', 'Calendars', 'Ansel Adams 2016 Wall Calendar', 'Merriam-Webster', \"Mary Engelbreit 2016 Weekly Planner Calendar: Smile! It's Good For  You\", '2016', '2016', '2016', '2016', 'Thaneeya McArdle', 'No', 'Workman Publishing', 'Calendars', '2016', '2016', '2016 Amy Knapp Big Grid Wall Calendar: The essential organization and communication tool for the entire family', 'Calendars', 'No', 'No', 'Andrews McMeel Publishing LLC', 'Calendars', 'Moleskine', 'Workman Publishing', 'Calendars', 'Calendars', 'Moleskine 2015-2016 Weekly Notebook, 18M, Large, Black, Soft Cover (5 x 8.25)', 'No', 'Marty Jerome', 'No', \"Llewellyn's 2016 Witches' Calendar\", 'Workman Publishing', \"Llewellyn's 2016 Witches' Datebook\"]\n",
            "Mapped Labels: tensor([38, 63,  7, 75, 76, 38, 38, 38, 38, 58,  2,  3, 63, 38, 38, 54, 63,  2,\n",
            "         2, 68, 63, 29,  3, 63, 63, 28,  2, 87,  2, 21,  3, 13])\n"
          ]
        },
        {
          "metadata": {
            "tags": null
          },
          "name": "stderr",
          "output_type": "stream",
          "text": [
            "/usr/local/lib/python3.10/dist-packages/transformers/generation/utils.py:1258: UserWarning: Using the model-agnostic default `max_length` (=20) to control the generation length. We recommend setting `max_new_tokens` to control the maximum length of the generation.\n",
            "  warnings.warn(\n",
            "/usr/local/lib/python3.10/dist-packages/transformers/generation/utils.py:1258: UserWarning: Using the model-agnostic default `max_length` (=20) to control the generation length. We recommend setting `max_new_tokens` to control the maximum length of the generation.\n",
            "  warnings.warn(\n",
            "/usr/local/lib/python3.10/dist-packages/transformers/generation/utils.py:1258: UserWarning: Using the model-agnostic default `max_length` (=20) to control the generation length. We recommend setting `max_new_tokens` to control the maximum length of the generation.\n",
            "  warnings.warn(\n",
            "/usr/local/lib/python3.10/dist-packages/transformers/generation/utils.py:1258: UserWarning: Using the model-agnostic default `max_length` (=20) to control the generation length. We recommend setting `max_new_tokens` to control the maximum length of the generation.\n",
            "  warnings.warn(\n",
            "/usr/local/lib/python3.10/dist-packages/transformers/generation/utils.py:1258: UserWarning: Using the model-agnostic default `max_length` (=20) to control the generation length. We recommend setting `max_new_tokens` to control the maximum length of the generation.\n",
            "  warnings.warn(\n",
            "/usr/local/lib/python3.10/dist-packages/transformers/generation/utils.py:1258: UserWarning: Using the model-agnostic default `max_length` (=20) to control the generation length. We recommend setting `max_new_tokens` to control the maximum length of the generation.\n",
            "  warnings.warn(\n",
            " 89%|████████▉ | 8/9 [18:52<02:20, 140.33s/it]"
          ]
        },
        {
          "metadata": {
            "tags": null
          },
          "name": "stdout",
          "output_type": "stream",
          "text": [
            "Epoch [3/5], Batch Loss: 1.6489\n",
            "Batch Labels: ['Yes', 'Yes', 'Calendars', 'Audubon Engagement Calendar 2016', 'Moleskine', '2016', 'No', 'Mary Engelbreit 2016 Day-to-Day Calendar: Enjoy the Joy', '2015', 'Yes', 'No']\n",
            "Mapped Labels: tensor([50, 50, 63,  4, 29, 38,  2, 48,  9, 50,  2])\n"
          ]
        },
        {
          "metadata": {
            "tags": null
          },
          "name": "stderr",
          "output_type": "stream",
          "text": [
            "/usr/local/lib/python3.10/dist-packages/transformers/generation/utils.py:1258: UserWarning: Using the model-agnostic default `max_length` (=20) to control the generation length. We recommend setting `max_new_tokens` to control the maximum length of the generation.\n",
            "  warnings.warn(\n",
            "/usr/local/lib/python3.10/dist-packages/transformers/generation/utils.py:1258: UserWarning: Using the model-agnostic default `max_length` (=20) to control the generation length. We recommend setting `max_new_tokens` to control the maximum length of the generation.\n",
            "  warnings.warn(\n",
            "/usr/local/lib/python3.10/dist-packages/transformers/generation/utils.py:1258: UserWarning: Using the model-agnostic default `max_length` (=20) to control the generation length. We recommend setting `max_new_tokens` to control the maximum length of the generation.\n",
            "  warnings.warn(\n",
            "/usr/local/lib/python3.10/dist-packages/transformers/generation/utils.py:1258: UserWarning: Using the model-agnostic default `max_length` (=20) to control the generation length. We recommend setting `max_new_tokens` to control the maximum length of the generation.\n",
            "  warnings.warn(\n",
            "100%|██████████| 9/9 [19:45<00:00, 131.74s/it]\n"
          ]
        },
        {
          "metadata": {
            "tags": null
          },
          "name": "stdout",
          "output_type": "stream",
          "text": [
            "Epoch [3/5], Batch Loss: 1.8572\n",
            "Epoch [3/5], Average Loss: 1.7222, Accuracy: 65.54%\n"
          ]
        },
        {
          "metadata": {
            "tags": null
          },
          "name": "stderr",
          "output_type": "stream",
          "text": [
            "\r  0%|          | 0/9 [00:00<?, ?it/s]"
          ]
        },
        {
          "metadata": {
            "tags": null
          },
          "name": "stdout",
          "output_type": "stream",
          "text": [
            "Batch Labels: ['Workman Publishing', '2016', 'Posh: Coloring 2016 Day-to-Day Calendar: For Fun & Relaxation', 'Calendars', '2015', '2016', 'French Country Diary 2016 Calendar', 'Yes', 'Workman Publishing', 'Calendars', 'Yes', 'Calendars', '2016', 'Calendars', 'Yes', 'No', '2016', 'Calendars', \"Llewellyn's 2016 Witches' Calendar\", 'Moleskine 2016 Monthly Notebook, 12M, Extra Large, Black, Soft Cover (7.5 x 10)', 'Mary Engelbreit 2016 Day-to-Day Calendar: Enjoy the Joy', '2016 Amy Knapp Big Grid Wall Calendar: The essential organization and communication tool for the entire family', '2016', 'No', 'No', 'Yes', 'No', 'Doug the Pug', 'Calendars', '365 Cats Color Page-A-Day Calendar 2016', 'Once Upon a Time Wall Calendar (2016)', 'Moleskine 2016 Weekly Notebook, 12M, Large, Black, Soft Cover (5 x 8.25)']\n",
            "Mapped Labels: tensor([ 3, 38, 55, 63,  9, 38, 46, 50,  3, 63, 50, 63, 38, 63, 50,  2, 38, 63,\n",
            "        21, 35, 48, 54, 38,  2,  2, 50,  2, 85, 63, 39, 71, 56])\n"
          ]
        },
        {
          "metadata": {
            "tags": null
          },
          "name": "stderr",
          "output_type": "stream",
          "text": [
            "/usr/local/lib/python3.10/dist-packages/transformers/generation/utils.py:1258: UserWarning: Using the model-agnostic default `max_length` (=20) to control the generation length. We recommend setting `max_new_tokens` to control the maximum length of the generation.\n",
            "  warnings.warn(\n",
            "/usr/local/lib/python3.10/dist-packages/transformers/generation/utils.py:1258: UserWarning: Using the model-agnostic default `max_length` (=20) to control the generation length. We recommend setting `max_new_tokens` to control the maximum length of the generation.\n",
            "  warnings.warn(\n",
            "/usr/local/lib/python3.10/dist-packages/transformers/generation/utils.py:1258: UserWarning: Using the model-agnostic default `max_length` (=20) to control the generation length. We recommend setting `max_new_tokens` to control the maximum length of the generation.\n",
            "  warnings.warn(\n",
            "/usr/local/lib/python3.10/dist-packages/transformers/generation/utils.py:1258: UserWarning: Using the model-agnostic default `max_length` (=20) to control the generation length. We recommend setting `max_new_tokens` to control the maximum length of the generation.\n",
            "  warnings.warn(\n",
            "/usr/local/lib/python3.10/dist-packages/transformers/generation/utils.py:1258: UserWarning: Using the model-agnostic default `max_length` (=20) to control the generation length. We recommend setting `max_new_tokens` to control the maximum length of the generation.\n",
            "  warnings.warn(\n",
            "/usr/local/lib/python3.10/dist-packages/transformers/generation/utils.py:1258: UserWarning: Using the model-agnostic default `max_length` (=20) to control the generation length. We recommend setting `max_new_tokens` to control the maximum length of the generation.\n",
            "  warnings.warn(\n",
            "/usr/local/lib/python3.10/dist-packages/transformers/generation/utils.py:1258: UserWarning: Using the model-agnostic default `max_length` (=20) to control the generation length. We recommend setting `max_new_tokens` to control the maximum length of the generation.\n",
            "  warnings.warn(\n",
            " 11%|█         | 1/9 [02:19<18:39, 139.91s/it]"
          ]
        },
        {
          "metadata": {
            "tags": null
          },
          "name": "stdout",
          "output_type": "stream",
          "text": [
            "Epoch [4/5], Batch Loss: 1.4567\n",
            "Batch Labels: ['Scott Adams', 'Sierra Club Wilderness Calendar 2016', \"The Complete Runner's Day-by-Day Log 2016 Calendar\", 'Calendars', '2016', 'Yes', \"Llewellyn's 2016 Astrological Calendar: 83rd Edition of the World's Best Known, Most Trusted Astrology Calendar\", 'Thomas Kinkade', '2016', 'Calendars', 'Dale Chihuly', 'Calendars', 'Calendars', 'Workman Publishing', 'Someecards', 'Yes', '2016', 'Calendars', '2016', 'No', 'Calendars', 'Barbara Ardinger', 'Color Your Year Wall Calendar 2016: Mindful Coloring Through the Seasons', 'Claire Belton', 'Disney Descendants Wall Calendar (2016)', '2016', '365 New Words-A-Year Page-A-Day Calendar 2016', 'No', 'No', 'Moleskine', 'No', 'Peter Pauper Press']\n",
            "Mapped Labels: tensor([80, 40, 57, 63, 38, 50, 84, 51, 38, 63, 23, 63, 63,  3, 65, 50, 38, 63,\n",
            "        38,  2, 63, 20, 86, 61, 83, 38, 31,  2,  2, 29,  2, 66])\n"
          ]
        },
        {
          "metadata": {
            "tags": null
          },
          "name": "stderr",
          "output_type": "stream",
          "text": [
            "/usr/local/lib/python3.10/dist-packages/transformers/generation/utils.py:1258: UserWarning: Using the model-agnostic default `max_length` (=20) to control the generation length. We recommend setting `max_new_tokens` to control the maximum length of the generation.\n",
            "  warnings.warn(\n",
            "/usr/local/lib/python3.10/dist-packages/transformers/generation/utils.py:1258: UserWarning: Using the model-agnostic default `max_length` (=20) to control the generation length. We recommend setting `max_new_tokens` to control the maximum length of the generation.\n",
            "  warnings.warn(\n",
            "/usr/local/lib/python3.10/dist-packages/transformers/generation/utils.py:1258: UserWarning: Using the model-agnostic default `max_length` (=20) to control the generation length. We recommend setting `max_new_tokens` to control the maximum length of the generation.\n",
            "  warnings.warn(\n",
            "/usr/local/lib/python3.10/dist-packages/transformers/generation/utils.py:1258: UserWarning: Using the model-agnostic default `max_length` (=20) to control the generation length. We recommend setting `max_new_tokens` to control the maximum length of the generation.\n",
            "  warnings.warn(\n",
            "/usr/local/lib/python3.10/dist-packages/transformers/generation/utils.py:1258: UserWarning: Using the model-agnostic default `max_length` (=20) to control the generation length. We recommend setting `max_new_tokens` to control the maximum length of the generation.\n",
            "  warnings.warn(\n",
            "/usr/local/lib/python3.10/dist-packages/transformers/generation/utils.py:1258: UserWarning: Using the model-agnostic default `max_length` (=20) to control the generation length. We recommend setting `max_new_tokens` to control the maximum length of the generation.\n",
            "  warnings.warn(\n",
            "/usr/local/lib/python3.10/dist-packages/transformers/generation/utils.py:1258: UserWarning: Using the model-agnostic default `max_length` (=20) to control the generation length. We recommend setting `max_new_tokens` to control the maximum length of the generation.\n",
            "  warnings.warn(\n",
            "/usr/local/lib/python3.10/dist-packages/transformers/generation/utils.py:1258: UserWarning: Using the model-agnostic default `max_length` (=20) to control the generation length. We recommend setting `max_new_tokens` to control the maximum length of the generation.\n",
            "  warnings.warn(\n",
            "/usr/local/lib/python3.10/dist-packages/transformers/generation/utils.py:1258: UserWarning: Using the model-agnostic default `max_length` (=20) to control the generation length. We recommend setting `max_new_tokens` to control the maximum length of the generation.\n",
            "  warnings.warn(\n",
            "/usr/local/lib/python3.10/dist-packages/transformers/generation/utils.py:1258: UserWarning: Using the model-agnostic default `max_length` (=20) to control the generation length. We recommend setting `max_new_tokens` to control the maximum length of the generation.\n",
            "  warnings.warn(\n",
            " 22%|██▏       | 2/9 [04:37<16:08, 138.42s/it]"
          ]
        },
        {
          "metadata": {
            "tags": null
          },
          "name": "stdout",
          "output_type": "stream",
          "text": [
            "Epoch [4/5], Batch Loss: 1.4402\n",
            "Batch Labels: ['Audubon Birds Page-A-Day Gallery Calendar 2016', 'Moleskine', 'Moleskine 2016 Weekly Notebook, 12M, Extra Large, Black, Soft Cover (7.5 x 10)', '365 Dogs Color Page-A-Day Calendar 2016', \"Llewellyn's 2016 Witches' Datebook\", '2016', 'No', 'Walking Dead 2016 Wall Calendar', 'Yes', 'Yes', 'National Audubon Society', 'No', 'Calendars', 'Doug the Pug 2016 Wall Calendar', 'No', 'Calendars', 'No', 'Calendars', '2016', 'Mary Engelbreit', 'Outlander 2016 Wall Calendar', 'Calendars', 'Yes', '2016', 'Starz', '2016', 'Moleskine', '2016', 'Mary Engelbreit 2016 Deluxe Wall Calendar: Never Give Up', '2016', '2016', 'Calendars']\n",
            "Mapped Labels: tensor([49, 29, 33, 53, 13, 38,  2, 67, 50, 50, 59,  2, 63, 15,  2, 63,  2, 63,\n",
            "        38, 34, 72, 63, 50, 38, 43, 38, 29, 38, 11, 38, 38, 63])\n"
          ]
        },
        {
          "metadata": {
            "tags": null
          },
          "name": "stderr",
          "output_type": "stream",
          "text": [
            "/usr/local/lib/python3.10/dist-packages/transformers/generation/utils.py:1258: UserWarning: Using the model-agnostic default `max_length` (=20) to control the generation length. We recommend setting `max_new_tokens` to control the maximum length of the generation.\n",
            "  warnings.warn(\n",
            "/usr/local/lib/python3.10/dist-packages/transformers/generation/utils.py:1258: UserWarning: Using the model-agnostic default `max_length` (=20) to control the generation length. We recommend setting `max_new_tokens` to control the maximum length of the generation.\n",
            "  warnings.warn(\n",
            "/usr/local/lib/python3.10/dist-packages/transformers/generation/utils.py:1258: UserWarning: Using the model-agnostic default `max_length` (=20) to control the generation length. We recommend setting `max_new_tokens` to control the maximum length of the generation.\n",
            "  warnings.warn(\n",
            "/usr/local/lib/python3.10/dist-packages/transformers/generation/utils.py:1258: UserWarning: Using the model-agnostic default `max_length` (=20) to control the generation length. We recommend setting `max_new_tokens` to control the maximum length of the generation.\n",
            "  warnings.warn(\n",
            "/usr/local/lib/python3.10/dist-packages/transformers/generation/utils.py:1258: UserWarning: Using the model-agnostic default `max_length` (=20) to control the generation length. We recommend setting `max_new_tokens` to control the maximum length of the generation.\n",
            "  warnings.warn(\n",
            "/usr/local/lib/python3.10/dist-packages/transformers/generation/utils.py:1258: UserWarning: Using the model-agnostic default `max_length` (=20) to control the generation length. We recommend setting `max_new_tokens` to control the maximum length of the generation.\n",
            "  warnings.warn(\n",
            " 33%|███▎      | 3/9 [06:56<13:53, 138.86s/it]"
          ]
        },
        {
          "metadata": {
            "tags": null
          },
          "name": "stdout",
          "output_type": "stream",
          "text": [
            "Epoch [4/5], Batch Loss: 1.2328\n",
            "Batch Labels: ['Calendars', 'Workman Publishing', 'Calendars', 'No', 'Yes', '2016', 'No', '2016 National Park Foundation Wall Calendar', 'Calendars', '2016', 'Yes', 'Sierra Club', 'Yes', 'Calendars', '2016 Almond Blossoms Weekly Planner (16-Month Engagement Calendar, Diary)', 'Calendars', 'Calendars', 'MAXINE  Year-In-A-Box Calendar (2016)', 'Anne Taintor', 'Amc', 'Calendars', 'George R. R. Martin', 'Merriam-Webster', 'Calendars', '2016', '2016', 'Calendars', '2016', '2016', '2016', 'No', 'No']\n",
            "Mapped Labels: tensor([63,  3, 63,  2, 50, 38,  2, 25, 63, 38, 50, 52, 50, 63,  5, 63, 63,  8,\n",
            "        22,  6, 63, 69, 75, 63, 38, 38, 63, 38, 38, 38,  2,  2])\n"
          ]
        },
        {
          "metadata": {
            "tags": null
          },
          "name": "stderr",
          "output_type": "stream",
          "text": [
            "/usr/local/lib/python3.10/dist-packages/transformers/generation/utils.py:1258: UserWarning: Using the model-agnostic default `max_length` (=20) to control the generation length. We recommend setting `max_new_tokens` to control the maximum length of the generation.\n",
            "  warnings.warn(\n",
            "/usr/local/lib/python3.10/dist-packages/transformers/generation/utils.py:1258: UserWarning: Using the model-agnostic default `max_length` (=20) to control the generation length. We recommend setting `max_new_tokens` to control the maximum length of the generation.\n",
            "  warnings.warn(\n",
            "/usr/local/lib/python3.10/dist-packages/transformers/generation/utils.py:1258: UserWarning: Using the model-agnostic default `max_length` (=20) to control the generation length. We recommend setting `max_new_tokens` to control the maximum length of the generation.\n",
            "  warnings.warn(\n",
            "/usr/local/lib/python3.10/dist-packages/transformers/generation/utils.py:1258: UserWarning: Using the model-agnostic default `max_length` (=20) to control the generation length. We recommend setting `max_new_tokens` to control the maximum length of the generation.\n",
            "  warnings.warn(\n",
            "/usr/local/lib/python3.10/dist-packages/transformers/generation/utils.py:1258: UserWarning: Using the model-agnostic default `max_length` (=20) to control the generation length. We recommend setting `max_new_tokens` to control the maximum length of the generation.\n",
            "  warnings.warn(\n",
            "/usr/local/lib/python3.10/dist-packages/transformers/generation/utils.py:1258: UserWarning: Using the model-agnostic default `max_length` (=20) to control the generation length. We recommend setting `max_new_tokens` to control the maximum length of the generation.\n",
            "  warnings.warn(\n",
            "/usr/local/lib/python3.10/dist-packages/transformers/generation/utils.py:1258: UserWarning: Using the model-agnostic default `max_length` (=20) to control the generation length. We recommend setting `max_new_tokens` to control the maximum length of the generation.\n",
            "  warnings.warn(\n",
            "/usr/local/lib/python3.10/dist-packages/transformers/generation/utils.py:1258: UserWarning: Using the model-agnostic default `max_length` (=20) to control the generation length. We recommend setting `max_new_tokens` to control the maximum length of the generation.\n",
            "  warnings.warn(\n",
            "/usr/local/lib/python3.10/dist-packages/transformers/generation/utils.py:1258: UserWarning: Using the model-agnostic default `max_length` (=20) to control the generation length. We recommend setting `max_new_tokens` to control the maximum length of the generation.\n",
            "  warnings.warn(\n",
            "/usr/local/lib/python3.10/dist-packages/transformers/generation/utils.py:1258: UserWarning: Using the model-agnostic default `max_length` (=20) to control the generation length. We recommend setting `max_new_tokens` to control the maximum length of the generation.\n",
            "  warnings.warn(\n",
            "/usr/local/lib/python3.10/dist-packages/transformers/generation/utils.py:1258: UserWarning: Using the model-agnostic default `max_length` (=20) to control the generation length. We recommend setting `max_new_tokens` to control the maximum length of the generation.\n",
            "  warnings.warn(\n",
            " 44%|████▍     | 4/9 [09:15<11:33, 138.69s/it]"
          ]
        },
        {
          "metadata": {
            "tags": null
          },
          "name": "stdout",
          "output_type": "stream",
          "text": [
            "Epoch [4/5], Batch Loss: 1.0568\n",
            "Batch Labels: ['2016', \"Mary Engelbreit 2016 Weekly Planner Calendar: Smile! It's Good For  You\", 'Calendars', 'No', 'No', '2016', 'Linda Dannenberg', 'Calendars', 'Moleskine', '2016', 'Calendars', 'Calendars', 'A Song of Ice and Fire 2016 Calendar', 'No', 'Grumpy Cat', 'Calendars', '2016', 'Calendars', 'Calendars', 'Mary Engelbreit', 'Susan Branch', 'Calendars', 'Workman Publishing', 'No', 'No', 'Posh: Coloring 2015-2016 Large Monthly/Weekly Planning Calendar', 'Calendars', 'Calendars', '2016', 'Yes', 'No', 'National Audubon Society']\n",
            "Mapped Labels: tensor([38, 76, 63,  2,  2, 38, 12, 63, 29, 38, 63, 63, 81,  2, 62, 63, 38, 63,\n",
            "        63, 34, 74, 63,  3,  2,  2, 70, 63, 63, 38, 50,  2, 59])\n"
          ]
        },
        {
          "metadata": {
            "tags": null
          },
          "name": "stderr",
          "output_type": "stream",
          "text": [
            "/usr/local/lib/python3.10/dist-packages/transformers/generation/utils.py:1258: UserWarning: Using the model-agnostic default `max_length` (=20) to control the generation length. We recommend setting `max_new_tokens` to control the maximum length of the generation.\n",
            "  warnings.warn(\n",
            "/usr/local/lib/python3.10/dist-packages/transformers/generation/utils.py:1258: UserWarning: Using the model-agnostic default `max_length` (=20) to control the generation length. We recommend setting `max_new_tokens` to control the maximum length of the generation.\n",
            "  warnings.warn(\n",
            "/usr/local/lib/python3.10/dist-packages/transformers/generation/utils.py:1258: UserWarning: Using the model-agnostic default `max_length` (=20) to control the generation length. We recommend setting `max_new_tokens` to control the maximum length of the generation.\n",
            "  warnings.warn(\n",
            "/usr/local/lib/python3.10/dist-packages/transformers/generation/utils.py:1258: UserWarning: Using the model-agnostic default `max_length` (=20) to control the generation length. We recommend setting `max_new_tokens` to control the maximum length of the generation.\n",
            "  warnings.warn(\n",
            "/usr/local/lib/python3.10/dist-packages/transformers/generation/utils.py:1258: UserWarning: Using the model-agnostic default `max_length` (=20) to control the generation length. We recommend setting `max_new_tokens` to control the maximum length of the generation.\n",
            "  warnings.warn(\n",
            "/usr/local/lib/python3.10/dist-packages/transformers/generation/utils.py:1258: UserWarning: Using the model-agnostic default `max_length` (=20) to control the generation length. We recommend setting `max_new_tokens` to control the maximum length of the generation.\n",
            "  warnings.warn(\n",
            "/usr/local/lib/python3.10/dist-packages/transformers/generation/utils.py:1258: UserWarning: Using the model-agnostic default `max_length` (=20) to control the generation length. We recommend setting `max_new_tokens` to control the maximum length of the generation.\n",
            "  warnings.warn(\n",
            "/usr/local/lib/python3.10/dist-packages/transformers/generation/utils.py:1258: UserWarning: Using the model-agnostic default `max_length` (=20) to control the generation length. We recommend setting `max_new_tokens` to control the maximum length of the generation.\n",
            "  warnings.warn(\n",
            "/usr/local/lib/python3.10/dist-packages/transformers/generation/utils.py:1258: UserWarning: Using the model-agnostic default `max_length` (=20) to control the generation length. We recommend setting `max_new_tokens` to control the maximum length of the generation.\n",
            "  warnings.warn(\n",
            " 56%|█████▌    | 5/9 [11:32<09:13, 138.30s/it]"
          ]
        },
        {
          "metadata": {
            "tags": null
          },
          "name": "stdout",
          "output_type": "stream",
          "text": [
            "Epoch [4/5], Batch Loss: 0.9862\n",
            "Batch Labels: ['No', 'Sandra Boynton', 'No', 'Calendars', 'Calendars', 'No', 'No', 'No', '2016', 'No', 'Yes', 'Calendars', 'Calendars', 'Nintendo', 'Day Dream', 'Moleskine', 'No', 'Sierra Club Engagement Calendar 2016', 'No', '2016', '2016', 'Moleskine 2016 Weekly Notebook, 12M, Pocket, Black, Soft Cover (3.5 x 5.5)', 'Mary Engelbreit', 'No', 'Calendars', 'Yes', '2016', 'Chihuly 2016 Wall Calendar', '2016', 'No', 'Jane Meredith', 'Calendars']\n",
            "Mapped Labels: tensor([ 2, 77,  2, 63, 63,  2,  2,  2, 38,  2, 50, 63, 63, 19, 36, 29,  2, 24,\n",
            "         2, 38, 38, 60, 34,  2, 63, 50, 38, 18, 38,  2, 78, 63])\n"
          ]
        },
        {
          "metadata": {
            "tags": null
          },
          "name": "stderr",
          "output_type": "stream",
          "text": [
            "/usr/local/lib/python3.10/dist-packages/transformers/generation/utils.py:1258: UserWarning: Using the model-agnostic default `max_length` (=20) to control the generation length. We recommend setting `max_new_tokens` to control the maximum length of the generation.\n",
            "  warnings.warn(\n",
            "/usr/local/lib/python3.10/dist-packages/transformers/generation/utils.py:1258: UserWarning: Using the model-agnostic default `max_length` (=20) to control the generation length. We recommend setting `max_new_tokens` to control the maximum length of the generation.\n",
            "  warnings.warn(\n",
            "/usr/local/lib/python3.10/dist-packages/transformers/generation/utils.py:1258: UserWarning: Using the model-agnostic default `max_length` (=20) to control the generation length. We recommend setting `max_new_tokens` to control the maximum length of the generation.\n",
            "  warnings.warn(\n",
            "/usr/local/lib/python3.10/dist-packages/transformers/generation/utils.py:1258: UserWarning: Using the model-agnostic default `max_length` (=20) to control the generation length. We recommend setting `max_new_tokens` to control the maximum length of the generation.\n",
            "  warnings.warn(\n",
            "/usr/local/lib/python3.10/dist-packages/transformers/generation/utils.py:1258: UserWarning: Using the model-agnostic default `max_length` (=20) to control the generation length. We recommend setting `max_new_tokens` to control the maximum length of the generation.\n",
            "  warnings.warn(\n",
            "/usr/local/lib/python3.10/dist-packages/transformers/generation/utils.py:1258: UserWarning: Using the model-agnostic default `max_length` (=20) to control the generation length. We recommend setting `max_new_tokens` to control the maximum length of the generation.\n",
            "  warnings.warn(\n",
            "/usr/local/lib/python3.10/dist-packages/transformers/generation/utils.py:1258: UserWarning: Using the model-agnostic default `max_length` (=20) to control the generation length. We recommend setting `max_new_tokens` to control the maximum length of the generation.\n",
            "  warnings.warn(\n",
            "/usr/local/lib/python3.10/dist-packages/transformers/generation/utils.py:1258: UserWarning: Using the model-agnostic default `max_length` (=20) to control the generation length. We recommend setting `max_new_tokens` to control the maximum length of the generation.\n",
            "  warnings.warn(\n",
            "/usr/local/lib/python3.10/dist-packages/transformers/generation/utils.py:1258: UserWarning: Using the model-agnostic default `max_length` (=20) to control the generation length. We recommend setting `max_new_tokens` to control the maximum length of the generation.\n",
            "  warnings.warn(\n",
            "/usr/local/lib/python3.10/dist-packages/transformers/generation/utils.py:1258: UserWarning: Using the model-agnostic default `max_length` (=20) to control the generation length. We recommend setting `max_new_tokens` to control the maximum length of the generation.\n",
            "  warnings.warn(\n",
            "/usr/local/lib/python3.10/dist-packages/transformers/generation/utils.py:1258: UserWarning: Using the model-agnostic default `max_length` (=20) to control the generation length. We recommend setting `max_new_tokens` to control the maximum length of the generation.\n",
            "  warnings.warn(\n",
            " 67%|██████▋   | 6/9 [13:53<06:57, 139.25s/it]"
          ]
        },
        {
          "metadata": {
            "tags": null
          },
          "name": "stdout",
          "output_type": "stream",
          "text": [
            "Epoch [4/5], Batch Loss: 0.9262\n",
            "Batch Labels: ['No', '2016', 'Audubon Engagement Calendar 2016', 'Anne Taintor 2016 Wall Calendar', '2016', 'Audubon Nature Wall Calendar 2016', 'Calendars', '2016', 'No', 'Grumpy Cat 2016 Wall Calendar', '2016', 'No', 'No', 'Year-In-A-Box', 'Thaneeya McArdle', 'No', 'Calendars', 'Ansel Adams 2016 Wall Calendar', '2016', 'Amy Knapp', 'Yes', 'Mary Engelbreit 2016 Monthly Pocket Planner: Just Being ME!', 'Calendars', 'National Audubon Society', '2016 Someecards Daily Desktop Calendar', 'No', '2016', 'The Legend of Zelda 2016 Wall Calendar', 'Calendars', 'Old FarmerEEs Almanac', 'Yes', '2016']\n",
            "Mapped Labels: tensor([ 2, 38,  4, 17, 38, 10, 63, 38,  2,  1, 38,  2,  2, 47, 58,  2, 63,  7,\n",
            "        38,  0, 50, 14, 63, 59, 79,  2, 38, 45, 63, 16, 50, 38])\n"
          ]
        },
        {
          "metadata": {
            "tags": null
          },
          "name": "stderr",
          "output_type": "stream",
          "text": [
            "/usr/local/lib/python3.10/dist-packages/transformers/generation/utils.py:1258: UserWarning: Using the model-agnostic default `max_length` (=20) to control the generation length. We recommend setting `max_new_tokens` to control the maximum length of the generation.\n",
            "  warnings.warn(\n",
            "/usr/local/lib/python3.10/dist-packages/transformers/generation/utils.py:1258: UserWarning: Using the model-agnostic default `max_length` (=20) to control the generation length. We recommend setting `max_new_tokens` to control the maximum length of the generation.\n",
            "  warnings.warn(\n",
            "/usr/local/lib/python3.10/dist-packages/transformers/generation/utils.py:1258: UserWarning: Using the model-agnostic default `max_length` (=20) to control the generation length. We recommend setting `max_new_tokens` to control the maximum length of the generation.\n",
            "  warnings.warn(\n",
            "/usr/local/lib/python3.10/dist-packages/transformers/generation/utils.py:1258: UserWarning: Using the model-agnostic default `max_length` (=20) to control the generation length. We recommend setting `max_new_tokens` to control the maximum length of the generation.\n",
            "  warnings.warn(\n",
            "/usr/local/lib/python3.10/dist-packages/transformers/generation/utils.py:1258: UserWarning: Using the model-agnostic default `max_length` (=20) to control the generation length. We recommend setting `max_new_tokens` to control the maximum length of the generation.\n",
            "  warnings.warn(\n",
            "/usr/local/lib/python3.10/dist-packages/transformers/generation/utils.py:1258: UserWarning: Using the model-agnostic default `max_length` (=20) to control the generation length. We recommend setting `max_new_tokens` to control the maximum length of the generation.\n",
            "  warnings.warn(\n",
            "/usr/local/lib/python3.10/dist-packages/transformers/generation/utils.py:1258: UserWarning: Using the model-agnostic default `max_length` (=20) to control the generation length. We recommend setting `max_new_tokens` to control the maximum length of the generation.\n",
            "  warnings.warn(\n",
            "/usr/local/lib/python3.10/dist-packages/transformers/generation/utils.py:1258: UserWarning: Using the model-agnostic default `max_length` (=20) to control the generation length. We recommend setting `max_new_tokens` to control the maximum length of the generation.\n",
            "  warnings.warn(\n",
            " 78%|███████▊  | 7/9 [16:12<04:37, 138.93s/it]"
          ]
        },
        {
          "metadata": {
            "tags": null
          },
          "name": "stdout",
          "output_type": "stream",
          "text": [
            "Epoch [4/5], Batch Loss: 1.4470\n",
            "Batch Labels: ['Yes', '2016', 'Yes', 'No', '2016', 'National Parks Foundation', 'Llewellyn', 'Calendars', '2016 Susan Branch Wall Calendar', 'Moleskine 2015-2016 Weekly Notebook, 18M, Large, Black, Soft Cover (5 x 8.25)', 'No', 'Calendars', 'Calendars', 'No', '2016', '2016', '2016', 'Marty Jerome', '2016', 'Mary Engelbreit', 'Pusheen the Cat 2016 Wall Calendar', 'No', 'No', 'Calendars', 'Dog Page-A-Day Gallery Calendar 2016', '2016', 'Workman Publishing', 'Dilbert 2016 Day-to-Day Calendar', 'Cat Page-A-Day Gallery Calendar 2016', '2015', 'No', 'Yes']\n",
            "Mapped Labels: tensor([50, 38, 50,  2, 38, 82, 41, 63, 64, 28,  2, 63, 63,  2, 38, 38, 38, 87,\n",
            "        38, 34, 32,  2,  2, 63, 37, 38,  3, 44, 42,  9,  2, 50])\n"
          ]
        },
        {
          "metadata": {
            "tags": null
          },
          "name": "stderr",
          "output_type": "stream",
          "text": [
            "/usr/local/lib/python3.10/dist-packages/transformers/generation/utils.py:1258: UserWarning: Using the model-agnostic default `max_length` (=20) to control the generation length. We recommend setting `max_new_tokens` to control the maximum length of the generation.\n",
            "  warnings.warn(\n",
            "/usr/local/lib/python3.10/dist-packages/transformers/generation/utils.py:1258: UserWarning: Using the model-agnostic default `max_length` (=20) to control the generation length. We recommend setting `max_new_tokens` to control the maximum length of the generation.\n",
            "  warnings.warn(\n",
            "/usr/local/lib/python3.10/dist-packages/transformers/generation/utils.py:1258: UserWarning: Using the model-agnostic default `max_length` (=20) to control the generation length. We recommend setting `max_new_tokens` to control the maximum length of the generation.\n",
            "  warnings.warn(\n",
            "/usr/local/lib/python3.10/dist-packages/transformers/generation/utils.py:1258: UserWarning: Using the model-agnostic default `max_length` (=20) to control the generation length. We recommend setting `max_new_tokens` to control the maximum length of the generation.\n",
            "  warnings.warn(\n",
            "/usr/local/lib/python3.10/dist-packages/transformers/generation/utils.py:1258: UserWarning: Using the model-agnostic default `max_length` (=20) to control the generation length. We recommend setting `max_new_tokens` to control the maximum length of the generation.\n",
            "  warnings.warn(\n",
            "/usr/local/lib/python3.10/dist-packages/transformers/generation/utils.py:1258: UserWarning: Using the model-agnostic default `max_length` (=20) to control the generation length. We recommend setting `max_new_tokens` to control the maximum length of the generation.\n",
            "  warnings.warn(\n",
            " 89%|████████▉ | 8/9 [18:33<02:19, 139.87s/it]"
          ]
        },
        {
          "metadata": {
            "tags": null
          },
          "name": "stdout",
          "output_type": "stream",
          "text": [
            "Epoch [4/5], Batch Loss: 1.2055\n",
            "Batch Labels: ['No', '2016', 'Day Dream', 'No', \"Mom's Family Wall Calendar 2016\", 'Sierra Club', 'Andrews McMeel Publishing LLC', \"The Old Farmer's Almanac 2016 Gardening Calendar\", '2016', 'Thomas Kinkade: The Disney Dreams Collection 2016 Wall Calendar', 'Today Is Going to Be a Great Day! Color Page-A-Day Calendar 2016']\n",
            "Mapped Labels: tensor([ 2, 38, 36,  2, 26, 52, 68, 73, 38, 30, 27])\n"
          ]
        },
        {
          "metadata": {
            "tags": null
          },
          "name": "stderr",
          "output_type": "stream",
          "text": [
            "/usr/local/lib/python3.10/dist-packages/transformers/generation/utils.py:1258: UserWarning: Using the model-agnostic default `max_length` (=20) to control the generation length. We recommend setting `max_new_tokens` to control the maximum length of the generation.\n",
            "  warnings.warn(\n",
            "/usr/local/lib/python3.10/dist-packages/transformers/generation/utils.py:1258: UserWarning: Using the model-agnostic default `max_length` (=20) to control the generation length. We recommend setting `max_new_tokens` to control the maximum length of the generation.\n",
            "  warnings.warn(\n",
            "100%|██████████| 9/9 [19:24<00:00, 129.42s/it]\n"
          ]
        },
        {
          "metadata": {
            "tags": null
          },
          "name": "stdout",
          "output_type": "stream",
          "text": [
            "Epoch [4/5], Batch Loss: 1.9671\n",
            "Epoch [4/5], Average Loss: 1.3020, Accuracy: 73.41%\n"
          ]
        },
        {
          "metadata": {
            "tags": null
          },
          "name": "stderr",
          "output_type": "stream",
          "text": [
            "\r  0%|          | 0/9 [00:00<?, ?it/s]"
          ]
        },
        {
          "metadata": {
            "tags": null
          },
          "name": "stdout",
          "output_type": "stream",
          "text": [
            "Batch Labels: ['Workman Publishing', 'Amy Knapp', '2016', 'No', 'National Audubon Society', 'Thaneeya McArdle', 'Calendars', 'Day Dream', 'Claire Belton', 'Mary Engelbreit 2016 Day-to-Day Calendar: Enjoy the Joy', 'No', '2016', 'Calendars', 'Calendars', 'Calendars', '2016 Someecards Daily Desktop Calendar', '2016', 'Calendars', '2016', 'Grumpy Cat 2016 Wall Calendar', 'No', 'Doug the Pug', 'Someecards', 'Yes', 'Starz', 'Sandra Boynton', 'Mary Engelbreit', 'No', '2016', \"Mary Engelbreit 2016 Weekly Planner Calendar: Smile! It's Good For  You\", '2016', 'Color Your Year Wall Calendar 2016: Mindful Coloring Through the Seasons']\n",
            "Mapped Labels: tensor([ 3,  0, 38,  2, 59, 58, 63, 36, 61, 48,  2, 38, 63, 63, 63, 79, 38, 63,\n",
            "        38,  1,  2, 85, 65, 50, 43, 77, 34,  2, 38, 76, 38, 86])\n"
          ]
        },
        {
          "metadata": {
            "tags": null
          },
          "name": "stderr",
          "output_type": "stream",
          "text": [
            "/usr/local/lib/python3.10/dist-packages/transformers/generation/utils.py:1258: UserWarning: Using the model-agnostic default `max_length` (=20) to control the generation length. We recommend setting `max_new_tokens` to control the maximum length of the generation.\n",
            "  warnings.warn(\n",
            "/usr/local/lib/python3.10/dist-packages/transformers/generation/utils.py:1258: UserWarning: Using the model-agnostic default `max_length` (=20) to control the generation length. We recommend setting `max_new_tokens` to control the maximum length of the generation.\n",
            "  warnings.warn(\n",
            "/usr/local/lib/python3.10/dist-packages/transformers/generation/utils.py:1258: UserWarning: Using the model-agnostic default `max_length` (=20) to control the generation length. We recommend setting `max_new_tokens` to control the maximum length of the generation.\n",
            "  warnings.warn(\n",
            "/usr/local/lib/python3.10/dist-packages/transformers/generation/utils.py:1258: UserWarning: Using the model-agnostic default `max_length` (=20) to control the generation length. We recommend setting `max_new_tokens` to control the maximum length of the generation.\n",
            "  warnings.warn(\n",
            "/usr/local/lib/python3.10/dist-packages/transformers/generation/utils.py:1258: UserWarning: Using the model-agnostic default `max_length` (=20) to control the generation length. We recommend setting `max_new_tokens` to control the maximum length of the generation.\n",
            "  warnings.warn(\n",
            "/usr/local/lib/python3.10/dist-packages/transformers/generation/utils.py:1258: UserWarning: Using the model-agnostic default `max_length` (=20) to control the generation length. We recommend setting `max_new_tokens` to control the maximum length of the generation.\n",
            "  warnings.warn(\n",
            " 11%|█         | 1/9 [02:13<17:51, 133.95s/it]"
          ]
        },
        {
          "metadata": {
            "tags": null
          },
          "name": "stdout",
          "output_type": "stream",
          "text": [
            "Epoch [5/5], Batch Loss: 1.2540\n",
            "Batch Labels: ['2016', 'Thomas Kinkade: The Disney Dreams Collection 2016 Wall Calendar', 'Posh: Coloring 2016 Day-to-Day Calendar: For Fun & Relaxation', 'Calendars', 'Andrews McMeel Publishing LLC', 'Thomas Kinkade', 'No', '2016', 'Calendars', '2016', 'Chihuly 2016 Wall Calendar', 'Calendars', 'No', 'Calendars', 'A Song of Ice and Fire 2016 Calendar', 'No', 'Yes', 'Moleskine', 'Calendars', 'Ansel Adams 2016 Wall Calendar', '2016', 'Mary Engelbreit 2016 Deluxe Wall Calendar: Never Give Up', 'National Audubon Society', 'Yes', 'Workman Publishing', 'Posh: Coloring 2015-2016 Large Monthly/Weekly Planning Calendar', 'Calendars', 'No', '2016', 'Yes', 'Calendars', 'Jane Meredith']\n",
            "Mapped Labels: tensor([38, 30, 55, 63, 68, 51,  2, 38, 63, 38, 18, 63,  2, 63, 81,  2, 50, 29,\n",
            "        63,  7, 38, 11, 59, 50,  3, 70, 63,  2, 38, 50, 63, 78])\n"
          ]
        },
        {
          "metadata": {
            "tags": null
          },
          "name": "stderr",
          "output_type": "stream",
          "text": [
            "/usr/local/lib/python3.10/dist-packages/transformers/generation/utils.py:1258: UserWarning: Using the model-agnostic default `max_length` (=20) to control the generation length. We recommend setting `max_new_tokens` to control the maximum length of the generation.\n",
            "  warnings.warn(\n",
            "/usr/local/lib/python3.10/dist-packages/transformers/generation/utils.py:1258: UserWarning: Using the model-agnostic default `max_length` (=20) to control the generation length. We recommend setting `max_new_tokens` to control the maximum length of the generation.\n",
            "  warnings.warn(\n",
            "/usr/local/lib/python3.10/dist-packages/transformers/generation/utils.py:1258: UserWarning: Using the model-agnostic default `max_length` (=20) to control the generation length. We recommend setting `max_new_tokens` to control the maximum length of the generation.\n",
            "  warnings.warn(\n",
            "/usr/local/lib/python3.10/dist-packages/transformers/generation/utils.py:1258: UserWarning: Using the model-agnostic default `max_length` (=20) to control the generation length. We recommend setting `max_new_tokens` to control the maximum length of the generation.\n",
            "  warnings.warn(\n",
            "/usr/local/lib/python3.10/dist-packages/transformers/generation/utils.py:1258: UserWarning: Using the model-agnostic default `max_length` (=20) to control the generation length. We recommend setting `max_new_tokens` to control the maximum length of the generation.\n",
            "  warnings.warn(\n",
            "/usr/local/lib/python3.10/dist-packages/transformers/generation/utils.py:1258: UserWarning: Using the model-agnostic default `max_length` (=20) to control the generation length. We recommend setting `max_new_tokens` to control the maximum length of the generation.\n",
            "  warnings.warn(\n",
            "/usr/local/lib/python3.10/dist-packages/transformers/generation/utils.py:1258: UserWarning: Using the model-agnostic default `max_length` (=20) to control the generation length. We recommend setting `max_new_tokens` to control the maximum length of the generation.\n",
            "  warnings.warn(\n",
            "/usr/local/lib/python3.10/dist-packages/transformers/generation/utils.py:1258: UserWarning: Using the model-agnostic default `max_length` (=20) to control the generation length. We recommend setting `max_new_tokens` to control the maximum length of the generation.\n",
            "  warnings.warn(\n",
            " 22%|██▏       | 2/9 [04:36<16:14, 139.15s/it]"
          ]
        },
        {
          "metadata": {
            "tags": null
          },
          "name": "stdout",
          "output_type": "stream",
          "text": [
            "Epoch [5/5], Batch Loss: 1.0410\n",
            "Batch Labels: ['2016', '2016 Amy Knapp Big Grid Wall Calendar: The essential organization and communication tool for the entire family', 'Calendars', 'Day Dream', '2016 Susan Branch Wall Calendar', '2016', 'Amc', 'Once Upon a Time Wall Calendar (2016)', 'Calendars', 'No', 'No', 'No', '2016', 'Calendars', '2016', 'Calendars', '2016', 'Calendars', '2016', '2016', '2015', 'No', 'Yes', 'Moleskine', 'Calendars', 'Sierra Club', 'Moleskine', 'No', 'Barbara Ardinger', '2016', 'No', 'Yes']\n",
            "Mapped Labels: tensor([38, 54, 63, 36, 64, 38,  6, 71, 63,  2,  2,  2, 38, 63, 38, 63, 38, 63,\n",
            "        38, 38,  9,  2, 50, 29, 63, 52, 29,  2, 20, 38,  2, 50])\n"
          ]
        },
        {
          "metadata": {
            "tags": null
          },
          "name": "stderr",
          "output_type": "stream",
          "text": [
            "/usr/local/lib/python3.10/dist-packages/transformers/generation/utils.py:1258: UserWarning: Using the model-agnostic default `max_length` (=20) to control the generation length. We recommend setting `max_new_tokens` to control the maximum length of the generation.\n",
            "  warnings.warn(\n",
            "/usr/local/lib/python3.10/dist-packages/transformers/generation/utils.py:1258: UserWarning: Using the model-agnostic default `max_length` (=20) to control the generation length. We recommend setting `max_new_tokens` to control the maximum length of the generation.\n",
            "  warnings.warn(\n",
            "/usr/local/lib/python3.10/dist-packages/transformers/generation/utils.py:1258: UserWarning: Using the model-agnostic default `max_length` (=20) to control the generation length. We recommend setting `max_new_tokens` to control the maximum length of the generation.\n",
            "  warnings.warn(\n",
            "/usr/local/lib/python3.10/dist-packages/transformers/generation/utils.py:1258: UserWarning: Using the model-agnostic default `max_length` (=20) to control the generation length. We recommend setting `max_new_tokens` to control the maximum length of the generation.\n",
            "  warnings.warn(\n",
            "/usr/local/lib/python3.10/dist-packages/transformers/generation/utils.py:1258: UserWarning: Using the model-agnostic default `max_length` (=20) to control the generation length. We recommend setting `max_new_tokens` to control the maximum length of the generation.\n",
            "  warnings.warn(\n",
            "/usr/local/lib/python3.10/dist-packages/transformers/generation/utils.py:1258: UserWarning: Using the model-agnostic default `max_length` (=20) to control the generation length. We recommend setting `max_new_tokens` to control the maximum length of the generation.\n",
            "  warnings.warn(\n",
            "/usr/local/lib/python3.10/dist-packages/transformers/generation/utils.py:1258: UserWarning: Using the model-agnostic default `max_length` (=20) to control the generation length. We recommend setting `max_new_tokens` to control the maximum length of the generation.\n",
            "  warnings.warn(\n",
            "/usr/local/lib/python3.10/dist-packages/transformers/generation/utils.py:1258: UserWarning: Using the model-agnostic default `max_length` (=20) to control the generation length. We recommend setting `max_new_tokens` to control the maximum length of the generation.\n",
            "  warnings.warn(\n",
            "/usr/local/lib/python3.10/dist-packages/transformers/generation/utils.py:1258: UserWarning: Using the model-agnostic default `max_length` (=20) to control the generation length. We recommend setting `max_new_tokens` to control the maximum length of the generation.\n",
            "  warnings.warn(\n",
            "/usr/local/lib/python3.10/dist-packages/transformers/generation/utils.py:1258: UserWarning: Using the model-agnostic default `max_length` (=20) to control the generation length. We recommend setting `max_new_tokens` to control the maximum length of the generation.\n",
            "  warnings.warn(\n",
            " 33%|███▎      | 3/9 [07:01<14:09, 141.55s/it]"
          ]
        },
        {
          "metadata": {
            "tags": null
          },
          "name": "stdout",
          "output_type": "stream",
          "text": [
            "Epoch [5/5], Batch Loss: 0.8098\n",
            "Batch Labels: ['Calendars', 'No', 'No', \"Llewellyn's 2016 Astrological Calendar: 83rd Edition of the World's Best Known, Most Trusted Astrology Calendar\", 'Audubon Engagement Calendar 2016', 'Moleskine', 'Yes', 'Moleskine 2016 Weekly Notebook, 12M, Pocket, Black, Soft Cover (3.5 x 5.5)', 'Anne Taintor', 'Susan Branch', 'Moleskine', 'No', '2016', 'Calendars', '2016 National Park Foundation Wall Calendar', 'Grumpy Cat', 'Cat Page-A-Day Gallery Calendar 2016', 'Scott Adams', 'Calendars', 'No', 'No', 'No', 'Yes', 'No', 'Old FarmerEEs Almanac', 'No', 'Calendars', 'No', 'Calendars', 'Yes', 'Dilbert 2016 Day-to-Day Calendar', '2016']\n",
            "Mapped Labels: tensor([63,  2,  2, 84,  4, 29, 50, 60, 22, 74, 29,  2, 38, 63, 25, 62, 42, 80,\n",
            "        63,  2,  2,  2, 50,  2, 16,  2, 63,  2, 63, 50, 44, 38])\n"
          ]
        },
        {
          "metadata": {
            "tags": null
          },
          "name": "stderr",
          "output_type": "stream",
          "text": [
            "/usr/local/lib/python3.10/dist-packages/transformers/generation/utils.py:1258: UserWarning: Using the model-agnostic default `max_length` (=20) to control the generation length. We recommend setting `max_new_tokens` to control the maximum length of the generation.\n",
            "  warnings.warn(\n",
            "/usr/local/lib/python3.10/dist-packages/transformers/generation/utils.py:1258: UserWarning: Using the model-agnostic default `max_length` (=20) to control the generation length. We recommend setting `max_new_tokens` to control the maximum length of the generation.\n",
            "  warnings.warn(\n",
            "/usr/local/lib/python3.10/dist-packages/transformers/generation/utils.py:1258: UserWarning: Using the model-agnostic default `max_length` (=20) to control the generation length. We recommend setting `max_new_tokens` to control the maximum length of the generation.\n",
            "  warnings.warn(\n",
            "/usr/local/lib/python3.10/dist-packages/transformers/generation/utils.py:1258: UserWarning: Using the model-agnostic default `max_length` (=20) to control the generation length. We recommend setting `max_new_tokens` to control the maximum length of the generation.\n",
            "  warnings.warn(\n",
            "/usr/local/lib/python3.10/dist-packages/transformers/generation/utils.py:1258: UserWarning: Using the model-agnostic default `max_length` (=20) to control the generation length. We recommend setting `max_new_tokens` to control the maximum length of the generation.\n",
            "  warnings.warn(\n",
            "/usr/local/lib/python3.10/dist-packages/transformers/generation/utils.py:1258: UserWarning: Using the model-agnostic default `max_length` (=20) to control the generation length. We recommend setting `max_new_tokens` to control the maximum length of the generation.\n",
            "  warnings.warn(\n",
            " 44%|████▍     | 4/9 [09:20<11:44, 140.87s/it]"
          ]
        },
        {
          "metadata": {
            "tags": null
          },
          "name": "stdout",
          "output_type": "stream",
          "text": [
            "Epoch [5/5], Batch Loss: 1.0789\n",
            "Batch Labels: ['2016', '2016', 'Calendars', 'National Audubon Society', 'Calendars', '2016', 'Calendars', '2016', 'Calendars', 'Workman Publishing', 'Yes', 'Merriam-Webster', 'Calendars', 'Audubon Birds Page-A-Day Gallery Calendar 2016', 'The Legend of Zelda 2016 Wall Calendar', 'Calendars', 'Calendars', '2016', 'Pusheen the Cat 2016 Wall Calendar', 'Mary Engelbreit', 'Yes', 'Calendars', 'Yes', 'Calendars', \"Llewellyn's 2016 Witches' Calendar\", 'Sierra Club Wilderness Calendar 2016', '2016', 'Today Is Going to Be a Great Day! Color Page-A-Day Calendar 2016', '2016', '2016 Almond Blossoms Weekly Planner (16-Month Engagement Calendar, Diary)', 'Linda Dannenberg', 'No']\n",
            "Mapped Labels: tensor([38, 38, 63, 59, 63, 38, 63, 38, 63,  3, 50, 75, 63, 49, 45, 63, 63, 38,\n",
            "        32, 34, 50, 63, 50, 63, 21, 40, 38, 27, 38,  5, 12,  2])\n"
          ]
        },
        {
          "metadata": {
            "tags": null
          },
          "name": "stderr",
          "output_type": "stream",
          "text": [
            "/usr/local/lib/python3.10/dist-packages/transformers/generation/utils.py:1258: UserWarning: Using the model-agnostic default `max_length` (=20) to control the generation length. We recommend setting `max_new_tokens` to control the maximum length of the generation.\n",
            "  warnings.warn(\n",
            "/usr/local/lib/python3.10/dist-packages/transformers/generation/utils.py:1258: UserWarning: Using the model-agnostic default `max_length` (=20) to control the generation length. We recommend setting `max_new_tokens` to control the maximum length of the generation.\n",
            "  warnings.warn(\n",
            "/usr/local/lib/python3.10/dist-packages/transformers/generation/utils.py:1258: UserWarning: Using the model-agnostic default `max_length` (=20) to control the generation length. We recommend setting `max_new_tokens` to control the maximum length of the generation.\n",
            "  warnings.warn(\n",
            "/usr/local/lib/python3.10/dist-packages/transformers/generation/utils.py:1258: UserWarning: Using the model-agnostic default `max_length` (=20) to control the generation length. We recommend setting `max_new_tokens` to control the maximum length of the generation.\n",
            "  warnings.warn(\n",
            "/usr/local/lib/python3.10/dist-packages/transformers/generation/utils.py:1258: UserWarning: Using the model-agnostic default `max_length` (=20) to control the generation length. We recommend setting `max_new_tokens` to control the maximum length of the generation.\n",
            "  warnings.warn(\n",
            "/usr/local/lib/python3.10/dist-packages/transformers/generation/utils.py:1258: UserWarning: Using the model-agnostic default `max_length` (=20) to control the generation length. We recommend setting `max_new_tokens` to control the maximum length of the generation.\n",
            "  warnings.warn(\n",
            "/usr/local/lib/python3.10/dist-packages/transformers/generation/utils.py:1258: UserWarning: Using the model-agnostic default `max_length` (=20) to control the generation length. We recommend setting `max_new_tokens` to control the maximum length of the generation.\n",
            "  warnings.warn(\n",
            " 56%|█████▌    | 5/9 [11:43<09:26, 141.57s/it]"
          ]
        },
        {
          "metadata": {
            "tags": null
          },
          "name": "stdout",
          "output_type": "stream",
          "text": [
            "Epoch [5/5], Batch Loss: 0.8838\n",
            "Batch Labels: ['365 Dogs Color Page-A-Day Calendar 2016', 'Calendars', 'No', 'No', 'Calendars', 'No', '2016', 'Sierra Club Engagement Calendar 2016', 'Calendars', 'No', 'Workman Publishing', '2016', 'No', 'No', 'Year-In-A-Box', 'No', 'Dog Page-A-Day Gallery Calendar 2016', 'Sierra Club', 'Dale Chihuly', 'National Parks Foundation', 'No', 'Mary Engelbreit', 'Mary Engelbreit 2016 Monthly Pocket Planner: Just Being ME!', 'Audubon Nature Wall Calendar 2016', 'No', 'No', 'Llewellyn', '2016', 'Calendars', 'Doug the Pug 2016 Wall Calendar', 'Yes', 'No']\n",
            "Mapped Labels: tensor([53, 63,  2,  2, 63,  2, 38, 24, 63,  2,  3, 38,  2,  2, 47,  2, 37, 52,\n",
            "        23, 82,  2, 34, 14, 10,  2,  2, 41, 38, 63, 15, 50,  2])\n"
          ]
        },
        {
          "metadata": {
            "tags": null
          },
          "name": "stderr",
          "output_type": "stream",
          "text": [
            "/usr/local/lib/python3.10/dist-packages/transformers/generation/utils.py:1258: UserWarning: Using the model-agnostic default `max_length` (=20) to control the generation length. We recommend setting `max_new_tokens` to control the maximum length of the generation.\n",
            "  warnings.warn(\n",
            "/usr/local/lib/python3.10/dist-packages/transformers/generation/utils.py:1258: UserWarning: Using the model-agnostic default `max_length` (=20) to control the generation length. We recommend setting `max_new_tokens` to control the maximum length of the generation.\n",
            "  warnings.warn(\n",
            "/usr/local/lib/python3.10/dist-packages/transformers/generation/utils.py:1258: UserWarning: Using the model-agnostic default `max_length` (=20) to control the generation length. We recommend setting `max_new_tokens` to control the maximum length of the generation.\n",
            "  warnings.warn(\n",
            "/usr/local/lib/python3.10/dist-packages/transformers/generation/utils.py:1258: UserWarning: Using the model-agnostic default `max_length` (=20) to control the generation length. We recommend setting `max_new_tokens` to control the maximum length of the generation.\n",
            "  warnings.warn(\n",
            "/usr/local/lib/python3.10/dist-packages/transformers/generation/utils.py:1258: UserWarning: Using the model-agnostic default `max_length` (=20) to control the generation length. We recommend setting `max_new_tokens` to control the maximum length of the generation.\n",
            "  warnings.warn(\n",
            "/usr/local/lib/python3.10/dist-packages/transformers/generation/utils.py:1258: UserWarning: Using the model-agnostic default `max_length` (=20) to control the generation length. We recommend setting `max_new_tokens` to control the maximum length of the generation.\n",
            "  warnings.warn(\n",
            "/usr/local/lib/python3.10/dist-packages/transformers/generation/utils.py:1258: UserWarning: Using the model-agnostic default `max_length` (=20) to control the generation length. We recommend setting `max_new_tokens` to control the maximum length of the generation.\n",
            "  warnings.warn(\n",
            "/usr/local/lib/python3.10/dist-packages/transformers/generation/utils.py:1258: UserWarning: Using the model-agnostic default `max_length` (=20) to control the generation length. We recommend setting `max_new_tokens` to control the maximum length of the generation.\n",
            "  warnings.warn(\n",
            "/usr/local/lib/python3.10/dist-packages/transformers/generation/utils.py:1258: UserWarning: Using the model-agnostic default `max_length` (=20) to control the generation length. We recommend setting `max_new_tokens` to control the maximum length of the generation.\n",
            "  warnings.warn(\n",
            " 67%|██████▋   | 6/9 [14:00<07:00, 140.02s/it]"
          ]
        },
        {
          "metadata": {
            "tags": null
          },
          "name": "stdout",
          "output_type": "stream",
          "text": [
            "Epoch [5/5], Batch Loss: 1.0195\n",
            "Batch Labels: [\"The Complete Runner's Day-by-Day Log 2016 Calendar\", 'Calendars', 'Moleskine 2016 Weekly Notebook, 12M, Large, Black, Soft Cover (5 x 8.25)', 'No', 'No', 'Yes', 'No', \"Llewellyn's 2016 Witches' Datebook\", '2016', 'Moleskine 2016 Monthly Notebook, 12M, Extra Large, Black, Soft Cover (7.5 x 10)', 'Calendars', '2016', \"The Old Farmer's Almanac 2016 Gardening Calendar\", 'No', 'French Country Diary 2016 Calendar', 'George R. R. Martin', '2016', 'Walking Dead 2016 Wall Calendar', 'Yes', 'Marty Jerome', '2016', 'Calendars', 'Calendars', 'Disney Descendants Wall Calendar (2016)', 'Yes', 'Calendars', '2016', 'No', 'Workman Publishing', 'Mary Engelbreit', 'Moleskine 2016 Weekly Notebook, 12M, Extra Large, Black, Soft Cover (7.5 x 10)', 'Nintendo']\n",
            "Mapped Labels: tensor([57, 63, 56,  2,  2, 50,  2, 13, 38, 35, 63, 38, 73,  2, 46, 69, 38, 67,\n",
            "        50, 87, 38, 63, 63, 83, 50, 63, 38,  2,  3, 34, 33, 19])\n"
          ]
        },
        {
          "output_type": "stream",
          "name": "stderr",
          "text": [
            "/usr/local/lib/python3.10/dist-packages/transformers/generation/utils.py:1258: UserWarning: Using the model-agnostic default `max_length` (=20) to control the generation length. We recommend setting `max_new_tokens` to control the maximum length of the generation.\n",
            "  warnings.warn(\n",
            "/usr/local/lib/python3.10/dist-packages/transformers/generation/utils.py:1258: UserWarning: Using the model-agnostic default `max_length` (=20) to control the generation length. We recommend setting `max_new_tokens` to control the maximum length of the generation.\n",
            "  warnings.warn(\n",
            "/usr/local/lib/python3.10/dist-packages/transformers/generation/utils.py:1258: UserWarning: Using the model-agnostic default `max_length` (=20) to control the generation length. We recommend setting `max_new_tokens` to control the maximum length of the generation.\n",
            "  warnings.warn(\n",
            "/usr/local/lib/python3.10/dist-packages/transformers/generation/utils.py:1258: UserWarning: Using the model-agnostic default `max_length` (=20) to control the generation length. We recommend setting `max_new_tokens` to control the maximum length of the generation.\n",
            "  warnings.warn(\n",
            "/usr/local/lib/python3.10/dist-packages/transformers/generation/utils.py:1258: UserWarning: Using the model-agnostic default `max_length` (=20) to control the generation length. We recommend setting `max_new_tokens` to control the maximum length of the generation.\n",
            "  warnings.warn(\n",
            " 78%|███████▊  | 7/9 [16:24<04:42, 141.32s/it]"
          ]
        },
        {
          "output_type": "stream",
          "name": "stdout",
          "text": [
            "Epoch [5/5], Batch Loss: 1.2199\n",
            "Batch Labels: ['2016', '2016', 'Yes', 'Outlander 2016 Wall Calendar', 'Calendars', 'Yes', 'Workman Publishing', 'No', 'Calendars', \"Mom's Family Wall Calendar 2016\", '2015', 'No', 'Moleskine 2015-2016 Weekly Notebook, 18M, Large, Black, Soft Cover (5 x 8.25)', 'Yes', '2016', '2016', '2016', 'No', '2016', 'Calendars', '2016', 'Calendars', '2016', 'Calendars', '2016', 'No', 'Calendars', 'Yes', 'MAXINE  Year-In-A-Box Calendar (2016)', '365 New Words-A-Year Page-A-Day Calendar 2016', '2016', 'Anne Taintor 2016 Wall Calendar']\n",
            "Mapped Labels: tensor([38, 38, 50, 72, 63, 50,  3,  2, 63, 26,  9,  2, 28, 50, 38, 38, 38,  2,\n",
            "        38, 63, 38, 63, 38, 63, 38,  2, 63, 50,  8, 31, 38, 17])\n"
          ]
        },
        {
          "output_type": "stream",
          "name": "stderr",
          "text": [
            "/usr/local/lib/python3.10/dist-packages/transformers/generation/utils.py:1258: UserWarning: Using the model-agnostic default `max_length` (=20) to control the generation length. We recommend setting `max_new_tokens` to control the maximum length of the generation.\n",
            "  warnings.warn(\n",
            "/usr/local/lib/python3.10/dist-packages/transformers/generation/utils.py:1258: UserWarning: Using the model-agnostic default `max_length` (=20) to control the generation length. We recommend setting `max_new_tokens` to control the maximum length of the generation.\n",
            "  warnings.warn(\n",
            "/usr/local/lib/python3.10/dist-packages/transformers/generation/utils.py:1258: UserWarning: Using the model-agnostic default `max_length` (=20) to control the generation length. We recommend setting `max_new_tokens` to control the maximum length of the generation.\n",
            "  warnings.warn(\n",
            "/usr/local/lib/python3.10/dist-packages/transformers/generation/utils.py:1258: UserWarning: Using the model-agnostic default `max_length` (=20) to control the generation length. We recommend setting `max_new_tokens` to control the maximum length of the generation.\n",
            "  warnings.warn(\n",
            "/usr/local/lib/python3.10/dist-packages/transformers/generation/utils.py:1258: UserWarning: Using the model-agnostic default `max_length` (=20) to control the generation length. We recommend setting `max_new_tokens` to control the maximum length of the generation.\n",
            "  warnings.warn(\n",
            "/usr/local/lib/python3.10/dist-packages/transformers/generation/utils.py:1258: UserWarning: Using the model-agnostic default `max_length` (=20) to control the generation length. We recommend setting `max_new_tokens` to control the maximum length of the generation.\n",
            "  warnings.warn(\n",
            "/usr/local/lib/python3.10/dist-packages/transformers/generation/utils.py:1258: UserWarning: Using the model-agnostic default `max_length` (=20) to control the generation length. We recommend setting `max_new_tokens` to control the maximum length of the generation.\n",
            "  warnings.warn(\n",
            "/usr/local/lib/python3.10/dist-packages/transformers/generation/utils.py:1258: UserWarning: Using the model-agnostic default `max_length` (=20) to control the generation length. We recommend setting `max_new_tokens` to control the maximum length of the generation.\n",
            "  warnings.warn(\n",
            "/usr/local/lib/python3.10/dist-packages/transformers/generation/utils.py:1258: UserWarning: Using the model-agnostic default `max_length` (=20) to control the generation length. We recommend setting `max_new_tokens` to control the maximum length of the generation.\n",
            "  warnings.warn(\n",
            " 89%|████████▉ | 8/9 [18:36<02:18, 138.28s/it]"
          ]
        },
        {
          "output_type": "stream",
          "name": "stdout",
          "text": [
            "Epoch [5/5], Batch Loss: 0.7005\n",
            "Batch Labels: ['Calendars', '365 Cats Color Page-A-Day Calendar 2016', 'No', 'Peter Pauper Press', '2016', '2016', 'Calendars', 'Calendars', '2016', '2016', 'No']\n",
            "Mapped Labels: tensor([63, 39,  2, 66, 38, 38, 63, 63, 38, 38,  2])\n"
          ]
        },
        {
          "output_type": "stream",
          "name": "stderr",
          "text": [
            "/usr/local/lib/python3.10/dist-packages/transformers/generation/utils.py:1258: UserWarning: Using the model-agnostic default `max_length` (=20) to control the generation length. We recommend setting `max_new_tokens` to control the maximum length of the generation.\n",
            "  warnings.warn(\n",
            "/usr/local/lib/python3.10/dist-packages/transformers/generation/utils.py:1258: UserWarning: Using the model-agnostic default `max_length` (=20) to control the generation length. We recommend setting `max_new_tokens` to control the maximum length of the generation.\n",
            "  warnings.warn(\n",
            "/usr/local/lib/python3.10/dist-packages/transformers/generation/utils.py:1258: UserWarning: Using the model-agnostic default `max_length` (=20) to control the generation length. We recommend setting `max_new_tokens` to control the maximum length of the generation.\n",
            "  warnings.warn(\n",
            "100%|██████████| 9/9 [19:26<00:00, 129.60s/it]"
          ]
        },
        {
          "output_type": "stream",
          "name": "stdout",
          "text": [
            "Epoch [5/5], Batch Loss: 0.6700\n",
            "Epoch [5/5], Average Loss: 0.9642, Accuracy: 81.65%\n"
          ]
        },
        {
          "output_type": "stream",
          "name": "stderr",
          "text": [
            "\n"
          ]
        }
      ]
    },
    {
      "cell_type": "code",
      "source": [
        "import requests\n",
        "from io import BytesIO\n",
        "from PIL import UnidentifiedImageError\n",
        "\n",
        "def test_single_input(model, tokenizer, image_transform, text, image_url):\n",
        "    model.eval()\n",
        "\n",
        "    # Process the text input\n",
        "    text_inputs = tokenizer(text, padding=True, truncation=True, return_tensors='pt').to(device)\n",
        "\n",
        "    try:\n",
        "        # Download and process the image input\n",
        "        response = requests.get(image_url)\n",
        "        response.raise_for_status()  # Raise HTTPError for bad responses\n",
        "        image = Image.open(BytesIO(response.content))\n",
        "        if image_transform:\n",
        "            image = image_transform(image).unsqueeze(0).to(device)\n",
        "    except (requests.exceptions.RequestException, UnidentifiedImageError) as e:\n",
        "        print(f\"Error loading image: {e}\")\n",
        "        return None\n",
        "\n",
        "    with torch.no_grad():\n",
        "        text_outputs = model.bert(**text_inputs)\n",
        "        text_embedding = text_outputs.pooler_output\n",
        "        image_embedding = model.resnet(image)\n",
        "        combined = torch.cat((text_embedding, image_embedding), dim=1)\n",
        "        output = model.fc(combined)\n",
        "\n",
        "    _, predicted_label_idx = torch.max(output, 1)\n",
        "    predicted_label = list(label_to_index.keys())[list(label_to_index.values()).index(predicted_label_idx.item())]\n",
        "\n",
        "    return predicted_label\n",
        "\n",
        "# Example usage of the test function with a valid image URL\n",
        "text = \"What is the title of the book?\"\n",
        "image_url = \"http://ecx.images-amazon.com/images/I/61Y5cOdHJbL.jpg\"  # Replace with a valid image URL\n",
        "predicted_label = test_single_input(model, model.bert_tokenizer, image_transform, text, image_url)\n",
        "print(f\"Predicted Label: {predicted_label}\")\n"
      ],
      "metadata": {
        "id": "VhraT1r-WfNb",
        "colab": {
          "base_uri": "https://localhost:8080/"
        },
        "outputId": "c20eb4c4-469c-455d-a763-a8f5d58d477a"
      },
      "execution_count": null,
      "outputs": [
        {
          "output_type": "stream",
          "name": "stderr",
          "text": [
            "/usr/local/lib/python3.10/dist-packages/transformers/generation/utils.py:1258: UserWarning: Using the model-agnostic default `max_length` (=20) to control the generation length. We recommend setting `max_new_tokens` to control the maximum length of the generation.\n",
            "  warnings.warn(\n"
          ]
        },
        {
          "output_type": "stream",
          "name": "stdout",
          "text": [
            "Predicted Label: Mom's Family Wall Calendar 2016\n"
          ]
        }
      ]
    },
    {
      "cell_type": "code",
      "source": [
        "import os\n",
        "import pandas as pd\n",
        "import requests\n",
        "from io import BytesIO\n",
        "from PIL import Image, UnidentifiedImageError\n",
        "import random\n",
        "\n",
        "def test_single_input(model, tokenizer, image_transform, text, image_path, expected_label):\n",
        "    model.eval()\n",
        "\n",
        "    # Process the text input\n",
        "    text_inputs = tokenizer(text, padding=True, truncation=True, return_tensors='pt').to(device)\n",
        "\n",
        "    try:\n",
        "        # Load and process the image input from local file\n",
        "        image = Image.open(image_path)\n",
        "        if image_transform:\n",
        "            image = image_transform(image).unsqueeze(0).to(device)\n",
        "    except UnidentifiedImageError as e:\n",
        "        print(f\"Error loading image: {e}\")\n",
        "        return None\n",
        "\n",
        "    with torch.no_grad():\n",
        "        text_outputs = model.bert(**text_inputs)\n",
        "        text_embedding = text_outputs.pooler_output\n",
        "        image_embedding = model.resnet(image)\n",
        "        combined = torch.cat((text_embedding, image_embedding), dim=1)\n",
        "        output = model.fc(combined)\n",
        "\n",
        "    _, predicted_label_idx = torch.max(output, 1)\n",
        "    predicted_label = list(label_to_index.keys())[list(label_to_index.values()).index(predicted_label_idx.item())]\n",
        "\n",
        "    print(f\"Predicted Label: {predicted_label}\")\n",
        "    print(f\"Expected Label: {expected_label}\")\n",
        "\n",
        "    return predicted_label\n",
        "\n",
        "# Load processed data\n",
        "processed_data = pd.read_csv('processed_murag_data.csv')\n",
        "\n",
        "# Randomly select 3 entries from the dataset\n",
        "random_indices = random.sample(range(len(processed_data)), 3)\n",
        "for idx in random_indices:\n",
        "    context = eval(processed_data.iloc[idx]['context'])  # Evaluate the context dictionary\n",
        "    image_path = context['image_path']                  # Extract the image path\n",
        "    text = processed_data.iloc[idx]['question']         # Extract the question\n",
        "    expected_label = processed_data.iloc[idx]['answer'] # Extract the expected answer\n",
        "\n",
        "    print(f\"Testing entry {idx}:\")\n",
        "    # Check if the file exists\n",
        "    if not os.path.isfile(image_path):\n",
        "        print(f\"Image file does not exist: {image_path}\")\n",
        "    else:\n",
        "        # Run the test\n",
        "        predicted_label = test_single_input(model, model.bert_tokenizer, image_transform, text, image_path, expected_label)\n"
      ],
      "metadata": {
        "id": "VY_dWAwlh9dz",
        "colab": {
          "base_uri": "https://localhost:8080/"
        },
        "outputId": "35b5a633-f3e9-48c4-be36-de6c9c8d6b7a"
      },
      "execution_count": null,
      "outputs": [
        {
          "output_type": "stream",
          "name": "stdout",
          "text": [
            "Testing entry 248:\n"
          ]
        },
        {
          "output_type": "stream",
          "name": "stderr",
          "text": [
            "/usr/local/lib/python3.10/dist-packages/transformers/generation/utils.py:1258: UserWarning: Using the model-agnostic default `max_length` (=20) to control the generation length. We recommend setting `max_new_tokens` to control the maximum length of the generation.\n",
            "  warnings.warn(\n"
          ]
        },
        {
          "output_type": "stream",
          "name": "stdout",
          "text": [
            "Predicted Label: 2016\n",
            "Expected Label: 2016\n",
            "Testing entry 71:\n",
            "Predicted Label: No\n",
            "Expected Label: No\n",
            "Testing entry 253:\n",
            "Predicted Label: 2016\n",
            "Expected Label: 2015\n"
          ]
        }
      ]
    },
    {
      "cell_type": "code",
      "source": [
        "import os\n",
        "import pandas as pd\n",
        "import requests\n",
        "from io import BytesIO\n",
        "from PIL import Image, UnidentifiedImageError\n",
        "import numpy as np\n",
        "\n",
        "def calculate_metrics(predictions, labels):\n",
        "    # Ensure predictions and labels are numpy arrays for easier handling\n",
        "    predictions = np.array(predictions)\n",
        "    labels = np.array(labels)\n",
        "\n",
        "    # Hit Rate @ 1 (binary correctness)\n",
        "    hit_rate = np.mean([1 if pred == label else 0 for pred, label in zip(predictions, labels)])\n",
        "\n",
        "    # MRR (Mean Reciprocal Rank)\n",
        "    reciprocal_ranks = []\n",
        "    for label, prediction in zip(labels, predictions):\n",
        "        if label in prediction:\n",
        "            rank = np.where(prediction == label)[0][0] + 1\n",
        "            reciprocal_ranks.append(1.0 / rank)\n",
        "        else:\n",
        "            reciprocal_ranks.append(0.0)\n",
        "    mrr = np.mean(reciprocal_ranks)\n",
        "\n",
        "    # Mean Correctness (binary correctness)\n",
        "    mean_correctness = np.mean([1 if pred == label else 0 for pred, label in zip(predictions, labels)])\n",
        "\n",
        "    # Print the metrics\n",
        "    print(\"Evaluation Metrics:\")\n",
        "    print(f\"Hit Rate @ 1: {hit_rate:.4f}\")\n",
        "    print(f\"MRR: {mrr:.4f}\")\n",
        "    print(f\"Mean Correctness: {mean_correctness:.4f}\")\n",
        "\n",
        "def test_single_input(model, tokenizer, image_transform, text, image_path, expected_label):\n",
        "    model.eval()\n",
        "\n",
        "    # Process the text input\n",
        "    text_inputs = tokenizer(text, padding=True, truncation=True, return_tensors='pt').to(device)\n",
        "\n",
        "    try:\n",
        "        # Load and process the image input from local file\n",
        "        image = Image.open(image_path)\n",
        "        if image_transform:\n",
        "            image = image_transform(image).unsqueeze(0).to(device)\n",
        "    except UnidentifiedImageError as e:\n",
        "        print(f\"Error loading image: {e}\")\n",
        "        return None\n",
        "\n",
        "    with torch.no_grad():\n",
        "        text_outputs = model.bert(**text_inputs)\n",
        "        text_embedding = text_outputs.pooler_output\n",
        "        image_embedding = model.resnet(image)\n",
        "        combined = torch.cat((text_embedding, image_embedding), dim=1)\n",
        "        output = model.fc(combined)\n",
        "\n",
        "    _, predicted_label_idx = torch.max(output, 1)\n",
        "    predicted_label = list(label_to_index.keys())[list(label_to_index.values()).index(predicted_label_idx.item())]\n",
        "\n",
        "    return predicted_label\n",
        "\n",
        "# Load processed data\n",
        "processed_data = pd.read_csv('processed_murag_data.csv')\n",
        "\n",
        "predictions = []\n",
        "labels = []\n",
        "\n",
        "# Evaluate all entries in the dataset\n",
        "for idx in range(len(processed_data)):\n",
        "    context = eval(processed_data.iloc[idx]['context'])  # Evaluate the context dictionary\n",
        "    image_path = context['image_path']                  # Extract the image path\n",
        "    text = processed_data.iloc[idx]['question']         # Extract the question\n",
        "    expected_label = processed_data.iloc[idx]['answer'] # Extract the expected answer\n",
        "\n",
        "    # Check if the file exists\n",
        "    if not os.path.isfile(image_path):\n",
        "        print(f\"Image file does not exist: {image_path}\")\n",
        "    else:\n",
        "        # Run the test\n",
        "        predicted_label = test_single_input(model, model.bert_tokenizer, image_transform, text, image_path, expected_label)\n",
        "        if predicted_label is not None:\n",
        "            predictions.append([predicted_label])  # Wrap predicted label in a list\n",
        "            labels.append([expected_label])        # Wrap expected label in a list\n",
        "\n",
        "# Calculate and print the metrics\n",
        "calculate_metrics(predictions, labels)\n"
      ],
      "metadata": {
        "id": "viweBLCIoxz_",
        "colab": {
          "base_uri": "https://localhost:8080/"
        },
        "outputId": "3d929ee4-a300-40ae-f7a2-c9566e381a79"
      },
      "execution_count": null,
      "outputs": [
        {
          "output_type": "stream",
          "name": "stderr",
          "text": [
            "/usr/local/lib/python3.10/dist-packages/transformers/generation/utils.py:1258: UserWarning: Using the model-agnostic default `max_length` (=20) to control the generation length. We recommend setting `max_new_tokens` to control the maximum length of the generation.\n",
            "  warnings.warn(\n",
            "/usr/local/lib/python3.10/dist-packages/transformers/generation/utils.py:1258: UserWarning: Using the model-agnostic default `max_length` (=20) to control the generation length. We recommend setting `max_new_tokens` to control the maximum length of the generation.\n",
            "  warnings.warn(\n",
            "/usr/local/lib/python3.10/dist-packages/transformers/generation/utils.py:1258: UserWarning: Using the model-agnostic default `max_length` (=20) to control the generation length. We recommend setting `max_new_tokens` to control the maximum length of the generation.\n",
            "  warnings.warn(\n",
            "/usr/local/lib/python3.10/dist-packages/transformers/generation/utils.py:1258: UserWarning: Using the model-agnostic default `max_length` (=20) to control the generation length. We recommend setting `max_new_tokens` to control the maximum length of the generation.\n",
            "  warnings.warn(\n",
            "/usr/local/lib/python3.10/dist-packages/transformers/generation/utils.py:1258: UserWarning: Using the model-agnostic default `max_length` (=20) to control the generation length. We recommend setting `max_new_tokens` to control the maximum length of the generation.\n",
            "  warnings.warn(\n",
            "/usr/local/lib/python3.10/dist-packages/transformers/generation/utils.py:1258: UserWarning: Using the model-agnostic default `max_length` (=20) to control the generation length. We recommend setting `max_new_tokens` to control the maximum length of the generation.\n",
            "  warnings.warn(\n",
            "/usr/local/lib/python3.10/dist-packages/transformers/generation/utils.py:1258: UserWarning: Using the model-agnostic default `max_length` (=20) to control the generation length. We recommend setting `max_new_tokens` to control the maximum length of the generation.\n",
            "  warnings.warn(\n",
            "/usr/local/lib/python3.10/dist-packages/transformers/generation/utils.py:1258: UserWarning: Using the model-agnostic default `max_length` (=20) to control the generation length. We recommend setting `max_new_tokens` to control the maximum length of the generation.\n",
            "  warnings.warn(\n",
            "/usr/local/lib/python3.10/dist-packages/transformers/generation/utils.py:1258: UserWarning: Using the model-agnostic default `max_length` (=20) to control the generation length. We recommend setting `max_new_tokens` to control the maximum length of the generation.\n",
            "  warnings.warn(\n",
            "/usr/local/lib/python3.10/dist-packages/transformers/generation/utils.py:1258: UserWarning: Using the model-agnostic default `max_length` (=20) to control the generation length. We recommend setting `max_new_tokens` to control the maximum length of the generation.\n",
            "  warnings.warn(\n",
            "/usr/local/lib/python3.10/dist-packages/transformers/generation/utils.py:1258: UserWarning: Using the model-agnostic default `max_length` (=20) to control the generation length. We recommend setting `max_new_tokens` to control the maximum length of the generation.\n",
            "  warnings.warn(\n",
            "/usr/local/lib/python3.10/dist-packages/transformers/generation/utils.py:1258: UserWarning: Using the model-agnostic default `max_length` (=20) to control the generation length. We recommend setting `max_new_tokens` to control the maximum length of the generation.\n",
            "  warnings.warn(\n",
            "/usr/local/lib/python3.10/dist-packages/transformers/generation/utils.py:1258: UserWarning: Using the model-agnostic default `max_length` (=20) to control the generation length. We recommend setting `max_new_tokens` to control the maximum length of the generation.\n",
            "  warnings.warn(\n",
            "/usr/local/lib/python3.10/dist-packages/transformers/generation/utils.py:1258: UserWarning: Using the model-agnostic default `max_length` (=20) to control the generation length. We recommend setting `max_new_tokens` to control the maximum length of the generation.\n",
            "  warnings.warn(\n",
            "/usr/local/lib/python3.10/dist-packages/transformers/generation/utils.py:1258: UserWarning: Using the model-agnostic default `max_length` (=20) to control the generation length. We recommend setting `max_new_tokens` to control the maximum length of the generation.\n",
            "  warnings.warn(\n",
            "/usr/local/lib/python3.10/dist-packages/transformers/generation/utils.py:1258: UserWarning: Using the model-agnostic default `max_length` (=20) to control the generation length. We recommend setting `max_new_tokens` to control the maximum length of the generation.\n",
            "  warnings.warn(\n",
            "/usr/local/lib/python3.10/dist-packages/transformers/generation/utils.py:1258: UserWarning: Using the model-agnostic default `max_length` (=20) to control the generation length. We recommend setting `max_new_tokens` to control the maximum length of the generation.\n",
            "  warnings.warn(\n",
            "/usr/local/lib/python3.10/dist-packages/transformers/generation/utils.py:1258: UserWarning: Using the model-agnostic default `max_length` (=20) to control the generation length. We recommend setting `max_new_tokens` to control the maximum length of the generation.\n",
            "  warnings.warn(\n",
            "/usr/local/lib/python3.10/dist-packages/transformers/generation/utils.py:1258: UserWarning: Using the model-agnostic default `max_length` (=20) to control the generation length. We recommend setting `max_new_tokens` to control the maximum length of the generation.\n",
            "  warnings.warn(\n",
            "/usr/local/lib/python3.10/dist-packages/transformers/generation/utils.py:1258: UserWarning: Using the model-agnostic default `max_length` (=20) to control the generation length. We recommend setting `max_new_tokens` to control the maximum length of the generation.\n",
            "  warnings.warn(\n",
            "/usr/local/lib/python3.10/dist-packages/transformers/generation/utils.py:1258: UserWarning: Using the model-agnostic default `max_length` (=20) to control the generation length. We recommend setting `max_new_tokens` to control the maximum length of the generation.\n",
            "  warnings.warn(\n",
            "/usr/local/lib/python3.10/dist-packages/transformers/generation/utils.py:1258: UserWarning: Using the model-agnostic default `max_length` (=20) to control the generation length. We recommend setting `max_new_tokens` to control the maximum length of the generation.\n",
            "  warnings.warn(\n",
            "/usr/local/lib/python3.10/dist-packages/transformers/generation/utils.py:1258: UserWarning: Using the model-agnostic default `max_length` (=20) to control the generation length. We recommend setting `max_new_tokens` to control the maximum length of the generation.\n",
            "  warnings.warn(\n",
            "/usr/local/lib/python3.10/dist-packages/transformers/generation/utils.py:1258: UserWarning: Using the model-agnostic default `max_length` (=20) to control the generation length. We recommend setting `max_new_tokens` to control the maximum length of the generation.\n",
            "  warnings.warn(\n",
            "/usr/local/lib/python3.10/dist-packages/transformers/generation/utils.py:1258: UserWarning: Using the model-agnostic default `max_length` (=20) to control the generation length. We recommend setting `max_new_tokens` to control the maximum length of the generation.\n",
            "  warnings.warn(\n",
            "/usr/local/lib/python3.10/dist-packages/transformers/generation/utils.py:1258: UserWarning: Using the model-agnostic default `max_length` (=20) to control the generation length. We recommend setting `max_new_tokens` to control the maximum length of the generation.\n",
            "  warnings.warn(\n",
            "/usr/local/lib/python3.10/dist-packages/transformers/generation/utils.py:1258: UserWarning: Using the model-agnostic default `max_length` (=20) to control the generation length. We recommend setting `max_new_tokens` to control the maximum length of the generation.\n",
            "  warnings.warn(\n",
            "/usr/local/lib/python3.10/dist-packages/transformers/generation/utils.py:1258: UserWarning: Using the model-agnostic default `max_length` (=20) to control the generation length. We recommend setting `max_new_tokens` to control the maximum length of the generation.\n",
            "  warnings.warn(\n",
            "/usr/local/lib/python3.10/dist-packages/transformers/generation/utils.py:1258: UserWarning: Using the model-agnostic default `max_length` (=20) to control the generation length. We recommend setting `max_new_tokens` to control the maximum length of the generation.\n",
            "  warnings.warn(\n",
            "/usr/local/lib/python3.10/dist-packages/transformers/generation/utils.py:1258: UserWarning: Using the model-agnostic default `max_length` (=20) to control the generation length. We recommend setting `max_new_tokens` to control the maximum length of the generation.\n",
            "  warnings.warn(\n",
            "/usr/local/lib/python3.10/dist-packages/transformers/generation/utils.py:1258: UserWarning: Using the model-agnostic default `max_length` (=20) to control the generation length. We recommend setting `max_new_tokens` to control the maximum length of the generation.\n",
            "  warnings.warn(\n",
            "/usr/local/lib/python3.10/dist-packages/transformers/generation/utils.py:1258: UserWarning: Using the model-agnostic default `max_length` (=20) to control the generation length. We recommend setting `max_new_tokens` to control the maximum length of the generation.\n",
            "  warnings.warn(\n",
            "/usr/local/lib/python3.10/dist-packages/transformers/generation/utils.py:1258: UserWarning: Using the model-agnostic default `max_length` (=20) to control the generation length. We recommend setting `max_new_tokens` to control the maximum length of the generation.\n",
            "  warnings.warn(\n",
            "/usr/local/lib/python3.10/dist-packages/transformers/generation/utils.py:1258: UserWarning: Using the model-agnostic default `max_length` (=20) to control the generation length. We recommend setting `max_new_tokens` to control the maximum length of the generation.\n",
            "  warnings.warn(\n"
          ]
        },
        {
          "output_type": "stream",
          "name": "stdout",
          "text": [
            "Evaluation Metrics:\n",
            "Hit Rate @ 1: 0.8839\n",
            "MRR: 0.8839\n",
            "Mean Correctness: 0.8839\n"
          ]
        }
      ]
    },
    {
      "cell_type": "code",
      "source": [
        "import os\n",
        "import pandas as pd\n",
        "import random\n",
        "import numpy as np\n",
        "import torch\n",
        "from PIL import Image, UnidentifiedImageError\n",
        "from transformers import GPT2LMHeadModel, GPT2Tokenizer\n",
        "\n",
        "def calculate_metrics(predictions, labels):\n",
        "    # Ensure predictions and labels are numpy arrays for easier handling\n",
        "    predictions = np.array(predictions)\n",
        "    labels = np.array(labels)\n",
        "\n",
        "    # Hit Rate @ 1 (binary correctness)\n",
        "    hit_rate = np.mean([1 if pred == label else 0 for pred, label in zip(predictions, labels)])\n",
        "\n",
        "    # Mean Correctness (binary correctness)\n",
        "    mean_correctness = np.mean([1 if pred == label else 0 for pred, label in zip(predictions, labels)])\n",
        "\n",
        "    # Print the metrics\n",
        "    print(\"Evaluation Metrics:\")\n",
        "    print(f\"Hit Rate @ 1: {hit_rate:.4f}\")\n",
        "    print(f\"Mean Correctness: {mean_correctness:.4f}\")\n",
        "\n",
        "def test_single_input(model, tokenizer, image_transform, text, image_path):\n",
        "    model.eval()\n",
        "\n",
        "    # Process the text input\n",
        "    text_inputs = tokenizer(text, padding=True, truncation=True, return_tensors='pt').to(device)\n",
        "\n",
        "    try:\n",
        "        # Load and process the image input from local file\n",
        "        image = Image.open(image_path)\n",
        "        if image_transform:\n",
        "            image = image_transform(image).unsqueeze(0).to(device)\n",
        "    except UnidentifiedImageError as e:\n",
        "        print(f\"Error loading image: {e}\")\n",
        "        return None\n",
        "\n",
        "    with torch.no_grad():\n",
        "        text_outputs = model.bert(**text_inputs)\n",
        "        text_embedding = text_outputs.pooler_output\n",
        "        image_embedding = model.resnet(image)\n",
        "        combined = torch.cat((text_embedding, image_embedding), dim=1)\n",
        "        output = model.fc(combined)\n",
        "\n",
        "    _, predicted_label_idx = torch.max(output, 1)\n",
        "    predicted_label = list(label_to_index.keys())[list(label_to_index.values()).index(predicted_label_idx.item())]\n",
        "\n",
        "    return predicted_label\n",
        "\n",
        "# Load processed data\n",
        "processed_data = pd.read_csv('processed_murag_data.csv')\n",
        "\n",
        "# Specify the number of samples to test\n",
        "num_samples = 5  # Change this to your desired sample size\n",
        "\n",
        "# Randomly select entries from the dataset\n",
        "random_indices = random.sample(range(len(processed_data)), num_samples)\n",
        "predictions = []\n",
        "labels = []\n",
        "\n",
        "# Load pre-trained GPT-2 model and tokenizer\n",
        "gpt2_model = GPT2LMHeadModel.from_pretrained('gpt2').to(device)\n",
        "gpt2_tokenizer = GPT2Tokenizer.from_pretrained('gpt2')\n",
        "\n",
        "# Modify the integration function to include attention mask\n",
        "def integrate_with_gpt2(model, gpt2_model, gpt2_tokenizer, image, text_input):\n",
        "    model.eval()\n",
        "    gpt2_model.eval()\n",
        "\n",
        "    with torch.no_grad():\n",
        "        text_inputs = model.bert_tokenizer(text_input, padding=True, truncation=True, return_tensors='pt', return_attention_mask=True).to(device)\n",
        "        text_outputs = model.bert(**text_inputs)\n",
        "        text_embedding = text_outputs.pooler_output\n",
        "\n",
        "        image_embedding = model.resnet(image)\n",
        "        combined = torch.cat((text_embedding, image_embedding), dim=1)\n",
        "\n",
        "    # Generate text using GPT-2\n",
        "    gpt2_input_ids = gpt2_tokenizer.encode(text_input, return_tensors='pt').to(device)\n",
        "    gpt2_outputs = gpt2_model.generate(gpt2_input_ids, max_new_tokens=50, num_return_sequences=1)\n",
        "\n",
        "    generated_text = gpt2_tokenizer.decode(gpt2_outputs[0], skip_special_tokens=True)\n",
        "    return generated_text\n",
        "\n",
        "\n",
        "# Evaluate the selected entries\n",
        "for idx in random_indices:\n",
        "    context = eval(processed_data.iloc[idx]['context'])  # Evaluate the context dictionary\n",
        "    image_path = context['image_path']                  # Extract the image path\n",
        "    text = processed_data.iloc[idx]['question']         # Extract the question\n",
        "    expected_label = processed_data.iloc[idx]['answer'] # Extract the expected answer\n",
        "\n",
        "    # Check if the file exists\n",
        "    if not os.path.isfile(image_path):\n",
        "        print(f\"Image file does not exist: {image_path}\")\n",
        "        continue\n",
        "\n",
        "    # Run the test for prediction\n",
        "    predicted_label = test_single_input(model, model.bert_tokenizer, image_transform, text, image_path)\n",
        "    if predicted_label is not None:\n",
        "        predictions.append(predicted_label)  # Add predicted label\n",
        "        labels.append(expected_label)        # Add expected label\n",
        "\n",
        "    # Load and process the image for GPT-2 integration\n",
        "    image = Image.open(image_path)\n",
        "    if image_transform:\n",
        "        image = image_transform(image).unsqueeze(0).to(device)\n",
        "\n",
        "    # Integrate and generate text with GPT-2\n",
        "    generated_response = integrate_with_gpt2(model, gpt2_model, gpt2_tokenizer, image, text)\n",
        "    print(f\"Question: {text}\")\n",
        "    print(f\"Expected Answer: {expected_label}\")\n",
        "    print(f\"Predicted Label: {predicted_label}\")\n",
        "    print(f\"Generated Response: {generated_response}\")\n",
        "\n",
        "# Calculate and print the metrics\n",
        "calculate_metrics(predictions, labels)\n"
      ],
      "metadata": {
        "colab": {
          "base_uri": "https://localhost:8080/"
        },
        "id": "MUmlwUC74ecB",
        "outputId": "2fb5a537-8ffe-48c9-b25a-1f58cbd74630"
      },
      "execution_count": null,
      "outputs": [
        {
          "output_type": "stream",
          "name": "stderr",
          "text": [
            "/usr/local/lib/python3.10/dist-packages/transformers/tokenization_utils_base.py:1601: FutureWarning: `clean_up_tokenization_spaces` was not set. It will be set to `True` by default. This behavior will be depracted in transformers v4.45, and will be then set to `False` by default. For more details check this issue: https://github.com/huggingface/transformers/issues/31884\n",
            "  warnings.warn(\n",
            "The attention mask and the pad token id were not set. As a consequence, you may observe unexpected behavior. Please pass your input's `attention_mask` to obtain reliable results.\n",
            "Setting `pad_token_id` to `eos_token_id`:50256 for open-end generation.\n",
            "/usr/local/lib/python3.10/dist-packages/transformers/generation/utils.py:1258: UserWarning: Using the model-agnostic default `max_length` (=20) to control the generation length. We recommend setting `max_new_tokens` to control the maximum length of the generation.\n",
            "  warnings.warn(\n"
          ]
        },
        {
          "output_type": "stream",
          "name": "stdout",
          "text": [
            "Question: Is this book related to Sports & Outdoors?\n",
            "Expected Answer: No\n",
            "Predicted Label: No\n",
            "Generated Response: Is this book related to Sports & Outdoors?\n",
            "\n",
            "I think it's a good book. It's a good book. It's a good book. It's a good book. It's a good book. It's a good book. It's a good book. It's a good\n"
          ]
        },
        {
          "output_type": "stream",
          "name": "stderr",
          "text": [
            "The attention mask and the pad token id were not set. As a consequence, you may observe unexpected behavior. Please pass your input's `attention_mask` to obtain reliable results.\n",
            "Setting `pad_token_id` to `eos_token_id`:50256 for open-end generation.\n"
          ]
        },
        {
          "output_type": "stream",
          "name": "stdout",
          "text": [
            "Question: What is the year printed on this calendar?\n",
            "Expected Answer: 2016\n",
            "Predicted Label: 2016\n",
            "Generated Response: What is the year printed on this calendar?\n",
            "\n",
            "The year printed on this calendar is the year of the first printing of the book.\n",
            "\n",
            "The year printed on this calendar is the year of the first printing of the book.\n",
            "\n",
            "The year printed on this calendar is the year of\n"
          ]
        },
        {
          "output_type": "stream",
          "name": "stderr",
          "text": [
            "/usr/local/lib/python3.10/dist-packages/transformers/generation/utils.py:1258: UserWarning: Using the model-agnostic default `max_length` (=20) to control the generation length. We recommend setting `max_new_tokens` to control the maximum length of the generation.\n",
            "  warnings.warn(\n",
            "The attention mask and the pad token id were not set. As a consequence, you may observe unexpected behavior. Please pass your input's `attention_mask` to obtain reliable results.\n",
            "Setting `pad_token_id` to `eos_token_id`:50256 for open-end generation.\n"
          ]
        },
        {
          "output_type": "stream",
          "name": "stdout",
          "text": [
            "Question: What is the title of this book?\n",
            "Expected Answer: Llewellyn's 2016 Witches' Datebook\n",
            "Predicted Label: Llewellyn's 2016 Witches' Datebook\n",
            "Generated Response: What is the title of this book?\n",
            "\n",
            "The title of this book is \"The Great American Novel.\" It is a book about the American Revolution. It is a book about the American Revolution. It is a book about the American Revolution. It is a book about the American Revolution.\n"
          ]
        },
        {
          "output_type": "stream",
          "name": "stderr",
          "text": [
            "The attention mask and the pad token id were not set. As a consequence, you may observe unexpected behavior. Please pass your input's `attention_mask` to obtain reliable results.\n",
            "Setting `pad_token_id` to `eos_token_id`:50256 for open-end generation.\n",
            "/usr/local/lib/python3.10/dist-packages/transformers/generation/utils.py:1258: UserWarning: Using the model-agnostic default `max_length` (=20) to control the generation length. We recommend setting `max_new_tokens` to control the maximum length of the generation.\n",
            "  warnings.warn(\n"
          ]
        },
        {
          "output_type": "stream",
          "name": "stdout",
          "text": [
            "Question: Which year's calendar is this?\n",
            "Expected Answer: 2016\n",
            "Predicted Label: 2016\n",
            "Generated Response: Which year's calendar is this?\n",
            "\n",
            "The year is 2017.\n",
            "\n",
            "The year is 2018.\n",
            "\n",
            "The year is 2019.\n",
            "\n",
            "The year is 2020.\n",
            "\n",
            "The year is 2021.\n",
            "\n",
            "The year is 2022.\n",
            "\n",
            "The year is 2023.\n"
          ]
        },
        {
          "output_type": "stream",
          "name": "stderr",
          "text": [
            "The attention mask and the pad token id were not set. As a consequence, you may observe unexpected behavior. Please pass your input's `attention_mask` to obtain reliable results.\n",
            "Setting `pad_token_id` to `eos_token_id`:50256 for open-end generation.\n",
            "/usr/local/lib/python3.10/dist-packages/transformers/generation/utils.py:1258: UserWarning: Using the model-agnostic default `max_length` (=20) to control the generation length. We recommend setting `max_new_tokens` to control the maximum length of the generation.\n",
            "  warnings.warn(\n"
          ]
        },
        {
          "output_type": "stream",
          "name": "stdout",
          "text": [
            "Question: Who is the author of this book?\n",
            "Expected Answer: Year-In-A-Box\n",
            "Predicted Label: 2016\n",
            "Generated Response: Who is the author of this book?\n",
            "\n",
            "I am a writer and a writer's assistant. I am a writer's assistant. I am a writer's assistant. I am a writer's assistant. I am a writer's assistant. I am a writer's assistant. I am a\n",
            "Evaluation Metrics:\n",
            "Hit Rate @ 1: 0.8000\n",
            "Mean Correctness: 0.8000\n"
          ]
        }
      ]
    },
    {
      "cell_type": "code",
      "source": [
        "import matplotlib.pyplot as plt\n",
        "\n",
        "def plot_metrics(train_losses, train_accuracies):\n",
        "    epochs = range(1, len(train_losses) + 1)\n",
        "\n",
        "    plt.figure(figsize=(12, 5))\n",
        "\n",
        "    # Loss Plot\n",
        "    plt.subplot(1, 2, 1)\n",
        "    plt.plot(epochs, train_losses, label='Training Loss')\n",
        "    plt.xlabel('Epochs')\n",
        "    plt.ylabel('Loss')\n",
        "    plt.title('Training Loss')\n",
        "    plt.legend()\n",
        "\n",
        "    # Accuracy Plot\n",
        "    plt.subplot(1, 2, 2)\n",
        "    plt.plot(epochs, train_accuracies, label='Training Accuracy')\n",
        "    plt.xlabel('Epochs')\n",
        "    plt.ylabel('Accuracy')\n",
        "    plt.title('Training Accuracy')\n",
        "    plt.legend()\n",
        "\n",
        "    plt.show()\n",
        "\n",
        "# Simulated loss and accuracy values for demonstration\n",
        "train_losses = [3.9869, 2.5093, 1.7222, 1.3020, 0.9642]\n",
        "train_accuracies = [0.07, 0.48, 0.65, 0.73, 0.81]\n",
        "\n",
        "plot_metrics(train_losses, train_accuracies)"
      ],
      "metadata": {
        "colab": {
          "base_uri": "https://localhost:8080/",
          "height": 487
        },
        "id": "r0rlYIGxN_IH",
        "outputId": "0f32e38d-03d4-4e83-85e9-fa5af5661ed9"
      },
      "execution_count": null,
      "outputs": [
        {
          "output_type": "display_data",
          "data": {
            "text/plain": [
              "<Figure size 1200x500 with 2 Axes>"
            ],
            "image/png": "[encoded data removed]"
          },
          "metadata": {}
        }
      ]
    },
    {
      "cell_type": "code",
      "source": [
        "import matplotlib.pyplot as plt\n",
        "\n",
        "# 1. Visualizing Hit Rate and Mean Correctness\n",
        "def visualize_hit_rate_mean_correctness(hit_rate, mean_correctness, mrr):\n",
        "    metrics = ['Hit Rate @ 1', 'Mean Correctness', 'MRR']\n",
        "    values = [hit_rate, mean_correctness, mrr]\n",
        "\n",
        "    plt.figure(figsize=(6, 4))\n",
        "    plt.bar(metrics, values, color=['skyblue', 'lightcoral'])\n",
        "    plt.title('Hit Rate @ 1 & Mean Correctness & MRR')\n",
        "    plt.ylabel('Score')\n",
        "    plt.ylim([0, 1])\n",
        "    plt.show()\n",
        "\n",
        "hit_rate= 0.8839\n",
        "mrr=0.8839\n",
        "mean_correctness= 0.8839\n",
        "\n",
        "# 1. Plot Hit Rate and Mean Correctness\n",
        "visualize_hit_rate_mean_correctness(hit_rate, mean_correctness, mrr)"
      ],
      "metadata": {
        "colab": {
          "base_uri": "https://localhost:8080/",
          "height": 391
        },
        "id": "6g5YVTLeT-5S",
        "outputId": "3462405e-4fc9-4a44-bbaa-79ce9e83e8be"
      },
      "execution_count": null,
      "outputs": [
        {
          "output_type": "display_data",
          "data": {
            "text/plain": [
              "<Figure size 600x400 with 1 Axes>"
            ],
            "image/png": "[encoded data removed]"
          },
          "metadata": {}
        }
      ]
    },
    {
      "cell_type": "code",
      "source": [],
      "metadata": {
        "id": "SjF8jkQsVJpu"
      },
      "execution_count": null,
      "outputs": []
    }
  ],
  "metadata": {
    "colab": {
      "provenance": []
    },
    "kernelspec": {
      "display_name": "Python 3",
      "name": "python3"
    },
    "language_info": {
      "name": "python"
    },
    "widgets": {
      "application/vnd.jupyter.widget-state+json": {
        "e203260fc47e49eca3733a57f4e6fd1b": {
          "model_module": "@jupyter-widgets/controls",
          "model_name": "HBoxModel",
          "model_module_version": "1.5.0",
          "state": {
            "_dom_classes": [],
            "_model_module": "@jupyter-widgets/controls",
            "_model_module_version": "1.5.0",
            "_model_name": "HBoxModel",
            "_view_count": null,
            "_view_module": "@jupyter-widgets/controls",
            "_view_module_version": "1.5.0",
            "_view_name": "HBoxView",
            "box_style": "",
            "children": [
              "IPY_MODEL_180940aadbc64881809755cc53f1172e",
              "IPY_MODEL_f165a8f17a5144a4b651ca032aa27d71",
              "IPY_MODEL_9e5235714f2d40dea6d45349458ad64d"
            ],
            "layout": "IPY_MODEL_47af4892314546d1bdaf38154525126f"
          }
        },
        "180940aadbc64881809755cc53f1172e": {
          "model_module": "@jupyter-widgets/controls",
          "model_name": "HTMLModel",
          "model_module_version": "1.5.0",
          "state": {
            "_dom_classes": [],
            "_model_module": "@jupyter-widgets/controls",
            "_model_module_version": "1.5.0",
            "_model_name": "HTMLModel",
            "_view_count": null,
            "_view_module": "@jupyter-widgets/controls",
            "_view_module_version": "1.5.0",
            "_view_name": "HTMLView",
            "description": "",
            "description_tooltip": null,
            "layout": "IPY_MODEL_56bb7b3e8fa142ff8470ca92e4e6c4da",
            "placeholder": "​",
            "style": "IPY_MODEL_ad87482fd7834e049c8aa4c61a67d2ed",
            "value": "config.json: 100%"
          }
        },
        "f165a8f17a5144a4b651ca032aa27d71": {
          "model_module": "@jupyter-widgets/controls",
          "model_name": "FloatProgressModel",
          "model_module_version": "1.5.0",
          "state": {
            "_dom_classes": [],
            "_model_module": "@jupyter-widgets/controls",
            "_model_module_version": "1.5.0",
            "_model_name": "FloatProgressModel",
            "_view_count": null,
            "_view_module": "@jupyter-widgets/controls",
            "_view_module_version": "1.5.0",
            "_view_name": "ProgressView",
            "bar_style": "success",
            "description": "",
            "description_tooltip": null,
            "layout": "IPY_MODEL_f68c4bec937648958b624bde6bddb97e",
            "max": 570,
            "min": 0,
            "orientation": "horizontal",
            "style": "IPY_MODEL_bfde078ebee84a54826a9f95955cddb4",
            "value": 570
          }
        },
        "9e5235714f2d40dea6d45349458ad64d": {
          "model_module": "@jupyter-widgets/controls",
          "model_name": "HTMLModel",
          "model_module_version": "1.5.0",
          "state": {
            "_dom_classes": [],
            "_model_module": "@jupyter-widgets/controls",
            "_model_module_version": "1.5.0",
            "_model_name": "HTMLModel",
            "_view_count": null,
            "_view_module": "@jupyter-widgets/controls",
            "_view_module_version": "1.5.0",
            "_view_name": "HTMLView",
            "description": "",
            "description_tooltip": null,
            "layout": "IPY_MODEL_3cada9fc296c4fb1b3d7018f8cd09f73",
            "placeholder": "​",
            "style": "IPY_MODEL_4714cc5be8c44d71b6bcd319e70842b8",
            "value": " 570/570 [00:00&lt;00:00, 3.21kB/s]"
          }
        },
        "47af4892314546d1bdaf38154525126f": {
          "model_module": "@jupyter-widgets/base",
          "model_name": "LayoutModel",
          "model_module_version": "1.2.0",
          "state": {
            "_model_module": "@jupyter-widgets/base",
            "_model_module_version": "1.2.0",
            "_model_name": "LayoutModel",
            "_view_count": null,
            "_view_module": "@jupyter-widgets/base",
            "_view_module_version": "1.2.0",
            "_view_name": "LayoutView",
            "align_content": null,
            "align_items": null,
            "align_self": null,
            "border": null,
            "bottom": null,
            "display": null,
            "flex": null,
            "flex_flow": null,
            "grid_area": null,
            "grid_auto_columns": null,
            "grid_auto_flow": null,
            "grid_auto_rows": null,
            "grid_column": null,
            "grid_gap": null,
            "grid_row": null,
            "grid_template_areas": null,
            "grid_template_columns": null,
            "grid_template_rows": null,
            "height": null,
            "justify_content": null,
            "justify_items": null,
            "left": null,
            "margin": null,
            "max_height": null,
            "max_width": null,
            "min_height": null,
            "min_width": null,
            "object_fit": null,
            "object_position": null,
            "order": null,
            "overflow": null,
            "overflow_x": null,
            "overflow_y": null,
            "padding": null,
            "right": null,
            "top": null,
            "visibility": null,
            "width": null
          }
        },
        "56bb7b3e8fa142ff8470ca92e4e6c4da": {
          "model_module": "@jupyter-widgets/base",
          "model_name": "LayoutModel",
          "model_module_version": "1.2.0",
          "state": {
            "_model_module": "@jupyter-widgets/base",
            "_model_module_version": "1.2.0",
            "_model_name": "LayoutModel",
            "_view_count": null,
            "_view_module": "@jupyter-widgets/base",
            "_view_module_version": "1.2.0",
            "_view_name": "LayoutView",
            "align_content": null,
            "align_items": null,
            "align_self": null,
            "border": null,
            "bottom": null,
            "display": null,
            "flex": null,
            "flex_flow": null,
            "grid_area": null,
            "grid_auto_columns": null,
            "grid_auto_flow": null,
            "grid_auto_rows": null,
            "grid_column": null,
            "grid_gap": null,
            "grid_row": null,
            "grid_template_areas": null,
            "grid_template_columns": null,
            "grid_template_rows": null,
            "height": null,
            "justify_content": null,
            "justify_items": null,
            "left": null,
            "margin": null,
            "max_height": null,
            "max_width": null,
            "min_height": null,
            "min_width": null,
            "object_fit": null,
            "object_position": null,
            "order": null,
            "overflow": null,
            "overflow_x": null,
            "overflow_y": null,
            "padding": null,
            "right": null,
            "top": null,
            "visibility": null,
            "width": null
          }
        },
        "ad87482fd7834e049c8aa4c61a67d2ed": {
          "model_module": "@jupyter-widgets/controls",
          "model_name": "DescriptionStyleModel",
          "model_module_version": "1.5.0",
          "state": {
            "_model_module": "@jupyter-widgets/controls",
            "_model_module_version": "1.5.0",
            "_model_name": "DescriptionStyleModel",
            "_view_count": null,
            "_view_module": "@jupyter-widgets/base",
            "_view_module_version": "1.2.0",
            "_view_name": "StyleView",
            "description_width": ""
          }
        },
        "f68c4bec937648958b624bde6bddb97e": {
          "model_module": "@jupyter-widgets/base",
          "model_name": "LayoutModel",
          "model_module_version": "1.2.0",
          "state": {
            "_model_module": "@jupyter-widgets/base",
            "_model_module_version": "1.2.0",
            "_model_name": "LayoutModel",
            "_view_count": null,
            "_view_module": "@jupyter-widgets/base",
            "_view_module_version": "1.2.0",
            "_view_name": "LayoutView",
            "align_content": null,
            "align_items": null,
            "align_self": null,
            "border": null,
            "bottom": null,
            "display": null,
            "flex": null,
            "flex_flow": null,
            "grid_area": null,
            "grid_auto_columns": null,
            "grid_auto_flow": null,
            "grid_auto_rows": null,
            "grid_column": null,
            "grid_gap": null,
            "grid_row": null,
            "grid_template_areas": null,
            "grid_template_columns": null,
            "grid_template_rows": null,
            "height": null,
            "justify_content": null,
            "justify_items": null,
            "left": null,
            "margin": null,
            "max_height": null,
            "max_width": null,
            "min_height": null,
            "min_width": null,
            "object_fit": null,
            "object_position": null,
            "order": null,
            "overflow": null,
            "overflow_x": null,
            "overflow_y": null,
            "padding": null,
            "right": null,
            "top": null,
            "visibility": null,
            "width": null
          }
        },
        "bfde078ebee84a54826a9f95955cddb4": {
          "model_module": "@jupyter-widgets/controls",
          "model_name": "ProgressStyleModel",
          "model_module_version": "1.5.0",
          "state": {
            "_model_module": "@jupyter-widgets/controls",
            "_model_module_version": "1.5.0",
            "_model_name": "ProgressStyleModel",
            "_view_count": null,
            "_view_module": "@jupyter-widgets/base",
            "_view_module_version": "1.2.0",
            "_view_name": "StyleView",
            "bar_color": null,
            "description_width": ""
          }
        },
        "3cada9fc296c4fb1b3d7018f8cd09f73": {
          "model_module": "@jupyter-widgets/base",
          "model_name": "LayoutModel",
          "model_module_version": "1.2.0",
          "state": {
            "_model_module": "@jupyter-widgets/base",
            "_model_module_version": "1.2.0",
            "_model_name": "LayoutModel",
            "_view_count": null,
            "_view_module": "@jupyter-widgets/base",
            "_view_module_version": "1.2.0",
            "_view_name": "LayoutView",
            "align_content": null,
            "align_items": null,
            "align_self": null,
            "border": null,
            "bottom": null,
            "display": null,
            "flex": null,
            "flex_flow": null,
            "grid_area": null,
            "grid_auto_columns": null,
            "grid_auto_flow": null,
            "grid_auto_rows": null,
            "grid_column": null,
            "grid_gap": null,
            "grid_row": null,
            "grid_template_areas": null,
            "grid_template_columns": null,
            "grid_template_rows": null,
            "height": null,
            "justify_content": null,
            "justify_items": null,
            "left": null,
            "margin": null,
            "max_height": null,
            "max_width": null,
            "min_height": null,
            "min_width": null,
            "object_fit": null,
            "object_position": null,
            "order": null,
            "overflow": null,
            "overflow_x": null,
            "overflow_y": null,
            "padding": null,
            "right": null,
            "top": null,
            "visibility": null,
            "width": null
          }
        },
        "4714cc5be8c44d71b6bcd319e70842b8": {
          "model_module": "@jupyter-widgets/controls",
          "model_name": "DescriptionStyleModel",
          "model_module_version": "1.5.0",
          "state": {
            "_model_module": "@jupyter-widgets/controls",
            "_model_module_version": "1.5.0",
            "_model_name": "DescriptionStyleModel",
            "_view_count": null,
            "_view_module": "@jupyter-widgets/base",
            "_view_module_version": "1.2.0",
            "_view_name": "StyleView",
            "description_width": ""
          }
        },
        "44fcedaba19640798539feed184d367a": {
          "model_module": "@jupyter-widgets/controls",
          "model_name": "HBoxModel",
          "model_module_version": "1.5.0",
          "state": {
            "_dom_classes": [],
            "_model_module": "@jupyter-widgets/controls",
            "_model_module_version": "1.5.0",
            "_model_name": "HBoxModel",
            "_view_count": null,
            "_view_module": "@jupyter-widgets/controls",
            "_view_module_version": "1.5.0",
            "_view_name": "HBoxView",
            "box_style": "",
            "children": [
              "IPY_MODEL_2e93a603b98544099287da10bc9de01b",
              "IPY_MODEL_bbe56034fdb6400289bd3e9c9ae5a71f",
              "IPY_MODEL_186caa299e6e4562995495d064bef8e1"
            ],
            "layout": "IPY_MODEL_c094d315277e4d8daea93ee5260b3e74"
          }
        },
        "2e93a603b98544099287da10bc9de01b": {
          "model_module": "@jupyter-widgets/controls",
          "model_name": "HTMLModel",
          "model_module_version": "1.5.0",
          "state": {
            "_dom_classes": [],
            "_model_module": "@jupyter-widgets/controls",
            "_model_module_version": "1.5.0",
            "_model_name": "HTMLModel",
            "_view_count": null,
            "_view_module": "@jupyter-widgets/controls",
            "_view_module_version": "1.5.0",
            "_view_name": "HTMLView",
            "description": "",
            "description_tooltip": null,
            "layout": "IPY_MODEL_ad0b2614d7774172823187efa3745cb8",
            "placeholder": "​",
            "style": "IPY_MODEL_4cd27ca693204d6798bca7a8ac76013c",
            "value": "model.safetensors: 100%"
          }
        },
        "bbe56034fdb6400289bd3e9c9ae5a71f": {
          "model_module": "@jupyter-widgets/controls",
          "model_name": "FloatProgressModel",
          "model_module_version": "1.5.0",
          "state": {
            "_dom_classes": [],
            "_model_module": "@jupyter-widgets/controls",
            "_model_module_version": "1.5.0",
            "_model_name": "FloatProgressModel",
            "_view_count": null,
            "_view_module": "@jupyter-widgets/controls",
            "_view_module_version": "1.5.0",
            "_view_name": "ProgressView",
            "bar_style": "success",
            "description": "",
            "description_tooltip": null,
            "layout": "IPY_MODEL_c318708c6e364d2badb6f7fc109ba6f4",
            "max": 440449768,
            "min": 0,
            "orientation": "horizontal",
            "style": "IPY_MODEL_97e87c14ffc142d4b12e431fe33514f4",
            "value": 440449768
          }
        },
        "186caa299e6e4562995495d064bef8e1": {
          "model_module": "@jupyter-widgets/controls",
          "model_name": "HTMLModel",
          "model_module_version": "1.5.0",
          "state": {
            "_dom_classes": [],
            "_model_module": "@jupyter-widgets/controls",
            "_model_module_version": "1.5.0",
            "_model_name": "HTMLModel",
            "_view_count": null,
            "_view_module": "@jupyter-widgets/controls",
            "_view_module_version": "1.5.0",
            "_view_name": "HTMLView",
            "description": "",
            "description_tooltip": null,
            "layout": "IPY_MODEL_f3f1536b628d486c8bbf6c84a3e2497c",
            "placeholder": "​",
            "style": "IPY_MODEL_e60b77666f95412d94ad516d11a08c97",
            "value": " 440M/440M [00:11&lt;00:00, 43.9MB/s]"
          }
        },
        "c094d315277e4d8daea93ee5260b3e74": {
          "model_module": "@jupyter-widgets/base",
          "model_name": "LayoutModel",
          "model_module_version": "1.2.0",
          "state": {
            "_model_module": "@jupyter-widgets/base",
            "_model_module_version": "1.2.0",
            "_model_name": "LayoutModel",
            "_view_count": null,
            "_view_module": "@jupyter-widgets/base",
            "_view_module_version": "1.2.0",
            "_view_name": "LayoutView",
            "align_content": null,
            "align_items": null,
            "align_self": null,
            "border": null,
            "bottom": null,
            "display": null,
            "flex": null,
            "flex_flow": null,
            "grid_area": null,
            "grid_auto_columns": null,
            "grid_auto_flow": null,
            "grid_auto_rows": null,
            "grid_column": null,
            "grid_gap": null,
            "grid_row": null,
            "grid_template_areas": null,
            "grid_template_columns": null,
            "grid_template_rows": null,
            "height": null,
            "justify_content": null,
            "justify_items": null,
            "left": null,
            "margin": null,
            "max_height": null,
            "max_width": null,
            "min_height": null,
            "min_width": null,
            "object_fit": null,
            "object_position": null,
            "order": null,
            "overflow": null,
            "overflow_x": null,
            "overflow_y": null,
            "padding": null,
            "right": null,
            "top": null,
            "visibility": null,
            "width": null
          }
        },
        "ad0b2614d7774172823187efa3745cb8": {
          "model_module": "@jupyter-widgets/base",
          "model_name": "LayoutModel",
          "model_module_version": "1.2.0",
          "state": {
            "_model_module": "@jupyter-widgets/base",
            "_model_module_version": "1.2.0",
            "_model_name": "LayoutModel",
            "_view_count": null,
            "_view_module": "@jupyter-widgets/base",
            "_view_module_version": "1.2.0",
            "_view_name": "LayoutView",
            "align_content": null,
            "align_items": null,
            "align_self": null,
            "border": null,
            "bottom": null,
            "display": null,
            "flex": null,
            "flex_flow": null,
            "grid_area": null,
            "grid_auto_columns": null,
            "grid_auto_flow": null,
            "grid_auto_rows": null,
            "grid_column": null,
            "grid_gap": null,
            "grid_row": null,
            "grid_template_areas": null,
            "grid_template_columns": null,
            "grid_template_rows": null,
            "height": null,
            "justify_content": null,
            "justify_items": null,
            "left": null,
            "margin": null,
            "max_height": null,
            "max_width": null,
            "min_height": null,
            "min_width": null,
            "object_fit": null,
            "object_position": null,
            "order": null,
            "overflow": null,
            "overflow_x": null,
            "overflow_y": null,
            "padding": null,
            "right": null,
            "top": null,
            "visibility": null,
            "width": null
          }
        },
        "4cd27ca693204d6798bca7a8ac76013c": {
          "model_module": "@jupyter-widgets/controls",
          "model_name": "DescriptionStyleModel",
          "model_module_version": "1.5.0",
          "state": {
            "_model_module": "@jupyter-widgets/controls",
            "_model_module_version": "1.5.0",
            "_model_name": "DescriptionStyleModel",
            "_view_count": null,
            "_view_module": "@jupyter-widgets/base",
            "_view_module_version": "1.2.0",
            "_view_name": "StyleView",
            "description_width": ""
          }
        },
        "c318708c6e364d2badb6f7fc109ba6f4": {
          "model_module": "@jupyter-widgets/base",
          "model_name": "LayoutModel",
          "model_module_version": "1.2.0",
          "state": {
            "_model_module": "@jupyter-widgets/base",
            "_model_module_version": "1.2.0",
            "_model_name": "LayoutModel",
            "_view_count": null,
            "_view_module": "@jupyter-widgets/base",
            "_view_module_version": "1.2.0",
            "_view_name": "LayoutView",
            "align_content": null,
            "align_items": null,
            "align_self": null,
            "border": null,
            "bottom": null,
            "display": null,
            "flex": null,
            "flex_flow": null,
            "grid_area": null,
            "grid_auto_columns": null,
            "grid_auto_flow": null,
            "grid_auto_rows": null,
            "grid_column": null,
            "grid_gap": null,
            "grid_row": null,
            "grid_template_areas": null,
            "grid_template_columns": null,
            "grid_template_rows": null,
            "height": null,
            "justify_content": null,
            "justify_items": null,
            "left": null,
            "margin": null,
            "max_height": null,
            "max_width": null,
            "min_height": null,
            "min_width": null,
            "object_fit": null,
            "object_position": null,
            "order": null,
            "overflow": null,
            "overflow_x": null,
            "overflow_y": null,
            "padding": null,
            "right": null,
            "top": null,
            "visibility": null,
            "width": null
          }
        },
        "97e87c14ffc142d4b12e431fe33514f4": {
          "model_module": "@jupyter-widgets/controls",
          "model_name": "ProgressStyleModel",
          "model_module_version": "1.5.0",
          "state": {
            "_model_module": "@jupyter-widgets/controls",
            "_model_module_version": "1.5.0",
            "_model_name": "ProgressStyleModel",
            "_view_count": null,
            "_view_module": "@jupyter-widgets/base",
            "_view_module_version": "1.2.0",
            "_view_name": "StyleView",
            "bar_color": null,
            "description_width": ""
          }
        },
        "f3f1536b628d486c8bbf6c84a3e2497c": {
          "model_module": "@jupyter-widgets/base",
          "model_name": "LayoutModel",
          "model_module_version": "1.2.0",
          "state": {
            "_model_module": "@jupyter-widgets/base",
            "_model_module_version": "1.2.0",
            "_model_name": "LayoutModel",
            "_view_count": null,
            "_view_module": "@jupyter-widgets/base",
            "_view_module_version": "1.2.0",
            "_view_name": "LayoutView",
            "align_content": null,
            "align_items": null,
            "align_self": null,
            "border": null,
            "bottom": null,
            "display": null,
            "flex": null,
            "flex_flow": null,
            "grid_area": null,
            "grid_auto_columns": null,
            "grid_auto_flow": null,
            "grid_auto_rows": null,
            "grid_column": null,
            "grid_gap": null,
            "grid_row": null,
            "grid_template_areas": null,
            "grid_template_columns": null,
            "grid_template_rows": null,
            "height": null,
            "justify_content": null,
            "justify_items": null,
            "left": null,
            "margin": null,
            "max_height": null,
            "max_width": null,
            "min_height": null,
            "min_width": null,
            "object_fit": null,
            "object_position": null,
            "order": null,
            "overflow": null,
            "overflow_x": null,
            "overflow_y": null,
            "padding": null,
            "right": null,
            "top": null,
            "visibility": null,
            "width": null
          }
        },
        "e60b77666f95412d94ad516d11a08c97": {
          "model_module": "@jupyter-widgets/controls",
          "model_name": "DescriptionStyleModel",
          "model_module_version": "1.5.0",
          "state": {
            "_model_module": "@jupyter-widgets/controls",
            "_model_module_version": "1.5.0",
            "_model_name": "DescriptionStyleModel",
            "_view_count": null,
            "_view_module": "@jupyter-widgets/base",
            "_view_module_version": "1.2.0",
            "_view_name": "StyleView",
            "description_width": ""
          }
        },
        "ecc4f94e49b545ea8bc0962019cfb8fa": {
          "model_module": "@jupyter-widgets/controls",
          "model_name": "HBoxModel",
          "model_module_version": "1.5.0",
          "state": {
            "_dom_classes": [],
            "_model_module": "@jupyter-widgets/controls",
            "_model_module_version": "1.5.0",
            "_model_name": "HBoxModel",
            "_view_count": null,
            "_view_module": "@jupyter-widgets/controls",
            "_view_module_version": "1.5.0",
            "_view_name": "HBoxView",
            "box_style": "",
            "children": [
              "IPY_MODEL_421718a167b14c3398079b9f542fcee3",
              "IPY_MODEL_b3c9e9a50acb48c18623eb2ebb4b1672",
              "IPY_MODEL_02c95a4c36e54061b54f8b49a7987070"
            ],
            "layout": "IPY_MODEL_4ee2dce619d0481783ca0296c67b1071"
          }
        },
        "421718a167b14c3398079b9f542fcee3": {
          "model_module": "@jupyter-widgets/controls",
          "model_name": "HTMLModel",
          "model_module_version": "1.5.0",
          "state": {
            "_dom_classes": [],
            "_model_module": "@jupyter-widgets/controls",
            "_model_module_version": "1.5.0",
            "_model_name": "HTMLModel",
            "_view_count": null,
            "_view_module": "@jupyter-widgets/controls",
            "_view_module_version": "1.5.0",
            "_view_name": "HTMLView",
            "description": "",
            "description_tooltip": null,
            "layout": "IPY_MODEL_999d96d7964a44259ea82383227e1546",
            "placeholder": "​",
            "style": "IPY_MODEL_009e08782ade4e90a9d7a3ded4925481",
            "value": "tokenizer_config.json: 100%"
          }
        },
        "b3c9e9a50acb48c18623eb2ebb4b1672": {
          "model_module": "@jupyter-widgets/controls",
          "model_name": "FloatProgressModel",
          "model_module_version": "1.5.0",
          "state": {
            "_dom_classes": [],
            "_model_module": "@jupyter-widgets/controls",
            "_model_module_version": "1.5.0",
            "_model_name": "FloatProgressModel",
            "_view_count": null,
            "_view_module": "@jupyter-widgets/controls",
            "_view_module_version": "1.5.0",
            "_view_name": "ProgressView",
            "bar_style": "success",
            "description": "",
            "description_tooltip": null,
            "layout": "IPY_MODEL_92320eb340ba4ed18bc0c177d0bb1fd8",
            "max": 48,
            "min": 0,
            "orientation": "horizontal",
            "style": "IPY_MODEL_dada0ecf97ef4865bdd6422842fc8385",
            "value": 48
          }
        },
        "02c95a4c36e54061b54f8b49a7987070": {
          "model_module": "@jupyter-widgets/controls",
          "model_name": "HTMLModel",
          "model_module_version": "1.5.0",
          "state": {
            "_dom_classes": [],
            "_model_module": "@jupyter-widgets/controls",
            "_model_module_version": "1.5.0",
            "_model_name": "HTMLModel",
            "_view_count": null,
            "_view_module": "@jupyter-widgets/controls",
            "_view_module_version": "1.5.0",
            "_view_name": "HTMLView",
            "description": "",
            "description_tooltip": null,
            "layout": "IPY_MODEL_973ca71cc43547889c65a681c9ada8de",
            "placeholder": "​",
            "style": "IPY_MODEL_113983b49f3241d7a0d254893b0560bb",
            "value": " 48.0/48.0 [00:00&lt;00:00, 471B/s]"
          }
        },
        "4ee2dce619d0481783ca0296c67b1071": {
          "model_module": "@jupyter-widgets/base",
          "model_name": "LayoutModel",
          "model_module_version": "1.2.0",
          "state": {
            "_model_module": "@jupyter-widgets/base",
            "_model_module_version": "1.2.0",
            "_model_name": "LayoutModel",
            "_view_count": null,
            "_view_module": "@jupyter-widgets/base",
            "_view_module_version": "1.2.0",
            "_view_name": "LayoutView",
            "align_content": null,
            "align_items": null,
            "align_self": null,
            "border": null,
            "bottom": null,
            "display": null,
            "flex": null,
            "flex_flow": null,
            "grid_area": null,
            "grid_auto_columns": null,
            "grid_auto_flow": null,
            "grid_auto_rows": null,
            "grid_column": null,
            "grid_gap": null,
            "grid_row": null,
            "grid_template_areas": null,
            "grid_template_columns": null,
            "grid_template_rows": null,
            "height": null,
            "justify_content": null,
            "justify_items": null,
            "left": null,
            "margin": null,
            "max_height": null,
            "max_width": null,
            "min_height": null,
            "min_width": null,
            "object_fit": null,
            "object_position": null,
            "order": null,
            "overflow": null,
            "overflow_x": null,
            "overflow_y": null,
            "padding": null,
            "right": null,
            "top": null,
            "visibility": null,
            "width": null
          }
        },
        "999d96d7964a44259ea82383227e1546": {
          "model_module": "@jupyter-widgets/base",
          "model_name": "LayoutModel",
          "model_module_version": "1.2.0",
          "state": {
            "_model_module": "@jupyter-widgets/base",
            "_model_module_version": "1.2.0",
            "_model_name": "LayoutModel",
            "_view_count": null,
            "_view_module": "@jupyter-widgets/base",
            "_view_module_version": "1.2.0",
            "_view_name": "LayoutView",
            "align_content": null,
            "align_items": null,
            "align_self": null,
            "border": null,
            "bottom": null,
            "display": null,
            "flex": null,
            "flex_flow": null,
            "grid_area": null,
            "grid_auto_columns": null,
            "grid_auto_flow": null,
            "grid_auto_rows": null,
            "grid_column": null,
            "grid_gap": null,
            "grid_row": null,
            "grid_template_areas": null,
            "grid_template_columns": null,
            "grid_template_rows": null,
            "height": null,
            "justify_content": null,
            "justify_items": null,
            "left": null,
            "margin": null,
            "max_height": null,
            "max_width": null,
            "min_height": null,
            "min_width": null,
            "object_fit": null,
            "object_position": null,
            "order": null,
            "overflow": null,
            "overflow_x": null,
            "overflow_y": null,
            "padding": null,
            "right": null,
            "top": null,
            "visibility": null,
            "width": null
          }
        },
        "009e08782ade4e90a9d7a3ded4925481": {
          "model_module": "@jupyter-widgets/controls",
          "model_name": "DescriptionStyleModel",
          "model_module_version": "1.5.0",
          "state": {
            "_model_module": "@jupyter-widgets/controls",
            "_model_module_version": "1.5.0",
            "_model_name": "DescriptionStyleModel",
            "_view_count": null,
            "_view_module": "@jupyter-widgets/base",
            "_view_module_version": "1.2.0",
            "_view_name": "StyleView",
            "description_width": ""
          }
        },
        "92320eb340ba4ed18bc0c177d0bb1fd8": {
          "model_module": "@jupyter-widgets/base",
          "model_name": "LayoutModel",
          "model_module_version": "1.2.0",
          "state": {
            "_model_module": "@jupyter-widgets/base",
            "_model_module_version": "1.2.0",
            "_model_name": "LayoutModel",
            "_view_count": null,
            "_view_module": "@jupyter-widgets/base",
            "_view_module_version": "1.2.0",
            "_view_name": "LayoutView",
            "align_content": null,
            "align_items": null,
            "align_self": null,
            "border": null,
            "bottom": null,
            "display": null,
            "flex": null,
            "flex_flow": null,
            "grid_area": null,
            "grid_auto_columns": null,
            "grid_auto_flow": null,
            "grid_auto_rows": null,
            "grid_column": null,
            "grid_gap": null,
            "grid_row": null,
            "grid_template_areas": null,
            "grid_template_columns": null,
            "grid_template_rows": null,
            "height": null,
            "justify_content": null,
            "justify_items": null,
            "left": null,
            "margin": null,
            "max_height": null,
            "max_width": null,
            "min_height": null,
            "min_width": null,
            "object_fit": null,
            "object_position": null,
            "order": null,
            "overflow": null,
            "overflow_x": null,
            "overflow_y": null,
            "padding": null,
            "right": null,
            "top": null,
            "visibility": null,
            "width": null
          }
        },
        "dada0ecf97ef4865bdd6422842fc8385": {
          "model_module": "@jupyter-widgets/controls",
          "model_name": "ProgressStyleModel",
          "model_module_version": "1.5.0",
          "state": {
            "_model_module": "@jupyter-widgets/controls",
            "_model_module_version": "1.5.0",
            "_model_name": "ProgressStyleModel",
            "_view_count": null,
            "_view_module": "@jupyter-widgets/base",
            "_view_module_version": "1.2.0",
            "_view_name": "StyleView",
            "bar_color": null,
            "description_width": ""
          }
        },
        "973ca71cc43547889c65a681c9ada8de": {
          "model_module": "@jupyter-widgets/base",
          "model_name": "LayoutModel",
          "model_module_version": "1.2.0",
          "state": {
            "_model_module": "@jupyter-widgets/base",
            "_model_module_version": "1.2.0",
            "_model_name": "LayoutModel",
            "_view_count": null,
            "_view_module": "@jupyter-widgets/base",
            "_view_module_version": "1.2.0",
            "_view_name": "LayoutView",
            "align_content": null,
            "align_items": null,
            "align_self": null,
            "border": null,
            "bottom": null,
            "display": null,
            "flex": null,
            "flex_flow": null,
            "grid_area": null,
            "grid_auto_columns": null,
            "grid_auto_flow": null,
            "grid_auto_rows": null,
            "grid_column": null,
            "grid_gap": null,
            "grid_row": null,
            "grid_template_areas": null,
            "grid_template_columns": null,
            "grid_template_rows": null,
            "height": null,
            "justify_content": null,
            "justify_items": null,
            "left": null,
            "margin": null,
            "max_height": null,
            "max_width": null,
            "min_height": null,
            "min_width": null,
            "object_fit": null,
            "object_position": null,
            "order": null,
            "overflow": null,
            "overflow_x": null,
            "overflow_y": null,
            "padding": null,
            "right": null,
            "top": null,
            "visibility": null,
            "width": null
          }
        },
        "113983b49f3241d7a0d254893b0560bb": {
          "model_module": "@jupyter-widgets/controls",
          "model_name": "DescriptionStyleModel",
          "model_module_version": "1.5.0",
          "state": {
            "_model_module": "@jupyter-widgets/controls",
            "_model_module_version": "1.5.0",
            "_model_name": "DescriptionStyleModel",
            "_view_count": null,
            "_view_module": "@jupyter-widgets/base",
            "_view_module_version": "1.2.0",
            "_view_name": "StyleView",
            "description_width": ""
          }
        },
        "64c6d0307cde4d4890345ce1ac1928c1": {
          "model_module": "@jupyter-widgets/controls",
          "model_name": "HBoxModel",
          "model_module_version": "1.5.0",
          "state": {
            "_dom_classes": [],
            "_model_module": "@jupyter-widgets/controls",
            "_model_module_version": "1.5.0",
            "_model_name": "HBoxModel",
            "_view_count": null,
            "_view_module": "@jupyter-widgets/controls",
            "_view_module_version": "1.5.0",
            "_view_name": "HBoxView",
            "box_style": "",
            "children": [
              "IPY_MODEL_40d675faae9c4653b78e23c799fd14db",
              "IPY_MODEL_40b723bb58e14dc68cb3dd0ac1385e2d",
              "IPY_MODEL_ed02039f37524c7f92d67adc1fbb53b1"
            ],
            "layout": "IPY_MODEL_bd096a5ae334404f8aefea7d92dc1b8d"
          }
        },
        "40d675faae9c4653b78e23c799fd14db": {
          "model_module": "@jupyter-widgets/controls",
          "model_name": "HTMLModel",
          "model_module_version": "1.5.0",
          "state": {
            "_dom_classes": [],
            "_model_module": "@jupyter-widgets/controls",
            "_model_module_version": "1.5.0",
            "_model_name": "HTMLModel",
            "_view_count": null,
            "_view_module": "@jupyter-widgets/controls",
            "_view_module_version": "1.5.0",
            "_view_name": "HTMLView",
            "description": "",
            "description_tooltip": null,
            "layout": "IPY_MODEL_e00f12b95a554a7cb222f861cd429c50",
            "placeholder": "​",
            "style": "IPY_MODEL_b0af37fb10484dadbe47ead6cd112fc6",
            "value": "vocab.txt: 100%"
          }
        },
        "40b723bb58e14dc68cb3dd0ac1385e2d": {
          "model_module": "@jupyter-widgets/controls",
          "model_name": "FloatProgressModel",
          "model_module_version": "1.5.0",
          "state": {
            "_dom_classes": [],
            "_model_module": "@jupyter-widgets/controls",
            "_model_module_version": "1.5.0",
            "_model_name": "FloatProgressModel",
            "_view_count": null,
            "_view_module": "@jupyter-widgets/controls",
            "_view_module_version": "1.5.0",
            "_view_name": "ProgressView",
            "bar_style": "success",
            "description": "",
            "description_tooltip": null,
            "layout": "IPY_MODEL_65639109df474af89213b3e012736c92",
            "max": 231508,
            "min": 0,
            "orientation": "horizontal",
            "style": "IPY_MODEL_361d2592c61e4e05b79db432cbabf7f5",
            "value": 231508
          }
        },
        "ed02039f37524c7f92d67adc1fbb53b1": {
          "model_module": "@jupyter-widgets/controls",
          "model_name": "HTMLModel",
          "model_module_version": "1.5.0",
          "state": {
            "_dom_classes": [],
            "_model_module": "@jupyter-widgets/controls",
            "_model_module_version": "1.5.0",
            "_model_name": "HTMLModel",
            "_view_count": null,
            "_view_module": "@jupyter-widgets/controls",
            "_view_module_version": "1.5.0",
            "_view_name": "HTMLView",
            "description": "",
            "description_tooltip": null,
            "layout": "IPY_MODEL_6a187c4c5999461a9c653b93c886fb39",
            "placeholder": "​",
            "style": "IPY_MODEL_a0a77afac2f94af4b68fdebaf3ea4384",
            "value": " 232k/232k [00:00&lt;00:00, 1.57MB/s]"
          }
        },
        "bd096a5ae334404f8aefea7d92dc1b8d": {
          "model_module": "@jupyter-widgets/base",
          "model_name": "LayoutModel",
          "model_module_version": "1.2.0",
          "state": {
            "_model_module": "@jupyter-widgets/base",
            "_model_module_version": "1.2.0",
            "_model_name": "LayoutModel",
            "_view_count": null,
            "_view_module": "@jupyter-widgets/base",
            "_view_module_version": "1.2.0",
            "_view_name": "LayoutView",
            "align_content": null,
            "align_items": null,
            "align_self": null,
            "border": null,
            "bottom": null,
            "display": null,
            "flex": null,
            "flex_flow": null,
            "grid_area": null,
            "grid_auto_columns": null,
            "grid_auto_flow": null,
            "grid_auto_rows": null,
            "grid_column": null,
            "grid_gap": null,
            "grid_row": null,
            "grid_template_areas": null,
            "grid_template_columns": null,
            "grid_template_rows": null,
            "height": null,
            "justify_content": null,
            "justify_items": null,
            "left": null,
            "margin": null,
            "max_height": null,
            "max_width": null,
            "min_height": null,
            "min_width": null,
            "object_fit": null,
            "object_position": null,
            "order": null,
            "overflow": null,
            "overflow_x": null,
            "overflow_y": null,
            "padding": null,
            "right": null,
            "top": null,
            "visibility": null,
            "width": null
          }
        },
        "e00f12b95a554a7cb222f861cd429c50": {
          "model_module": "@jupyter-widgets/base",
          "model_name": "LayoutModel",
          "model_module_version": "1.2.0",
          "state": {
            "_model_module": "@jupyter-widgets/base",
            "_model_module_version": "1.2.0",
            "_model_name": "LayoutModel",
            "_view_count": null,
            "_view_module": "@jupyter-widgets/base",
            "_view_module_version": "1.2.0",
            "_view_name": "LayoutView",
            "align_content": null,
            "align_items": null,
            "align_self": null,
            "border": null,
            "bottom": null,
            "display": null,
            "flex": null,
            "flex_flow": null,
            "grid_area": null,
            "grid_auto_columns": null,
            "grid_auto_flow": null,
            "grid_auto_rows": null,
            "grid_column": null,
            "grid_gap": null,
            "grid_row": null,
            "grid_template_areas": null,
            "grid_template_columns": null,
            "grid_template_rows": null,
            "height": null,
            "justify_content": null,
            "justify_items": null,
            "left": null,
            "margin": null,
            "max_height": null,
            "max_width": null,
            "min_height": null,
            "min_width": null,
            "object_fit": null,
            "object_position": null,
            "order": null,
            "overflow": null,
            "overflow_x": null,
            "overflow_y": null,
            "padding": null,
            "right": null,
            "top": null,
            "visibility": null,
            "width": null
          }
        },
        "b0af37fb10484dadbe47ead6cd112fc6": {
          "model_module": "@jupyter-widgets/controls",
          "model_name": "DescriptionStyleModel",
          "model_module_version": "1.5.0",
          "state": {
            "_model_module": "@jupyter-widgets/controls",
            "_model_module_version": "1.5.0",
            "_model_name": "DescriptionStyleModel",
            "_view_count": null,
            "_view_module": "@jupyter-widgets/base",
            "_view_module_version": "1.2.0",
            "_view_name": "StyleView",
            "description_width": ""
          }
        },
        "65639109df474af89213b3e012736c92": {
          "model_module": "@jupyter-widgets/base",
          "model_name": "LayoutModel",
          "model_module_version": "1.2.0",
          "state": {
            "_model_module": "@jupyter-widgets/base",
            "_model_module_version": "1.2.0",
            "_model_name": "LayoutModel",
            "_view_count": null,
            "_view_module": "@jupyter-widgets/base",
            "_view_module_version": "1.2.0",
            "_view_name": "LayoutView",
            "align_content": null,
            "align_items": null,
            "align_self": null,
            "border": null,
            "bottom": null,
            "display": null,
            "flex": null,
            "flex_flow": null,
            "grid_area": null,
            "grid_auto_columns": null,
            "grid_auto_flow": null,
            "grid_auto_rows": null,
            "grid_column": null,
            "grid_gap": null,
            "grid_row": null,
            "grid_template_areas": null,
            "grid_template_columns": null,
            "grid_template_rows": null,
            "height": null,
            "justify_content": null,
            "justify_items": null,
            "left": null,
            "margin": null,
            "max_height": null,
            "max_width": null,
            "min_height": null,
            "min_width": null,
            "object_fit": null,
            "object_position": null,
            "order": null,
            "overflow": null,
            "overflow_x": null,
            "overflow_y": null,
            "padding": null,
            "right": null,
            "top": null,
            "visibility": null,
            "width": null
          }
        },
        "361d2592c61e4e05b79db432cbabf7f5": {
          "model_module": "@jupyter-widgets/controls",
          "model_name": "ProgressStyleModel",
          "model_module_version": "1.5.0",
          "state": {
            "_model_module": "@jupyter-widgets/controls",
            "_model_module_version": "1.5.0",
            "_model_name": "ProgressStyleModel",
            "_view_count": null,
            "_view_module": "@jupyter-widgets/base",
            "_view_module_version": "1.2.0",
            "_view_name": "StyleView",
            "bar_color": null,
            "description_width": ""
          }
        },
        "6a187c4c5999461a9c653b93c886fb39": {
          "model_module": "@jupyter-widgets/base",
          "model_name": "LayoutModel",
          "model_module_version": "1.2.0",
          "state": {
            "_model_module": "@jupyter-widgets/base",
            "_model_module_version": "1.2.0",
            "_model_name": "LayoutModel",
            "_view_count": null,
            "_view_module": "@jupyter-widgets/base",
            "_view_module_version": "1.2.0",
            "_view_name": "LayoutView",
            "align_content": null,
            "align_items": null,
            "align_self": null,
            "border": null,
            "bottom": null,
            "display": null,
            "flex": null,
            "flex_flow": null,
            "grid_area": null,
            "grid_auto_columns": null,
            "grid_auto_flow": null,
            "grid_auto_rows": null,
            "grid_column": null,
            "grid_gap": null,
            "grid_row": null,
            "grid_template_areas": null,
            "grid_template_columns": null,
            "grid_template_rows": null,
            "height": null,
            "justify_content": null,
            "justify_items": null,
            "left": null,
            "margin": null,
            "max_height": null,
            "max_width": null,
            "min_height": null,
            "min_width": null,
            "object_fit": null,
            "object_position": null,
            "order": null,
            "overflow": null,
            "overflow_x": null,
            "overflow_y": null,
            "padding": null,
            "right": null,
            "top": null,
            "visibility": null,
            "width": null
          }
        },
        "a0a77afac2f94af4b68fdebaf3ea4384": {
          "model_module": "@jupyter-widgets/controls",
          "model_name": "DescriptionStyleModel",
          "model_module_version": "1.5.0",
          "state": {
            "_model_module": "@jupyter-widgets/controls",
            "_model_module_version": "1.5.0",
            "_model_name": "DescriptionStyleModel",
            "_view_count": null,
            "_view_module": "@jupyter-widgets/base",
            "_view_module_version": "1.2.0",
            "_view_name": "StyleView",
            "description_width": ""
          }
        },
        "4fb22149260b400fb05b5c25052c3436": {
          "model_module": "@jupyter-widgets/controls",
          "model_name": "HBoxModel",
          "model_module_version": "1.5.0",
          "state": {
            "_dom_classes": [],
            "_model_module": "@jupyter-widgets/controls",
            "_model_module_version": "1.5.0",
            "_model_name": "HBoxModel",
            "_view_count": null,
            "_view_module": "@jupyter-widgets/controls",
            "_view_module_version": "1.5.0",
            "_view_name": "HBoxView",
            "box_style": "",
            "children": [
              "IPY_MODEL_27388f8bf3a9431f9a3673bc54d55141",
              "IPY_MODEL_c454214fcb224f30b23920508405f479",
              "IPY_MODEL_879a03e9ab4e4231809a53fc85e329fd"
            ],
            "layout": "IPY_MODEL_6eccd9c499bc4051a8ef8fb3b994516f"
          }
        },
        "27388f8bf3a9431f9a3673bc54d55141": {
          "model_module": "@jupyter-widgets/controls",
          "model_name": "HTMLModel",
          "model_module_version": "1.5.0",
          "state": {
            "_dom_classes": [],
            "_model_module": "@jupyter-widgets/controls",
            "_model_module_version": "1.5.0",
            "_model_name": "HTMLModel",
            "_view_count": null,
            "_view_module": "@jupyter-widgets/controls",
            "_view_module_version": "1.5.0",
            "_view_name": "HTMLView",
            "description": "",
            "description_tooltip": null,
            "layout": "IPY_MODEL_36cea72c31fb4f21a45803dfd02fe72f",
            "placeholder": "​",
            "style": "IPY_MODEL_f0a2ca80c055490f9e236df0a2b310a9",
            "value": "tokenizer.json: 100%"
          }
        },
        "c454214fcb224f30b23920508405f479": {
          "model_module": "@jupyter-widgets/controls",
          "model_name": "FloatProgressModel",
          "model_module_version": "1.5.0",
          "state": {
            "_dom_classes": [],
            "_model_module": "@jupyter-widgets/controls",
            "_model_module_version": "1.5.0",
            "_model_name": "FloatProgressModel",
            "_view_count": null,
            "_view_module": "@jupyter-widgets/controls",
            "_view_module_version": "1.5.0",
            "_view_name": "ProgressView",
            "bar_style": "success",
            "description": "",
            "description_tooltip": null,
            "layout": "IPY_MODEL_9db839401e294707b1e9d40425faac1f",
            "max": 466062,
            "min": 0,
            "orientation": "horizontal",
            "style": "IPY_MODEL_b9f2c0ce70364560b25e89c934d5df3d",
            "value": 466062
          }
        },
        "879a03e9ab4e4231809a53fc85e329fd": {
          "model_module": "@jupyter-widgets/controls",
          "model_name": "HTMLModel",
          "model_module_version": "1.5.0",
          "state": {
            "_dom_classes": [],
            "_model_module": "@jupyter-widgets/controls",
            "_model_module_version": "1.5.0",
            "_model_name": "HTMLModel",
            "_view_count": null,
            "_view_module": "@jupyter-widgets/controls",
            "_view_module_version": "1.5.0",
            "_view_name": "HTMLView",
            "description": "",
            "description_tooltip": null,
            "layout": "IPY_MODEL_56342c30de844e5fa9dd97e419e32097",
            "placeholder": "​",
            "style": "IPY_MODEL_7dedc6905ee247b7b3404741fad5b1ba",
            "value": " 466k/466k [00:00&lt;00:00, 1.96MB/s]"
          }
        },
        "6eccd9c499bc4051a8ef8fb3b994516f": {
          "model_module": "@jupyter-widgets/base",
          "model_name": "LayoutModel",
          "model_module_version": "1.2.0",
          "state": {
            "_model_module": "@jupyter-widgets/base",
            "_model_module_version": "1.2.0",
            "_model_name": "LayoutModel",
            "_view_count": null,
            "_view_module": "@jupyter-widgets/base",
            "_view_module_version": "1.2.0",
            "_view_name": "LayoutView",
            "align_content": null,
            "align_items": null,
            "align_self": null,
            "border": null,
            "bottom": null,
            "display": null,
            "flex": null,
            "flex_flow": null,
            "grid_area": null,
            "grid_auto_columns": null,
            "grid_auto_flow": null,
            "grid_auto_rows": null,
            "grid_column": null,
            "grid_gap": null,
            "grid_row": null,
            "grid_template_areas": null,
            "grid_template_columns": null,
            "grid_template_rows": null,
            "height": null,
            "justify_content": null,
            "justify_items": null,
            "left": null,
            "margin": null,
            "max_height": null,
            "max_width": null,
            "min_height": null,
            "min_width": null,
            "object_fit": null,
            "object_position": null,
            "order": null,
            "overflow": null,
            "overflow_x": null,
            "overflow_y": null,
            "padding": null,
            "right": null,
            "top": null,
            "visibility": null,
            "width": null
          }
        },
        "36cea72c31fb4f21a45803dfd02fe72f": {
          "model_module": "@jupyter-widgets/base",
          "model_name": "LayoutModel",
          "model_module_version": "1.2.0",
          "state": {
            "_model_module": "@jupyter-widgets/base",
            "_model_module_version": "1.2.0",
            "_model_name": "LayoutModel",
            "_view_count": null,
            "_view_module": "@jupyter-widgets/base",
            "_view_module_version": "1.2.0",
            "_view_name": "LayoutView",
            "align_content": null,
            "align_items": null,
            "align_self": null,
            "border": null,
            "bottom": null,
            "display": null,
            "flex": null,
            "flex_flow": null,
            "grid_area": null,
            "grid_auto_columns": null,
            "grid_auto_flow": null,
            "grid_auto_rows": null,
            "grid_column": null,
            "grid_gap": null,
            "grid_row": null,
            "grid_template_areas": null,
            "grid_template_columns": null,
            "grid_template_rows": null,
            "height": null,
            "justify_content": null,
            "justify_items": null,
            "left": null,
            "margin": null,
            "max_height": null,
            "max_width": null,
            "min_height": null,
            "min_width": null,
            "object_fit": null,
            "object_position": null,
            "order": null,
            "overflow": null,
            "overflow_x": null,
            "overflow_y": null,
            "padding": null,
            "right": null,
            "top": null,
            "visibility": null,
            "width": null
          }
        },
        "f0a2ca80c055490f9e236df0a2b310a9": {
          "model_module": "@jupyter-widgets/controls",
          "model_name": "DescriptionStyleModel",
          "model_module_version": "1.5.0",
          "state": {
            "_model_module": "@jupyter-widgets/controls",
            "_model_module_version": "1.5.0",
            "_model_name": "DescriptionStyleModel",
            "_view_count": null,
            "_view_module": "@jupyter-widgets/base",
            "_view_module_version": "1.2.0",
            "_view_name": "StyleView",
            "description_width": ""
          }
        },
        "9db839401e294707b1e9d40425faac1f": {
          "model_module": "@jupyter-widgets/base",
          "model_name": "LayoutModel",
          "model_module_version": "1.2.0",
          "state": {
            "_model_module": "@jupyter-widgets/base",
            "_model_module_version": "1.2.0",
            "_model_name": "LayoutModel",
            "_view_count": null,
            "_view_module": "@jupyter-widgets/base",
            "_view_module_version": "1.2.0",
            "_view_name": "LayoutView",
            "align_content": null,
            "align_items": null,
            "align_self": null,
            "border": null,
            "bottom": null,
            "display": null,
            "flex": null,
            "flex_flow": null,
            "grid_area": null,
            "grid_auto_columns": null,
            "grid_auto_flow": null,
            "grid_auto_rows": null,
            "grid_column": null,
            "grid_gap": null,
            "grid_row": null,
            "grid_template_areas": null,
            "grid_template_columns": null,
            "grid_template_rows": null,
            "height": null,
            "justify_content": null,
            "justify_items": null,
            "left": null,
            "margin": null,
            "max_height": null,
            "max_width": null,
            "min_height": null,
            "min_width": null,
            "object_fit": null,
            "object_position": null,
            "order": null,
            "overflow": null,
            "overflow_x": null,
            "overflow_y": null,
            "padding": null,
            "right": null,
            "top": null,
            "visibility": null,
            "width": null
          }
        },
        "b9f2c0ce70364560b25e89c934d5df3d": {
          "model_module": "@jupyter-widgets/controls",
          "model_name": "ProgressStyleModel",
          "model_module_version": "1.5.0",
          "state": {
            "_model_module": "@jupyter-widgets/controls",
            "_model_module_version": "1.5.0",
            "_model_name": "ProgressStyleModel",
            "_view_count": null,
            "_view_module": "@jupyter-widgets/base",
            "_view_module_version": "1.2.0",
            "_view_name": "StyleView",
            "bar_color": null,
            "description_width": ""
          }
        },
        "56342c30de844e5fa9dd97e419e32097": {
          "model_module": "@jupyter-widgets/base",
          "model_name": "LayoutModel",
          "model_module_version": "1.2.0",
          "state": {
            "_model_module": "@jupyter-widgets/base",
            "_model_module_version": "1.2.0",
            "_model_name": "LayoutModel",
            "_view_count": null,
            "_view_module": "@jupyter-widgets/base",
            "_view_module_version": "1.2.0",
            "_view_name": "LayoutView",
            "align_content": null,
            "align_items": null,
            "align_self": null,
            "border": null,
            "bottom": null,
            "display": null,
            "flex": null,
            "flex_flow": null,
            "grid_area": null,
            "grid_auto_columns": null,
            "grid_auto_flow": null,
            "grid_auto_rows": null,
            "grid_column": null,
            "grid_gap": null,
            "grid_row": null,
            "grid_template_areas": null,
            "grid_template_columns": null,
            "grid_template_rows": null,
            "height": null,
            "justify_content": null,
            "justify_items": null,
            "left": null,
            "margin": null,
            "max_height": null,
            "max_width": null,
            "min_height": null,
            "min_width": null,
            "object_fit": null,
            "object_position": null,
            "order": null,
            "overflow": null,
            "overflow_x": null,
            "overflow_y": null,
            "padding": null,
            "right": null,
            "top": null,
            "visibility": null,
            "width": null
          }
        },
        "7dedc6905ee247b7b3404741fad5b1ba": {
          "model_module": "@jupyter-widgets/controls",
          "model_name": "DescriptionStyleModel",
          "model_module_version": "1.5.0",
          "state": {
            "_model_module": "@jupyter-widgets/controls",
            "_model_module_version": "1.5.0",
            "_model_name": "DescriptionStyleModel",
            "_view_count": null,
            "_view_module": "@jupyter-widgets/base",
            "_view_module_version": "1.2.0",
            "_view_name": "StyleView",
            "description_width": ""
          }
        }
      }
    }
  },
  "nbformat": 4,
  "nbformat_minor": 0
}